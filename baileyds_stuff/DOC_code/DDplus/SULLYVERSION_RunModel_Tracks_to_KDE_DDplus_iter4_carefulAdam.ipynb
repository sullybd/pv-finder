{
 "cells": [
  {
   "cell_type": "code",
   "execution_count": 1,
   "metadata": {},
   "outputs": [],
   "source": [
    "##%matplotlib widget\n",
    "## with %matplotlib notebook: seems to require ipympl as part of environment, either\n",
    "## part of the conda environment or \"pip install ipympl\"\n",
    "## otherwise, does not show ANY plots in note\"book, plt.savefig() works\n",
    "%matplotlib notebook  \n",
    "##%matplotlib inline    ## --plt.savefig()  works, but re-sizing does NOT\n"
   ]
  },
  {
   "cell_type": "markdown",
   "metadata": {},
   "source": [
    "This notebook is the second attempt to read in track information and use it to predict the KDE used as input to PvFinder. This time, we are reading in poca KDEs rather than the original KDEs. \n",
    "\n",
    "collectdata_kde_C.py uses poca_z, poca_x, poca_y, major_axis_x, major_axis_y, and major_axis_z as the six track parameters (for the moment)\n"
   ]
  },
  {
   "cell_type": "markdown",
   "metadata": {},
   "source": [
    "Check the current GPU usage. Please try to be nice!"
   ]
  },
  {
   "cell_type": "code",
   "execution_count": 2,
   "metadata": {},
   "outputs": [
    {
     "name": "stdout",
     "output_type": "stream",
     "text": [
      "Sun Aug 29 20:26:37 2021       \n",
      "+-----------------------------------------------------------------------------+\n",
      "| NVIDIA-SMI 470.42.01    Driver Version: 470.42.01    CUDA Version: 11.4     |\n",
      "|-------------------------------+----------------------+----------------------+\n",
      "| GPU  Name        Persistence-M| Bus-Id        Disp.A | Volatile Uncorr. ECC |\n",
      "| Fan  Temp  Perf  Pwr:Usage/Cap|         Memory-Usage | GPU-Util  Compute M. |\n",
      "|                               |                      |               MIG M. |\n",
      "|===============================+======================+======================|\n",
      "|   0  NVIDIA TITAN V      Off  | 00000000:03:00.0 Off |                  N/A |\n",
      "| 43%   61C    P2   114W / 250W |   8775MiB / 12066MiB |     81%      Default |\n",
      "|                               |                      |                  N/A |\n",
      "+-------------------------------+----------------------+----------------------+\n",
      "|   1  Tesla P100-PCIE...  Off  | 00000000:83:00.0 Off |                    0 |\n",
      "| N/A   79C    P0   113W / 250W |   5977MiB / 16280MiB |     88%      Default |\n",
      "|                               |                      |                  N/A |\n",
      "+-------------------------------+----------------------+----------------------+\n",
      "|   2  NVIDIA TITAN V      Off  | 00000000:84:00.0 Off |                  N/A |\n",
      "| 53%   74C    P2   135W / 250W |   3841MiB / 12066MiB |     70%      Default |\n",
      "|                               |                      |                  N/A |\n",
      "+-------------------------------+----------------------+----------------------+\n",
      "                                                                               \n",
      "+-----------------------------------------------------------------------------+\n",
      "| Processes:                                                                  |\n",
      "|  GPU   GI   CI        PID   Type   Process name                  GPU Memory |\n",
      "|        ID   ID                                                   Usage      |\n",
      "|=============================================================================|\n",
      "|    0   N/A  N/A      5950      C   ...oofit-june2020/bin/python     3713MiB |\n",
      "|    0   N/A  N/A     21828      C   ...oofit-june2020/bin/python     3775MiB |\n",
      "|    0   N/A  N/A     41759      C   ...oofit-june2020/bin/python     1283MiB |\n",
      "|    1   N/A  N/A     41759      C   ...oofit-june2020/bin/python     5975MiB |\n",
      "|    2   N/A  N/A      4450      C   ...oofit-june2020/bin/python     3837MiB |\n",
      "+-----------------------------------------------------------------------------+\n"
     ]
    }
   ],
   "source": [
    "!nvidia-smi"
   ]
  },
  {
   "cell_type": "markdown",
   "metadata": {},
   "source": [
    "> **WARNING**: The card numbers here are *not* the same as in CUDA. You have been warned."
   ]
  },
  {
   "cell_type": "markdown",
   "metadata": {},
   "source": [
    "This notebook is first attempt to read in track information and use it to predict the KDE used as input to PvFinder.\n"
   ]
  },
  {
   "cell_type": "markdown",
   "metadata": {},
   "source": [
    "## Imports"
   ]
  },
  {
   "cell_type": "code",
   "execution_count": 3,
   "metadata": {},
   "outputs": [],
   "source": [
    "import matplotlib.pyplot as plt\n",
    "import numpy as np\n",
    "import time\n",
    "import torch\n",
    "import pandas as pd\n",
    "\n",
    "# Python 3 standard library\n",
    "from pathlib import Path\n",
    "\n",
    "##from torchsummary import summary"
   ]
  },
  {
   "cell_type": "markdown",
   "metadata": {},
   "source": [
    "### Set up local parameters"
   ]
  },
  {
   "cell_type": "code",
   "execution_count": 4,
   "metadata": {},
   "outputs": [],
   "source": [
    "n_epochs = 400\n",
    "\n",
    "# Name is the output file name\n",
    "\n",
    "\n",
    "##  201027 -- about to go to bed, so try 2500 epochs with lr = 1e55\n",
    "##  previous iteration had l4 = 3e-5 and cost dropped almost linearly\n",
    "##  for 100 epochs -- final training costs ~ 2.02, validation cost ~ 2.01\n",
    "\n",
    "## for iter 4, try 10 epochs with lr = 3e-6\n",
    "## usually have a big jump down at epoch 0; want to try a\n",
    "## small number of epochs per iteration and see what happens (iter4: 10 epochs gave\n",
    "## traiing cost dropping from 1.54 to 1.50 immediately, then dropping very slowly)\n",
    "folder = 'baileyds400ep_DDplus_iter4_carefulAdam'\n",
    "name   = folder\n",
    "\n",
    "# Make an output folder named \"name\" (change if you want)\n",
    "\n",
    "## Special instructions for those working on goofy at UC\n",
    "## Please be very careful to make sure that your folder\n",
    "## does not live in a subdirectory of your home directory\n",
    "## this disk has very little capacity. Instead, use \n",
    "## a subdirectory in /share/lazy with a symbolic link to\n",
    "## it in this (the notebooks) subdirectory\n",
    "folder = 'baileyds/DDplus/' + folder\n",
    "output = Path(folder)\n",
    "\n",
    "\n",
    "# Size of batches\n",
    "batch_size = 16 ## was 64\n",
    "# How fast to learn\n",
    "learning_rate = 1e-4"
   ]
  },
  {
   "cell_type": "markdown",
   "metadata": {},
   "source": [
    "Make the output directory if it does not exist:"
   ]
  },
  {
   "cell_type": "code",
   "execution_count": 5,
   "metadata": {},
   "outputs": [],
   "source": [
    "output.mkdir(exist_ok=True)"
   ]
  },
  {
   "cell_type": "markdown",
   "metadata": {},
   "source": [
    "## Get the helper functions\n",
    "\n",
    "Add the directory with the model\n",
    "definitions to the path so we can import from it:\n",
    "\n",
    "> When you type `import X`,\n",
    "Python searches `sys.path` for a python\n",
    "file named `X.py` to import. So we need to add the model directory to the path."
   ]
  },
  {
   "cell_type": "code",
   "execution_count": 6,
   "metadata": {
    "scrolled": true
   },
   "outputs": [],
   "source": [
    "# From model/collectdata.py\n",
    "##from model.collectdata_kde_B import collect_t2kde_data\n",
    "## collectdata_kde_C should use the new poca KDE rather than the original kernel KDE\n",
    "from model.collectdata_kde_Ellipsoids import collect_t2kde_data\n",
    "\n",
    "\n",
    "# From model/loss.py\n",
    "##from loss import Loss\n",
    "## kde_loss_D includes botha ratio term and a chisq term, 98% ave_chisq\n",
    "## kde_loss_E adds a chi^4 term to the kde_loss_D return value\n",
    "## this is intended to emphasize the importance of values significantly different than zero\n",
    "from model.kde_loss_Ba import Loss\n",
    "\n",
    "##  TracksToKDE_Ellipsoids_SevenLayerCake has 7 hidden layers producing the 4000-bin KDE historgram\n",
    "##  It takes 9 input features (pocca centers + (A,B,C,D,E,F) . \n",
    "from model.models_kde import TracksToKDE_Ellipsoids_DDplus as Model\n",
    "\n",
    "\n",
    "from model.training_kde import trainNet, select_gpu, Results\n",
    "from functions.my_training_kde import carefultrainNet\n",
    "from model.plots import dual_train_plots, replace_in_ax"
   ]
  },
  {
   "cell_type": "code",
   "execution_count": 7,
   "metadata": {},
   "outputs": [],
   "source": [
    "# This gets built up during the run - do not rerun this cell\n",
    "results = pd.DataFrame([], columns=Results._fields)\n",
    "# my entry \n",
    "from functions.utils import get_param_state\n",
    "param_states = []"
   ]
  },
  {
   "cell_type": "markdown",
   "metadata": {},
   "source": [
    "Set up Torch device configuration. All tensors and model parameters need to know where to be put.\n",
    "This takes a BUS ID number: The BUS ID is the same as the listing at the top of this script."
   ]
  },
  {
   "cell_type": "code",
   "execution_count": 8,
   "metadata": {},
   "outputs": [],
   "source": [
    "device = \"cuda:2\"#select_gpu(0)\n",
    "##device = \"cpu\""
   ]
  },
  {
   "cell_type": "markdown",
   "metadata": {},
   "source": [
    "## Loading data\n",
    "\n",
    "Load the dataset, split into parts, then move to device (see `collectdata.py` in the `../model` directory)"
   ]
  },
  {
   "cell_type": "markdown",
   "metadata": {},
   "source": [
    "# Preparing the model"
   ]
  },
  {
   "cell_type": "markdown",
   "metadata": {},
   "source": [
    "Prepare a model, use multiple GPUs if they are VISIBLE, and move the model to the device."
   ]
  },
  {
   "cell_type": "code",
   "execution_count": 9,
   "metadata": {
    "scrolled": true
   },
   "outputs": [],
   "source": [
    "##print(\"Let's use\", torch.cuda.device_count(), \"GPUs!\")\n",
    "##if torch.cuda.device_count() > 1:\n",
    "##    model = torch.nn.DataParallel(model)"
   ]
  },
  {
   "cell_type": "code",
   "execution_count": 10,
   "metadata": {},
   "outputs": [
    {
     "name": "stdout",
     "output_type": "stream",
     "text": [
      "ct, child =  0    Linear(in_features=9, out_features=50, bias=True)\n",
      "ct, child =  1    Linear(in_features=50, out_features=50, bias=True)\n",
      "ct, child =  2    Linear(in_features=50, out_features=50, bias=True)\n",
      "ct, child =  3    Linear(in_features=50, out_features=50, bias=True)\n",
      "ct, child =  4    Linear(in_features=50, out_features=50, bias=True)\n",
      "ct, child =  5    Linear(in_features=50, out_features=50, bias=True)\n",
      "ct, child =  6    Linear(in_features=50, out_features=50, bias=True)\n",
      "ct, child =  7    Linear(in_features=50, out_features=50, bias=True)\n",
      "ct, child =  8    Linear(in_features=50, out_features=50, bias=True)\n",
      "ct, child =  9    Linear(in_features=50, out_features=50, bias=True)\n",
      "ct, child =  10    Linear(in_features=50, out_features=50, bias=True)\n",
      "ct, child =  11    Linear(in_features=50, out_features=16000, bias=True)\n",
      "ct, child =  12    Conv1d(4, 25, kernel_size=(25,), stride=(1,), padding=(12,))\n",
      "ct, child =  13    Conv1d(25, 1, kernel_size=(5,), stride=(1,), padding=(2,))\n",
      "ct, child =  14    Linear(in_features=4000, out_features=4000, bias=True)\n",
      "ct, child =  15    Conv1d(25, 1, kernel_size=(15,), stride=(1,), padding=(7,))\n",
      "ct, child =  16    Dropout(p=0.15, inplace=False)\n",
      "ct, child =  17    Dropout(p=0.15, inplace=False)\n"
     ]
    }
   ],
   "source": [
    "## a comment on the web at https://pytorch.org/docs/stable/optim.html says\n",
    "\"\"\"\n",
    "If you need to move a model to GPU via .cuda(), please do so before constructing optimizers for it. \n",
    "Parameters of a model after .cuda() will be different objects with those before the call.\n",
    "\n",
    "In general, you should make sure that optimized parameters live in consistent locations when \n",
    "optimizers are constructed and used.\n",
    "\"\"\"\n",
    "## so move this here (although we are using model.to(device) not explicitly using .cuda()\n",
    "\n",
    "nOut1 = 50\n",
    "nOut2 = 50\n",
    "nOut3 = 50\n",
    "nOut4 = 50\n",
    "nOut5 = 50\n",
    "nOut6 = 50\n",
    "nOut7 = 50\n",
    "nOut8 = 50\n",
    "nOut9 = 50\n",
    "nOut10 = 50\n",
    "nOut11 = 50\n",
    "latentChannels = 4\n",
    "model = Model(nOut1,nOut2,nOut3,nOut4,nOut5,nOut6,nOut7,nOut8,nOut9,nOut10,nOut11,latentChannels)\n",
    "\n",
    "##summary(model, input_size=(4, 4000))\n",
    "##print(model.parameters)\n",
    "\n",
    "## add the following code to allow the user to freeze the some of the weights corresponding \n",
    "## to those taken from an earlier model trained with the original target histograms\n",
    "## presumably -- this leaves either the perturbative filter \"fixed\" and lets the \n",
    "## learning focus on the non-perturbative features, so get started faster, or vice versa\n",
    "ct = 0\n",
    "for child in model.children():\n",
    "  print('ct, child = ',ct, \"  \", child)\n",
    "  if ct < 0:\n",
    "    print(\"     About to set param.requires_grad=False for ct = \", ct, \"params\")\n",
    "    for param in child.parameters():\n",
    "        param.requires_grad = False \n",
    "  ct += 1\n",
    "##  mds 200121 loss = Loss(epsilon=1e-5,coefficient=1.0)\n",
    "##  loss = Loss(epsilon=1e-5,coefficient=2.5)\n",
    "##loss = Loss(epsilon=3e-5, debug=False)\n",
    "loss = Loss(epsilon=3e-5)"
   ]
  },
  {
   "cell_type": "markdown",
   "metadata": {},
   "source": [
    "Let's move the model's weight matricies to the GPU:"
   ]
  },
  {
   "cell_type": "code",
   "execution_count": 11,
   "metadata": {
    "scrolled": true
   },
   "outputs": [],
   "source": [
    "model = model.to(device)"
   ]
  },
  {
   "cell_type": "code",
   "execution_count": 12,
   "metadata": {
    "scrolled": true
   },
   "outputs": [],
   "source": [
    "from functions.mod_adam import Reversible_Adam\n",
    "optimizer = Reversible_Adam(model.parameters(), lr=learning_rate)\n",
    "##optimizer = torch.optim.SGD(model.parameters(), lr=learning_rate)"
   ]
  },
  {
   "cell_type": "code",
   "execution_count": 13,
   "metadata": {
    "scrolled": true
   },
   "outputs": [
    {
     "name": "stdout",
     "output_type": "stream",
     "text": [
      "output =  baileyds/DDplus/baileyds400ep_DDplus_iter4_carefulAdam\n",
      "for model_dict\n",
      "index, k =   0    layer1.weight\n",
      "index, k =   1    layer1.bias\n",
      "index, k =   2    layer2.weight\n",
      "index, k =   3    layer2.bias\n",
      "index, k =   4    layer3.weight\n",
      "index, k =   5    layer3.bias\n",
      "index, k =   6    layer4.weight\n",
      "index, k =   7    layer4.bias\n",
      "index, k =   8    layer5.weight\n",
      "index, k =   9    layer5.bias\n",
      "index, k =   10    layer6.weight\n",
      "index, k =   11    layer6.bias\n",
      "index, k =   12    layer7.weight\n",
      "index, k =   13    layer7.bias\n",
      "index, k =   14    layer8.weight\n",
      "index, k =   15    layer8.bias\n",
      "index, k =   16    layer9.weight\n",
      "index, k =   17    layer9.bias\n",
      "index, k =   18    layer10.weight\n",
      "index, k =   19    layer10.bias\n",
      "index, k =   20    layer11.weight\n",
      "index, k =   21    layer11.bias\n",
      "index, k =   22    layer12new.weight\n",
      "index, k =   23    layer12new.bias\n",
      "index, k =   24    conv1.weight\n",
      "index, k =   25    conv1.bias\n",
      "index, k =   26    conv2.weight\n",
      "index, k =   27    conv2.bias\n",
      "index, k =   28    fc1.weight\n",
      "index, k =   29    fc1.bias\n",
      "index, k =   30    finalFilter.weight\n",
      "index, k =   31    finalFilter.bias\n",
      "dict_name =  baileyds/DDplus/baileyds200ep_DDplus_iter3/baileyds200ep_DDplus_iter3_final.pyt\n"
     ]
    }
   ],
   "source": [
    "print('output = ',output)\n",
    "##print('oldOutput = ',oldOutput)\n",
    "##  use the first four layers from a pre-existing model\n",
    "##  see example at https://discuss.pytorch.org/t/how-to-load-part-of-pre-trained-model/1113\n",
    "\n",
    "##   ML -> /share/lazy/sokoloff/ML\n",
    "model_dict = model.state_dict()\n",
    "## mds 190725 for debugging\n",
    "print(\"for model_dict\")\n",
    "index = 0\n",
    "for k,v in model_dict.items():\n",
    "    print(\"index, k =  \",index,\"  \",k)\n",
    "    index = index+1\n",
    "##    print(\"value = \", v)\n",
    " \n",
    "updated_dict = model_dict\n",
    "##print(\"updated_dict = \",updated_dict)\n",
    "## when starting \"ab initio\", reduce biases as the bias gets summed for each track\n",
    "## contributing to the predicted KDE\n",
    "updated_dict[\"layer1.bias\"] = 0.005*model_dict[\"layer1.bias\"]\n",
    "updated_dict[\"layer2.bias\"] = 0.005*model_dict[\"layer2.bias\"]\n",
    "updated_dict[\"layer3.bias\"] = 0.005*model_dict[\"layer3.bias\"]\n",
    "updated_dict[\"layer4.bias\"] = 0.005*model_dict[\"layer4.bias\"]\n",
    "updated_dict[\"layer5.bias\"] = 0.005*model_dict[\"layer5.bias\"]\n",
    "updated_dict[\"layer6.bias\"] = 0.005*model_dict[\"layer6.bias\"]\n",
    "updated_dict[\"layer7.bias\"] = 0.005*model_dict[\"layer7.bias\"]\n",
    "updated_dict[\"layer8.bias\"] = 0.005*model_dict[\"layer8.bias\"]\n",
    "updated_dict[\"layer9.bias\"] = 0.005*model_dict[\"layer9.bias\"]\n",
    "updated_dict[\"layer10.bias\"] = 0.005*model_dict[\"layer10.bias\"]\n",
    "updated_dict[\"layer11.bias\"] = 0.005*model_dict[\"layer11.bias\"]\n",
    "\n",
    "model.load_state_dict(updated_dict,strict=False)\n",
    "\n",
    "model_dict = model.state_dict()\n",
    "##print(\"updated model_dict = \",model_dict)\n",
    "\n",
    "## print(\" \\n\",\"  for pretrained_dict\")\n",
    "## index = 0\n",
    "##for k,v in pretrained_dict.items():\n",
    "##    print(\"index, k =  \",index,\"  \",k)\n",
    "##    index = index+1\n",
    "## mds  \n",
    "\n",
    "##pretrained_dict = torch.load('ML/29July2020_Trks_to_KDE_C_lossB_100epochs_b64_1m3_nOut_50x50/29July2020_Trks_to_KDE_C_lossB_100epochs_b64_1m3_nOut_50x50_final.pyt')\n",
    "##print(\"model_dict instantiated\")\n",
    "# 1. filter out unnecessary keys\n",
    "##pretrained_dict = {k: v for k, v in pretrained_dict.items() if k in model_dict}\n",
    "##print(\"pretrained_dict iterated\")\n",
    "# 2. overwrite entries in the existing state dict\n",
    "##model_dict.update(pretrained_dict) \n",
    "##\n",
    "#   when starting from a model with a fully connected last layer rather than a convolutional layer\n",
    "# 3. load the new state dict\n",
    "#   need to use strict=False as the two models state model attributes do not agree exactly\n",
    "#   see https://pytorch.org/docs/master/_modules/torch/nn/modules/module.html#Module.load_state_dict\n",
    "\n",
    "##model.load_state_dict(pretrained_dict,strict=False)\n",
    "\n",
    "## print('model_dict =    ', model_dict)\n",
    "\n",
    "# ## finished at training cost = 1.46, validation cost = 1.50\n",
    "d_folder = 'baileyds200ep_DDplus_iter3'\n",
    "d_name = d_folder\n",
    "suffix = 'final'\n",
    "dict_name = 'baileyds/DDplus/' + d_folder + '/' + d_name + '_'+ suffix + '.pyt'\n",
    "print('dict_name = ',dict_name)\n",
    "pretrained_dict = torch.load(dict_name)\n",
    "\n",
    "# print(\" \")\n",
    "# print(\"  for pretrained_dict\")\n",
    "# index = 0\n",
    "# for k,v in pretrained_dict.items():\n",
    "#     print(\"index, k =  \",index,\"  \",k)\n",
    "#     index = index+1\n",
    " \n",
    "\n",
    "# ##print(\"model_dict instantiated\")\n",
    "# # 1. filter out unnecessary keys\n",
    "# pretrained_dict = {k: v for k, v in pretrained_dict.items() if k in model_dict}\n",
    "# print(\"pretrained_dict iterated\")\n",
    "# # 2. overwrite entries in the existing state dict\n",
    "# model_dict.update(pretrained_dict) \n",
    "# ##\n",
    "# #   when starting from a model with a fully connected last layer rather than a convolutional layer\n",
    "# # 3. load the new state dict\n",
    "# #   need to use strict=False as the two models state model attributes do not agree exactly\n",
    "# #   see https://pytorch.org/docs/master/_modules/torch/nn/modules/module.html#Module.load_state_dict\n",
    "\n",
    "model.load_state_dict(pretrained_dict,strict=False)\n",
    "\n",
    "#mine\n",
    "param_states.append(get_param_state(model))\n"
   ]
  },
  {
   "cell_type": "code",
   "execution_count": 14,
   "metadata": {},
   "outputs": [],
   "source": [
    "##print('validation.dataset.tensors = ',validation.dataset.tensors)\n",
    "fig_size = plt.rcParams[\"figure.figsize\"]\n",
    "fig_size[0] = 10\n",
    "fig_size[1] = 4\n",
    "plt.rcParams[\"figure.figsize\"] = fig_size"
   ]
  },
  {
   "cell_type": "code",
   "execution_count": 15,
   "metadata": {
    "scrolled": true
   },
   "outputs": [
    {
     "name": "stdout",
     "output_type": "stream",
     "text": [
      "Loading data...\n",
      "pocaMx.shape =  (20000,)\n",
      "nEvts =  20000\n",
      "len(pocaMx[0]) =  211\n",
      "len(pocaMx[1]) =  21\n",
      "len(pocaMx[2]) =  20\n",
      "len(pocaMx[3]) =  198\n",
      "len(pocaMx[4]) =  233\n",
      "majorAxis.shape =  (20000, 3)\n",
      "minorAxis_1.shape =  (20000, 3)\n",
      "minorAxis_2.shape =  (20000, 3)\n",
      "have entered six_ellipsoid_parameters\n",
      "  \n",
      " \n",
      "  nEvts =  20000\n",
      " iEvt, nTrks =  0 211\n",
      " iEvt, nTrks =  1 21\n",
      " iEvt, nTrks =  2 20\n",
      " iEvt, nTrks =  3 198\n",
      " iEvt, nTrks =  4 233\n",
      " iEvt, nTrks =  5 85\n",
      " iEvt, nTrks =  6 223\n",
      " iEvt, nTrks =  7 425\n",
      " iEvt, nTrks =  8 252\n",
      " iEvt, nTrks =  9 169\n",
      "A.shape =  (20000,)\n",
      "majorAxis[iTrk][0][0] =  -0.00023452607\n",
      "majorAxis[iTrk][1][0] =  -0.00047206535\n",
      "majorAxis[iTrk][2][0] =  0.096502915\n",
      "minorAxis_1[iTrk][0][0] =  -15.822749\n",
      "minorAxis_1[iTrk][1][0] =  7.8608756\n",
      "minorAxis_1[iTrk][2][0] =  -2.6228399e-08\n",
      "minorAxis_2[iTrk][0][0] =  7.860759\n",
      "minorAxis_2[iTrk][1][0] =  15.822513\n",
      "minorAxis_2[iTrk][2][0] =  0.096502915\n",
      "  \n",
      "majorAxis[iTrk][0][0] =  -0.37655562\n",
      "majorAxis[iTrk][1][0] =  0.2768704\n",
      "majorAxis[iTrk][2][0] =  2.8546858\n",
      "minorAxis_1[iTrk][0][0] =  -10.466048\n",
      "minorAxis_1[iTrk][1][0] =  -14.234274\n",
      "minorAxis_1[iTrk][2][0] =  2.2974699e-11\n",
      "minorAxis_2[iTrk][0][0] =  -14.04724\n",
      "minorAxis_2[iTrk][1][0] =  10.328527\n",
      "minorAxis_2[iTrk][2][0] =  -2.8546853\n",
      "  \n",
      "majorAxis[iTrk][0][0] =  -0.024279848\n",
      "majorAxis[iTrk][1][0] =  0.0019689242\n",
      "majorAxis[iTrk][2][0] =  0.65580803\n",
      "minorAxis_1[iTrk][0][0] =  -1.4280497\n",
      "minorAxis_1[iTrk][1][0] =  -17.610037\n",
      "minorAxis_1[iTrk][2][0] =  -6.123401e-10\n",
      "minorAxis_2[iTrk][0][0] =  -17.597902\n",
      "minorAxis_2[iTrk][1][0] =  1.4270656\n",
      "minorAxis_2[iTrk][2][0] =  -0.6558081\n",
      "  \n",
      "majorAxis[iTrk][0][0] =  -0.007825993\n",
      "majorAxis[iTrk][1][0] =  0.004052097\n",
      "majorAxis[iTrk][2][0] =  0.3945435\n",
      "minorAxis_1[iTrk][0][0] =  8.123606\n",
      "minorAxis_1[iTrk][1][0] =  15.689478\n",
      "minorAxis_1[iTrk][2][0] =  -2.4940747e-10\n",
      "minorAxis_2[iTrk][0][0] =  15.685566\n",
      "minorAxis_2[iTrk][1][0] =  -8.12158\n",
      "minorAxis_2[iTrk][2][0] =  0.3945435\n",
      "  \n",
      "majorAxis[iTrk][0][0] =  0.0046102717\n",
      "majorAxis[iTrk][1][0] =  -0.0016007021\n",
      "majorAxis[iTrk][2][0] =  0.29361814\n",
      "minorAxis_1[iTrk][0][0] =  -5.794979\n",
      "minorAxis_1[iTrk][1][0] =  -16.690445\n",
      "minorAxis_1[iTrk][2][0] =  2.4897104e-09\n",
      "minorAxis_2[iTrk][0][0] =  -16.688139\n",
      "minorAxis_2[iTrk][1][0] =  5.794179\n",
      "minorAxis_2[iTrk][2][0] =  0.2936181\n",
      "  \n",
      "majorAxis[iTrk][0][0] =  -0.00020041714\n",
      "majorAxis[iTrk][1][0] =  0.00010468164\n",
      "majorAxis[iTrk][2][0] =  0.06320469\n",
      "minorAxis_1[iTrk][0][0] =  8.179679\n",
      "minorAxis_1[iTrk][1][0] =  15.660318\n",
      "minorAxis_1[iTrk][2][0] =  7.40176e-08\n",
      "minorAxis_2[iTrk][0][0] =  15.660218\n",
      "minorAxis_2[iTrk][1][0] =  -8.179626\n",
      "minorAxis_2[iTrk][2][0] =  0.06320469\n",
      "  \n",
      "majorAxis[iTrk][0][0] =  -0.00020603223\n",
      "majorAxis[iTrk][1][0] =  -0.0005662605\n",
      "majorAxis[iTrk][2][0] =  0.10317981\n",
      "minorAxis_1[iTrk][0][0] =  -16.603\n",
      "minorAxis_1[iTrk][1][0] =  6.040953\n",
      "minorAxis_1[iTrk][2][0] =  4.5812504e-07\n",
      "minorAxis_2[iTrk][0][0] =  6.0408506\n",
      "minorAxis_2[iTrk][1][0] =  16.602718\n",
      "minorAxis_2[iTrk][2][0] =  0.10317982\n",
      "  \n",
      "majorAxis[iTrk][0][0] =  -0.00040561036\n",
      "majorAxis[iTrk][1][0] =  0.00014461782\n",
      "majorAxis[iTrk][2][0] =  0.0872241\n",
      "minorAxis_1[iTrk][0][0] =  -5.933496\n",
      "minorAxis_1[iTrk][1][0] =  -16.641706\n",
      "minorAxis_1[iTrk][2][0] =  1.0720762e-08\n",
      "minorAxis_2[iTrk][0][0] =  -16.641502\n",
      "minorAxis_2[iTrk][1][0] =  5.9334235\n",
      "minorAxis_2[iTrk][2][0] =  -0.0872241\n",
      "  \n",
      "majorAxis[iTrk][0][0] =  0.00038461428\n",
      "majorAxis[iTrk][1][0] =  -3.4232737e-05\n",
      "majorAxis[iTrk][2][0] =  0.08259597\n",
      "minorAxis_1[iTrk][0][0] =  -1.5663412\n",
      "minorAxis_1[iTrk][1][0] =  -17.598276\n",
      "minorAxis_1[iTrk][2][0] =  3.2106848e-07\n",
      "minorAxis_2[iTrk][0][0] =  -17.598082\n",
      "minorAxis_2[iTrk][1][0] =  1.5663238\n",
      "minorAxis_2[iTrk][2][0] =  0.08259596\n",
      "  \n",
      "majorAxis[iTrk][0][0] =  -0.022277953\n",
      "majorAxis[iTrk][1][0] =  -0.0046837274\n",
      "majorAxis[iTrk][2][0] =  0.63399464\n",
      "minorAxis_1[iTrk][0][0] =  -3.6350286\n",
      "minorAxis_1[iTrk][1][0] =  17.289862\n",
      "minorAxis_1[iTrk][2][0] =  9.566169e-10\n",
      "minorAxis_2[iTrk][0][0] =  17.278727\n",
      "minorAxis_2[iTrk][1][0] =  3.6326876\n",
      "minorAxis_2[iTrk][2][0] =  0.6339946\n",
      "  \n",
      "len(X) =  20000\n",
      "len(Xlist) =  1\n",
      "Loaded dataAA/20K_POCA_kernel_evts_200926.h5 in 42.47 s\n",
      "outer loop X.shape =  (20000, 9, 600)\n",
      "Constructing 18000 event dataset took 0.2321 s\n",
      "x_t.shape =  torch.Size([18000, 9, 600])\n",
      "x_t.shape[0] =  18000\n",
      "x_t.shape[1] =  9\n",
      "x_t.shape =  torch.Size([18000, 9, 600])\n",
      "Loading data...\n",
      "pocaMx.shape =  (20000,)\n",
      "nEvts =  20000\n",
      "len(pocaMx[0]) =  211\n",
      "len(pocaMx[1]) =  21\n",
      "len(pocaMx[2]) =  20\n",
      "len(pocaMx[3]) =  198\n",
      "len(pocaMx[4]) =  233\n",
      "majorAxis.shape =  (20000, 3)\n",
      "minorAxis_1.shape =  (20000, 3)\n",
      "minorAxis_2.shape =  (20000, 3)\n",
      "have entered six_ellipsoid_parameters\n",
      "  \n",
      " \n",
      "  nEvts =  20000\n",
      " iEvt, nTrks =  0 211\n",
      " iEvt, nTrks =  1 21\n",
      " iEvt, nTrks =  2 20\n",
      " iEvt, nTrks =  3 198\n",
      " iEvt, nTrks =  4 233\n",
      " iEvt, nTrks =  5 85\n",
      " iEvt, nTrks =  6 223\n",
      " iEvt, nTrks =  7 425\n",
      " iEvt, nTrks =  8 252\n",
      " iEvt, nTrks =  9 169\n",
      "A.shape =  (20000,)\n",
      "majorAxis[iTrk][0][0] =  -0.00023452607\n",
      "majorAxis[iTrk][1][0] =  -0.00047206535\n",
      "majorAxis[iTrk][2][0] =  0.096502915\n",
      "minorAxis_1[iTrk][0][0] =  -15.822749\n",
      "minorAxis_1[iTrk][1][0] =  7.8608756\n",
      "minorAxis_1[iTrk][2][0] =  -2.6228399e-08\n",
      "minorAxis_2[iTrk][0][0] =  7.860759\n",
      "minorAxis_2[iTrk][1][0] =  15.822513\n",
      "minorAxis_2[iTrk][2][0] =  0.096502915\n",
      "  \n",
      "majorAxis[iTrk][0][0] =  -0.37655562\n",
      "majorAxis[iTrk][1][0] =  0.2768704\n",
      "majorAxis[iTrk][2][0] =  2.8546858\n",
      "minorAxis_1[iTrk][0][0] =  -10.466048\n",
      "minorAxis_1[iTrk][1][0] =  -14.234274\n",
      "minorAxis_1[iTrk][2][0] =  2.2974699e-11\n",
      "minorAxis_2[iTrk][0][0] =  -14.04724\n",
      "minorAxis_2[iTrk][1][0] =  10.328527\n",
      "minorAxis_2[iTrk][2][0] =  -2.8546853\n",
      "  \n",
      "majorAxis[iTrk][0][0] =  -0.024279848\n",
      "majorAxis[iTrk][1][0] =  0.0019689242\n",
      "majorAxis[iTrk][2][0] =  0.65580803\n",
      "minorAxis_1[iTrk][0][0] =  -1.4280497\n",
      "minorAxis_1[iTrk][1][0] =  -17.610037\n",
      "minorAxis_1[iTrk][2][0] =  -6.123401e-10\n",
      "minorAxis_2[iTrk][0][0] =  -17.597902\n",
      "minorAxis_2[iTrk][1][0] =  1.4270656\n",
      "minorAxis_2[iTrk][2][0] =  -0.6558081\n",
      "  \n",
      "majorAxis[iTrk][0][0] =  -0.007825993\n",
      "majorAxis[iTrk][1][0] =  0.004052097\n",
      "majorAxis[iTrk][2][0] =  0.3945435\n",
      "minorAxis_1[iTrk][0][0] =  8.123606\n",
      "minorAxis_1[iTrk][1][0] =  15.689478\n",
      "minorAxis_1[iTrk][2][0] =  -2.4940747e-10\n",
      "minorAxis_2[iTrk][0][0] =  15.685566\n",
      "minorAxis_2[iTrk][1][0] =  -8.12158\n",
      "minorAxis_2[iTrk][2][0] =  0.3945435\n",
      "  \n",
      "majorAxis[iTrk][0][0] =  0.0046102717\n",
      "majorAxis[iTrk][1][0] =  -0.0016007021\n",
      "majorAxis[iTrk][2][0] =  0.29361814\n",
      "minorAxis_1[iTrk][0][0] =  -5.794979\n",
      "minorAxis_1[iTrk][1][0] =  -16.690445\n",
      "minorAxis_1[iTrk][2][0] =  2.4897104e-09\n",
      "minorAxis_2[iTrk][0][0] =  -16.688139\n",
      "minorAxis_2[iTrk][1][0] =  5.794179\n",
      "minorAxis_2[iTrk][2][0] =  0.2936181\n",
      "  \n",
      "majorAxis[iTrk][0][0] =  -0.00020041714\n",
      "majorAxis[iTrk][1][0] =  0.00010468164\n",
      "majorAxis[iTrk][2][0] =  0.06320469\n",
      "minorAxis_1[iTrk][0][0] =  8.179679\n",
      "minorAxis_1[iTrk][1][0] =  15.660318\n",
      "minorAxis_1[iTrk][2][0] =  7.40176e-08\n",
      "minorAxis_2[iTrk][0][0] =  15.660218\n",
      "minorAxis_2[iTrk][1][0] =  -8.179626\n",
      "minorAxis_2[iTrk][2][0] =  0.06320469\n",
      "  \n",
      "majorAxis[iTrk][0][0] =  -0.00020603223\n",
      "majorAxis[iTrk][1][0] =  -0.0005662605\n",
      "majorAxis[iTrk][2][0] =  0.10317981\n",
      "minorAxis_1[iTrk][0][0] =  -16.603\n",
      "minorAxis_1[iTrk][1][0] =  6.040953\n",
      "minorAxis_1[iTrk][2][0] =  4.5812504e-07\n",
      "minorAxis_2[iTrk][0][0] =  6.0408506\n",
      "minorAxis_2[iTrk][1][0] =  16.602718\n",
      "minorAxis_2[iTrk][2][0] =  0.10317982\n",
      "  \n",
      "majorAxis[iTrk][0][0] =  -0.00040561036\n",
      "majorAxis[iTrk][1][0] =  0.00014461782\n",
      "majorAxis[iTrk][2][0] =  0.0872241\n",
      "minorAxis_1[iTrk][0][0] =  -5.933496\n",
      "minorAxis_1[iTrk][1][0] =  -16.641706\n",
      "minorAxis_1[iTrk][2][0] =  1.0720762e-08\n",
      "minorAxis_2[iTrk][0][0] =  -16.641502\n",
      "minorAxis_2[iTrk][1][0] =  5.9334235\n",
      "minorAxis_2[iTrk][2][0] =  -0.0872241\n",
      "  \n",
      "majorAxis[iTrk][0][0] =  0.00038461428\n",
      "majorAxis[iTrk][1][0] =  -3.4232737e-05\n",
      "majorAxis[iTrk][2][0] =  0.08259597\n",
      "minorAxis_1[iTrk][0][0] =  -1.5663412\n",
      "minorAxis_1[iTrk][1][0] =  -17.598276\n",
      "minorAxis_1[iTrk][2][0] =  3.2106848e-07\n",
      "minorAxis_2[iTrk][0][0] =  -17.598082\n",
      "minorAxis_2[iTrk][1][0] =  1.5663238\n",
      "minorAxis_2[iTrk][2][0] =  0.08259596\n",
      "  \n",
      "majorAxis[iTrk][0][0] =  -0.022277953\n",
      "majorAxis[iTrk][1][0] =  -0.0046837274\n",
      "majorAxis[iTrk][2][0] =  0.63399464\n",
      "minorAxis_1[iTrk][0][0] =  -3.6350286\n",
      "minorAxis_1[iTrk][1][0] =  17.289862\n",
      "minorAxis_1[iTrk][2][0] =  9.566169e-10\n",
      "minorAxis_2[iTrk][0][0] =  17.278727\n",
      "minorAxis_2[iTrk][1][0] =  3.6326876\n",
      "minorAxis_2[iTrk][2][0] =  0.6339946\n",
      "  \n"
     ]
    },
    {
     "name": "stdout",
     "output_type": "stream",
     "text": [
      "len(X) =  20000\n",
      "len(Xlist) =  1\n",
      "Loaded dataAA/20K_POCA_kernel_evts_200926.h5 in 42.1 s\n",
      "outer loop X.shape =  (20000, 9, 600)\n",
      "Constructing 2000 event dataset took 0.01359 s\n",
      "x_t.shape =  torch.Size([2000, 9, 600])\n",
      "x_t.shape[0] =  2000\n",
      "x_t.shape[1] =  9\n",
      "x_t.shape =  torch.Size([2000, 9, 600])\n"
     ]
    }
   ],
   "source": [
    "\n",
    "## Training dataset. You can put as many files here as desired.\n",
    "\n",
    "##train_loader = collect_t2kde_data('/share/lazy/pv-finder/20k_evts_for_KDE_learning_200716.h5',\n",
    "train_loader = collect_t2kde_data('dataAA/20K_POCA_kernel_evts_200926.h5',\n",
    "##train_loader = collect_t2kde_data('/share/lazy/pv-finder/test_data_for_KDE_learning_BastilleDay20.h5',\n",
    "                            batch_size=batch_size,\n",
    "## if we are using a larger dataset (240K events, with the datasets above, and 11 GB  of GPU memory),\n",
    "## the dataset will overflow the GPU memory; device=device will allow the data to move back\n",
    "## and forth between the CPU and GPU memory. While this allows use of a larger dataset, it slows\n",
    "## down performance by about 10%.  So comment out when not needed.\n",
    "##                          device=device,\n",
    "                           slice = slice(None,18000)\n",
    "                           )\n",
    "                            \n",
    "# Validation dataset. You can slice to reduce the size.\n",
    "## mds no separate validation set yet,\n",
    "val_loader = collect_t2kde_data('dataAA/20K_POCA_kernel_evts_200926.h5',\n",
    "                            batch_size=batch_size,\n",
    "##                            device=device,\n",
    "                            slice = slice(18000,None)\n",
    "                           )\n"
   ]
  },
  {
   "cell_type": "code",
   "execution_count": 16,
   "metadata": {
    "scrolled": false
   },
   "outputs": [
    {
     "data": {
      "application/javascript": [
       "/* Put everything inside the global mpl namespace */\n",
       "window.mpl = {};\n",
       "\n",
       "\n",
       "mpl.get_websocket_type = function() {\n",
       "    if (typeof(WebSocket) !== 'undefined') {\n",
       "        return WebSocket;\n",
       "    } else if (typeof(MozWebSocket) !== 'undefined') {\n",
       "        return MozWebSocket;\n",
       "    } else {\n",
       "        alert('Your browser does not have WebSocket support. ' +\n",
       "              'Please try Chrome, Safari or Firefox ≥ 6. ' +\n",
       "              'Firefox 4 and 5 are also supported but you ' +\n",
       "              'have to enable WebSockets in about:config.');\n",
       "    };\n",
       "}\n",
       "\n",
       "mpl.figure = function(figure_id, websocket, ondownload, parent_element) {\n",
       "    this.id = figure_id;\n",
       "\n",
       "    this.ws = websocket;\n",
       "\n",
       "    this.supports_binary = (this.ws.binaryType != undefined);\n",
       "\n",
       "    if (!this.supports_binary) {\n",
       "        var warnings = document.getElementById(\"mpl-warnings\");\n",
       "        if (warnings) {\n",
       "            warnings.style.display = 'block';\n",
       "            warnings.textContent = (\n",
       "                \"This browser does not support binary websocket messages. \" +\n",
       "                    \"Performance may be slow.\");\n",
       "        }\n",
       "    }\n",
       "\n",
       "    this.imageObj = new Image();\n",
       "\n",
       "    this.context = undefined;\n",
       "    this.message = undefined;\n",
       "    this.canvas = undefined;\n",
       "    this.rubberband_canvas = undefined;\n",
       "    this.rubberband_context = undefined;\n",
       "    this.format_dropdown = undefined;\n",
       "\n",
       "    this.image_mode = 'full';\n",
       "\n",
       "    this.root = $('<div/>');\n",
       "    this._root_extra_style(this.root)\n",
       "    this.root.attr('style', 'display: inline-block');\n",
       "\n",
       "    $(parent_element).append(this.root);\n",
       "\n",
       "    this._init_header(this);\n",
       "    this._init_canvas(this);\n",
       "    this._init_toolbar(this);\n",
       "\n",
       "    var fig = this;\n",
       "\n",
       "    this.waiting = false;\n",
       "\n",
       "    this.ws.onopen =  function () {\n",
       "            fig.send_message(\"supports_binary\", {value: fig.supports_binary});\n",
       "            fig.send_message(\"send_image_mode\", {});\n",
       "            if (mpl.ratio != 1) {\n",
       "                fig.send_message(\"set_dpi_ratio\", {'dpi_ratio': mpl.ratio});\n",
       "            }\n",
       "            fig.send_message(\"refresh\", {});\n",
       "        }\n",
       "\n",
       "    this.imageObj.onload = function() {\n",
       "            if (fig.image_mode == 'full') {\n",
       "                // Full images could contain transparency (where diff images\n",
       "                // almost always do), so we need to clear the canvas so that\n",
       "                // there is no ghosting.\n",
       "                fig.context.clearRect(0, 0, fig.canvas.width, fig.canvas.height);\n",
       "            }\n",
       "            fig.context.drawImage(fig.imageObj, 0, 0);\n",
       "        };\n",
       "\n",
       "    this.imageObj.onunload = function() {\n",
       "        fig.ws.close();\n",
       "    }\n",
       "\n",
       "    this.ws.onmessage = this._make_on_message_function(this);\n",
       "\n",
       "    this.ondownload = ondownload;\n",
       "}\n",
       "\n",
       "mpl.figure.prototype._init_header = function() {\n",
       "    var titlebar = $(\n",
       "        '<div class=\"ui-dialog-titlebar ui-widget-header ui-corner-all ' +\n",
       "        'ui-helper-clearfix\"/>');\n",
       "    var titletext = $(\n",
       "        '<div class=\"ui-dialog-title\" style=\"width: 100%; ' +\n",
       "        'text-align: center; padding: 3px;\"/>');\n",
       "    titlebar.append(titletext)\n",
       "    this.root.append(titlebar);\n",
       "    this.header = titletext[0];\n",
       "}\n",
       "\n",
       "\n",
       "\n",
       "mpl.figure.prototype._canvas_extra_style = function(canvas_div) {\n",
       "\n",
       "}\n",
       "\n",
       "\n",
       "mpl.figure.prototype._root_extra_style = function(canvas_div) {\n",
       "\n",
       "}\n",
       "\n",
       "mpl.figure.prototype._init_canvas = function() {\n",
       "    var fig = this;\n",
       "\n",
       "    var canvas_div = $('<div/>');\n",
       "\n",
       "    canvas_div.attr('style', 'position: relative; clear: both; outline: 0');\n",
       "\n",
       "    function canvas_keyboard_event(event) {\n",
       "        return fig.key_event(event, event['data']);\n",
       "    }\n",
       "\n",
       "    canvas_div.keydown('key_press', canvas_keyboard_event);\n",
       "    canvas_div.keyup('key_release', canvas_keyboard_event);\n",
       "    this.canvas_div = canvas_div\n",
       "    this._canvas_extra_style(canvas_div)\n",
       "    this.root.append(canvas_div);\n",
       "\n",
       "    var canvas = $('<canvas/>');\n",
       "    canvas.addClass('mpl-canvas');\n",
       "    canvas.attr('style', \"left: 0; top: 0; z-index: 0; outline: 0\")\n",
       "\n",
       "    this.canvas = canvas[0];\n",
       "    this.context = canvas[0].getContext(\"2d\");\n",
       "\n",
       "    var backingStore = this.context.backingStorePixelRatio ||\n",
       "\tthis.context.webkitBackingStorePixelRatio ||\n",
       "\tthis.context.mozBackingStorePixelRatio ||\n",
       "\tthis.context.msBackingStorePixelRatio ||\n",
       "\tthis.context.oBackingStorePixelRatio ||\n",
       "\tthis.context.backingStorePixelRatio || 1;\n",
       "\n",
       "    mpl.ratio = (window.devicePixelRatio || 1) / backingStore;\n",
       "\n",
       "    var rubberband = $('<canvas/>');\n",
       "    rubberband.attr('style', \"position: absolute; left: 0; top: 0; z-index: 1;\")\n",
       "\n",
       "    var pass_mouse_events = true;\n",
       "\n",
       "    canvas_div.resizable({\n",
       "        start: function(event, ui) {\n",
       "            pass_mouse_events = false;\n",
       "        },\n",
       "        resize: function(event, ui) {\n",
       "            fig.request_resize(ui.size.width, ui.size.height);\n",
       "        },\n",
       "        stop: function(event, ui) {\n",
       "            pass_mouse_events = true;\n",
       "            fig.request_resize(ui.size.width, ui.size.height);\n",
       "        },\n",
       "    });\n",
       "\n",
       "    function mouse_event_fn(event) {\n",
       "        if (pass_mouse_events)\n",
       "            return fig.mouse_event(event, event['data']);\n",
       "    }\n",
       "\n",
       "    rubberband.mousedown('button_press', mouse_event_fn);\n",
       "    rubberband.mouseup('button_release', mouse_event_fn);\n",
       "    // Throttle sequential mouse events to 1 every 20ms.\n",
       "    rubberband.mousemove('motion_notify', mouse_event_fn);\n",
       "\n",
       "    rubberband.mouseenter('figure_enter', mouse_event_fn);\n",
       "    rubberband.mouseleave('figure_leave', mouse_event_fn);\n",
       "\n",
       "    canvas_div.on(\"wheel\", function (event) {\n",
       "        event = event.originalEvent;\n",
       "        event['data'] = 'scroll'\n",
       "        if (event.deltaY < 0) {\n",
       "            event.step = 1;\n",
       "        } else {\n",
       "            event.step = -1;\n",
       "        }\n",
       "        mouse_event_fn(event);\n",
       "    });\n",
       "\n",
       "    canvas_div.append(canvas);\n",
       "    canvas_div.append(rubberband);\n",
       "\n",
       "    this.rubberband = rubberband;\n",
       "    this.rubberband_canvas = rubberband[0];\n",
       "    this.rubberband_context = rubberband[0].getContext(\"2d\");\n",
       "    this.rubberband_context.strokeStyle = \"#000000\";\n",
       "\n",
       "    this._resize_canvas = function(width, height) {\n",
       "        // Keep the size of the canvas, canvas container, and rubber band\n",
       "        // canvas in synch.\n",
       "        canvas_div.css('width', width)\n",
       "        canvas_div.css('height', height)\n",
       "\n",
       "        canvas.attr('width', width * mpl.ratio);\n",
       "        canvas.attr('height', height * mpl.ratio);\n",
       "        canvas.attr('style', 'width: ' + width + 'px; height: ' + height + 'px;');\n",
       "\n",
       "        rubberband.attr('width', width);\n",
       "        rubberband.attr('height', height);\n",
       "    }\n",
       "\n",
       "    // Set the figure to an initial 600x600px, this will subsequently be updated\n",
       "    // upon first draw.\n",
       "    this._resize_canvas(600, 600);\n",
       "\n",
       "    // Disable right mouse context menu.\n",
       "    $(this.rubberband_canvas).bind(\"contextmenu\",function(e){\n",
       "        return false;\n",
       "    });\n",
       "\n",
       "    function set_focus () {\n",
       "        canvas.focus();\n",
       "        canvas_div.focus();\n",
       "    }\n",
       "\n",
       "    window.setTimeout(set_focus, 100);\n",
       "}\n",
       "\n",
       "mpl.figure.prototype._init_toolbar = function() {\n",
       "    var fig = this;\n",
       "\n",
       "    var nav_element = $('<div/>');\n",
       "    nav_element.attr('style', 'width: 100%');\n",
       "    this.root.append(nav_element);\n",
       "\n",
       "    // Define a callback function for later on.\n",
       "    function toolbar_event(event) {\n",
       "        return fig.toolbar_button_onclick(event['data']);\n",
       "    }\n",
       "    function toolbar_mouse_event(event) {\n",
       "        return fig.toolbar_button_onmouseover(event['data']);\n",
       "    }\n",
       "\n",
       "    for(var toolbar_ind in mpl.toolbar_items) {\n",
       "        var name = mpl.toolbar_items[toolbar_ind][0];\n",
       "        var tooltip = mpl.toolbar_items[toolbar_ind][1];\n",
       "        var image = mpl.toolbar_items[toolbar_ind][2];\n",
       "        var method_name = mpl.toolbar_items[toolbar_ind][3];\n",
       "\n",
       "        if (!name) {\n",
       "            // put a spacer in here.\n",
       "            continue;\n",
       "        }\n",
       "        var button = $('<button/>');\n",
       "        button.addClass('ui-button ui-widget ui-state-default ui-corner-all ' +\n",
       "                        'ui-button-icon-only');\n",
       "        button.attr('role', 'button');\n",
       "        button.attr('aria-disabled', 'false');\n",
       "        button.click(method_name, toolbar_event);\n",
       "        button.mouseover(tooltip, toolbar_mouse_event);\n",
       "\n",
       "        var icon_img = $('<span/>');\n",
       "        icon_img.addClass('ui-button-icon-primary ui-icon');\n",
       "        icon_img.addClass(image);\n",
       "        icon_img.addClass('ui-corner-all');\n",
       "\n",
       "        var tooltip_span = $('<span/>');\n",
       "        tooltip_span.addClass('ui-button-text');\n",
       "        tooltip_span.html(tooltip);\n",
       "\n",
       "        button.append(icon_img);\n",
       "        button.append(tooltip_span);\n",
       "\n",
       "        nav_element.append(button);\n",
       "    }\n",
       "\n",
       "    var fmt_picker_span = $('<span/>');\n",
       "\n",
       "    var fmt_picker = $('<select/>');\n",
       "    fmt_picker.addClass('mpl-toolbar-option ui-widget ui-widget-content');\n",
       "    fmt_picker_span.append(fmt_picker);\n",
       "    nav_element.append(fmt_picker_span);\n",
       "    this.format_dropdown = fmt_picker[0];\n",
       "\n",
       "    for (var ind in mpl.extensions) {\n",
       "        var fmt = mpl.extensions[ind];\n",
       "        var option = $(\n",
       "            '<option/>', {selected: fmt === mpl.default_extension}).html(fmt);\n",
       "        fmt_picker.append(option);\n",
       "    }\n",
       "\n",
       "    // Add hover states to the ui-buttons\n",
       "    $( \".ui-button\" ).hover(\n",
       "        function() { $(this).addClass(\"ui-state-hover\");},\n",
       "        function() { $(this).removeClass(\"ui-state-hover\");}\n",
       "    );\n",
       "\n",
       "    var status_bar = $('<span class=\"mpl-message\"/>');\n",
       "    nav_element.append(status_bar);\n",
       "    this.message = status_bar[0];\n",
       "}\n",
       "\n",
       "mpl.figure.prototype.request_resize = function(x_pixels, y_pixels) {\n",
       "    // Request matplotlib to resize the figure. Matplotlib will then trigger a resize in the client,\n",
       "    // which will in turn request a refresh of the image.\n",
       "    this.send_message('resize', {'width': x_pixels, 'height': y_pixels});\n",
       "}\n",
       "\n",
       "mpl.figure.prototype.send_message = function(type, properties) {\n",
       "    properties['type'] = type;\n",
       "    properties['figure_id'] = this.id;\n",
       "    this.ws.send(JSON.stringify(properties));\n",
       "}\n",
       "\n",
       "mpl.figure.prototype.send_draw_message = function() {\n",
       "    if (!this.waiting) {\n",
       "        this.waiting = true;\n",
       "        this.ws.send(JSON.stringify({type: \"draw\", figure_id: this.id}));\n",
       "    }\n",
       "}\n",
       "\n",
       "\n",
       "mpl.figure.prototype.handle_save = function(fig, msg) {\n",
       "    var format_dropdown = fig.format_dropdown;\n",
       "    var format = format_dropdown.options[format_dropdown.selectedIndex].value;\n",
       "    fig.ondownload(fig, format);\n",
       "}\n",
       "\n",
       "\n",
       "mpl.figure.prototype.handle_resize = function(fig, msg) {\n",
       "    var size = msg['size'];\n",
       "    if (size[0] != fig.canvas.width || size[1] != fig.canvas.height) {\n",
       "        fig._resize_canvas(size[0], size[1]);\n",
       "        fig.send_message(\"refresh\", {});\n",
       "    };\n",
       "}\n",
       "\n",
       "mpl.figure.prototype.handle_rubberband = function(fig, msg) {\n",
       "    var x0 = msg['x0'] / mpl.ratio;\n",
       "    var y0 = (fig.canvas.height - msg['y0']) / mpl.ratio;\n",
       "    var x1 = msg['x1'] / mpl.ratio;\n",
       "    var y1 = (fig.canvas.height - msg['y1']) / mpl.ratio;\n",
       "    x0 = Math.floor(x0) + 0.5;\n",
       "    y0 = Math.floor(y0) + 0.5;\n",
       "    x1 = Math.floor(x1) + 0.5;\n",
       "    y1 = Math.floor(y1) + 0.5;\n",
       "    var min_x = Math.min(x0, x1);\n",
       "    var min_y = Math.min(y0, y1);\n",
       "    var width = Math.abs(x1 - x0);\n",
       "    var height = Math.abs(y1 - y0);\n",
       "\n",
       "    fig.rubberband_context.clearRect(\n",
       "        0, 0, fig.canvas.width / mpl.ratio, fig.canvas.height / mpl.ratio);\n",
       "\n",
       "    fig.rubberband_context.strokeRect(min_x, min_y, width, height);\n",
       "}\n",
       "\n",
       "mpl.figure.prototype.handle_figure_label = function(fig, msg) {\n",
       "    // Updates the figure title.\n",
       "    fig.header.textContent = msg['label'];\n",
       "}\n",
       "\n",
       "mpl.figure.prototype.handle_cursor = function(fig, msg) {\n",
       "    var cursor = msg['cursor'];\n",
       "    switch(cursor)\n",
       "    {\n",
       "    case 0:\n",
       "        cursor = 'pointer';\n",
       "        break;\n",
       "    case 1:\n",
       "        cursor = 'default';\n",
       "        break;\n",
       "    case 2:\n",
       "        cursor = 'crosshair';\n",
       "        break;\n",
       "    case 3:\n",
       "        cursor = 'move';\n",
       "        break;\n",
       "    }\n",
       "    fig.rubberband_canvas.style.cursor = cursor;\n",
       "}\n",
       "\n",
       "mpl.figure.prototype.handle_message = function(fig, msg) {\n",
       "    fig.message.textContent = msg['message'];\n",
       "}\n",
       "\n",
       "mpl.figure.prototype.handle_draw = function(fig, msg) {\n",
       "    // Request the server to send over a new figure.\n",
       "    fig.send_draw_message();\n",
       "}\n",
       "\n",
       "mpl.figure.prototype.handle_image_mode = function(fig, msg) {\n",
       "    fig.image_mode = msg['mode'];\n",
       "}\n",
       "\n",
       "mpl.figure.prototype.updated_canvas_event = function() {\n",
       "    // Called whenever the canvas gets updated.\n",
       "    this.send_message(\"ack\", {});\n",
       "}\n",
       "\n",
       "// A function to construct a web socket function for onmessage handling.\n",
       "// Called in the figure constructor.\n",
       "mpl.figure.prototype._make_on_message_function = function(fig) {\n",
       "    return function socket_on_message(evt) {\n",
       "        if (evt.data instanceof Blob) {\n",
       "            /* FIXME: We get \"Resource interpreted as Image but\n",
       "             * transferred with MIME type text/plain:\" errors on\n",
       "             * Chrome.  But how to set the MIME type?  It doesn't seem\n",
       "             * to be part of the websocket stream */\n",
       "            evt.data.type = \"image/png\";\n",
       "\n",
       "            /* Free the memory for the previous frames */\n",
       "            if (fig.imageObj.src) {\n",
       "                (window.URL || window.webkitURL).revokeObjectURL(\n",
       "                    fig.imageObj.src);\n",
       "            }\n",
       "\n",
       "            fig.imageObj.src = (window.URL || window.webkitURL).createObjectURL(\n",
       "                evt.data);\n",
       "            fig.updated_canvas_event();\n",
       "            fig.waiting = false;\n",
       "            return;\n",
       "        }\n",
       "        else if (typeof evt.data === 'string' && evt.data.slice(0, 21) == \"data:image/png;base64\") {\n",
       "            fig.imageObj.src = evt.data;\n",
       "            fig.updated_canvas_event();\n",
       "            fig.waiting = false;\n",
       "            return;\n",
       "        }\n",
       "\n",
       "        var msg = JSON.parse(evt.data);\n",
       "        var msg_type = msg['type'];\n",
       "\n",
       "        // Call the  \"handle_{type}\" callback, which takes\n",
       "        // the figure and JSON message as its only arguments.\n",
       "        try {\n",
       "            var callback = fig[\"handle_\" + msg_type];\n",
       "        } catch (e) {\n",
       "            console.log(\"No handler for the '\" + msg_type + \"' message type: \", msg);\n",
       "            return;\n",
       "        }\n",
       "\n",
       "        if (callback) {\n",
       "            try {\n",
       "                // console.log(\"Handling '\" + msg_type + \"' message: \", msg);\n",
       "                callback(fig, msg);\n",
       "            } catch (e) {\n",
       "                console.log(\"Exception inside the 'handler_\" + msg_type + \"' callback:\", e, e.stack, msg);\n",
       "            }\n",
       "        }\n",
       "    };\n",
       "}\n",
       "\n",
       "// from http://stackoverflow.com/questions/1114465/getting-mouse-location-in-canvas\n",
       "mpl.findpos = function(e) {\n",
       "    //this section is from http://www.quirksmode.org/js/events_properties.html\n",
       "    var targ;\n",
       "    if (!e)\n",
       "        e = window.event;\n",
       "    if (e.target)\n",
       "        targ = e.target;\n",
       "    else if (e.srcElement)\n",
       "        targ = e.srcElement;\n",
       "    if (targ.nodeType == 3) // defeat Safari bug\n",
       "        targ = targ.parentNode;\n",
       "\n",
       "    // jQuery normalizes the pageX and pageY\n",
       "    // pageX,Y are the mouse positions relative to the document\n",
       "    // offset() returns the position of the element relative to the document\n",
       "    var x = e.pageX - $(targ).offset().left;\n",
       "    var y = e.pageY - $(targ).offset().top;\n",
       "\n",
       "    return {\"x\": x, \"y\": y};\n",
       "};\n",
       "\n",
       "/*\n",
       " * return a copy of an object with only non-object keys\n",
       " * we need this to avoid circular references\n",
       " * http://stackoverflow.com/a/24161582/3208463\n",
       " */\n",
       "function simpleKeys (original) {\n",
       "  return Object.keys(original).reduce(function (obj, key) {\n",
       "    if (typeof original[key] !== 'object')\n",
       "        obj[key] = original[key]\n",
       "    return obj;\n",
       "  }, {});\n",
       "}\n",
       "\n",
       "mpl.figure.prototype.mouse_event = function(event, name) {\n",
       "    var canvas_pos = mpl.findpos(event)\n",
       "\n",
       "    if (name === 'button_press')\n",
       "    {\n",
       "        this.canvas.focus();\n",
       "        this.canvas_div.focus();\n",
       "    }\n",
       "\n",
       "    var x = canvas_pos.x * mpl.ratio;\n",
       "    var y = canvas_pos.y * mpl.ratio;\n",
       "\n",
       "    this.send_message(name, {x: x, y: y, button: event.button,\n",
       "                             step: event.step,\n",
       "                             guiEvent: simpleKeys(event)});\n",
       "\n",
       "    /* This prevents the web browser from automatically changing to\n",
       "     * the text insertion cursor when the button is pressed.  We want\n",
       "     * to control all of the cursor setting manually through the\n",
       "     * 'cursor' event from matplotlib */\n",
       "    event.preventDefault();\n",
       "    return false;\n",
       "}\n",
       "\n",
       "mpl.figure.prototype._key_event_extra = function(event, name) {\n",
       "    // Handle any extra behaviour associated with a key event\n",
       "}\n",
       "\n",
       "mpl.figure.prototype.key_event = function(event, name) {\n",
       "\n",
       "    // Prevent repeat events\n",
       "    if (name == 'key_press')\n",
       "    {\n",
       "        if (event.which === this._key)\n",
       "            return;\n",
       "        else\n",
       "            this._key = event.which;\n",
       "    }\n",
       "    if (name == 'key_release')\n",
       "        this._key = null;\n",
       "\n",
       "    var value = '';\n",
       "    if (event.ctrlKey && event.which != 17)\n",
       "        value += \"ctrl+\";\n",
       "    if (event.altKey && event.which != 18)\n",
       "        value += \"alt+\";\n",
       "    if (event.shiftKey && event.which != 16)\n",
       "        value += \"shift+\";\n",
       "\n",
       "    value += 'k';\n",
       "    value += event.which.toString();\n",
       "\n",
       "    this._key_event_extra(event, name);\n",
       "\n",
       "    this.send_message(name, {key: value,\n",
       "                             guiEvent: simpleKeys(event)});\n",
       "    return false;\n",
       "}\n",
       "\n",
       "mpl.figure.prototype.toolbar_button_onclick = function(name) {\n",
       "    if (name == 'download') {\n",
       "        this.handle_save(this, null);\n",
       "    } else {\n",
       "        this.send_message(\"toolbar_button\", {name: name});\n",
       "    }\n",
       "};\n",
       "\n",
       "mpl.figure.prototype.toolbar_button_onmouseover = function(tooltip) {\n",
       "    this.message.textContent = tooltip;\n",
       "};\n",
       "mpl.toolbar_items = [[\"Home\", \"Reset original view\", \"fa fa-home icon-home\", \"home\"], [\"Back\", \"Back to previous view\", \"fa fa-arrow-left icon-arrow-left\", \"back\"], [\"Forward\", \"Forward to next view\", \"fa fa-arrow-right icon-arrow-right\", \"forward\"], [\"\", \"\", \"\", \"\"], [\"Pan\", \"Pan axes with left mouse, zoom with right\", \"fa fa-arrows icon-move\", \"pan\"], [\"Zoom\", \"Zoom to rectangle\", \"fa fa-square-o icon-check-empty\", \"zoom\"], [\"\", \"\", \"\", \"\"], [\"Download\", \"Download plot\", \"fa fa-floppy-o icon-save\", \"download\"]];\n",
       "\n",
       "mpl.extensions = [\"eps\", \"jpeg\", \"pdf\", \"png\", \"ps\", \"raw\", \"svg\", \"tif\"];\n",
       "\n",
       "mpl.default_extension = \"png\";var comm_websocket_adapter = function(comm) {\n",
       "    // Create a \"websocket\"-like object which calls the given IPython comm\n",
       "    // object with the appropriate methods. Currently this is a non binary\n",
       "    // socket, so there is still some room for performance tuning.\n",
       "    var ws = {};\n",
       "\n",
       "    ws.close = function() {\n",
       "        comm.close()\n",
       "    };\n",
       "    ws.send = function(m) {\n",
       "        //console.log('sending', m);\n",
       "        comm.send(m);\n",
       "    };\n",
       "    // Register the callback with on_msg.\n",
       "    comm.on_msg(function(msg) {\n",
       "        //console.log('receiving', msg['content']['data'], msg);\n",
       "        // Pass the mpl event to the overridden (by mpl) onmessage function.\n",
       "        ws.onmessage(msg['content']['data'])\n",
       "    });\n",
       "    return ws;\n",
       "}\n",
       "\n",
       "mpl.mpl_figure_comm = function(comm, msg) {\n",
       "    // This is the function which gets called when the mpl process\n",
       "    // starts-up an IPython Comm through the \"matplotlib\" channel.\n",
       "\n",
       "    var id = msg.content.data.id;\n",
       "    // Get hold of the div created by the display call when the Comm\n",
       "    // socket was opened in Python.\n",
       "    var element = $(\"#\" + id);\n",
       "    var ws_proxy = comm_websocket_adapter(comm)\n",
       "\n",
       "    function ondownload(figure, format) {\n",
       "        window.open(figure.imageObj.src);\n",
       "    }\n",
       "\n",
       "    var fig = new mpl.figure(id, ws_proxy,\n",
       "                           ondownload,\n",
       "                           element.get(0));\n",
       "\n",
       "    // Call onopen now - mpl needs it, as it is assuming we've passed it a real\n",
       "    // web socket which is closed, not our websocket->open comm proxy.\n",
       "    ws_proxy.onopen();\n",
       "\n",
       "    fig.parent_element = element.get(0);\n",
       "    fig.cell_info = mpl.find_output_cell(\"<div id='\" + id + \"'></div>\");\n",
       "    if (!fig.cell_info) {\n",
       "        console.error(\"Failed to find cell for figure\", id, fig);\n",
       "        return;\n",
       "    }\n",
       "\n",
       "    var output_index = fig.cell_info[2]\n",
       "    var cell = fig.cell_info[0];\n",
       "\n",
       "};\n",
       "\n",
       "mpl.figure.prototype.handle_close = function(fig, msg) {\n",
       "    var width = fig.canvas.width/mpl.ratio\n",
       "    fig.root.unbind('remove')\n",
       "\n",
       "    // Update the output cell to use the data from the current canvas.\n",
       "    fig.push_to_output();\n",
       "    var dataURL = fig.canvas.toDataURL();\n",
       "    // Re-enable the keyboard manager in IPython - without this line, in FF,\n",
       "    // the notebook keyboard shortcuts fail.\n",
       "    IPython.keyboard_manager.enable()\n",
       "    $(fig.parent_element).html('<img src=\"' + dataURL + '\" width=\"' + width + '\">');\n",
       "    fig.close_ws(fig, msg);\n",
       "}\n",
       "\n",
       "mpl.figure.prototype.close_ws = function(fig, msg){\n",
       "    fig.send_message('closing', msg);\n",
       "    // fig.ws.close()\n",
       "}\n",
       "\n",
       "mpl.figure.prototype.push_to_output = function(remove_interactive) {\n",
       "    // Turn the data on the canvas into data in the output cell.\n",
       "    var width = this.canvas.width/mpl.ratio\n",
       "    var dataURL = this.canvas.toDataURL();\n",
       "    this.cell_info[1]['text/html'] = '<img src=\"' + dataURL + '\" width=\"' + width + '\">';\n",
       "}\n",
       "\n",
       "mpl.figure.prototype.updated_canvas_event = function() {\n",
       "    // Tell IPython that the notebook contents must change.\n",
       "    IPython.notebook.set_dirty(true);\n",
       "    this.send_message(\"ack\", {});\n",
       "    var fig = this;\n",
       "    // Wait a second, then push the new image to the DOM so\n",
       "    // that it is saved nicely (might be nice to debounce this).\n",
       "    setTimeout(function () { fig.push_to_output() }, 1000);\n",
       "}\n",
       "\n",
       "mpl.figure.prototype._init_toolbar = function() {\n",
       "    var fig = this;\n",
       "\n",
       "    var nav_element = $('<div/>');\n",
       "    nav_element.attr('style', 'width: 100%');\n",
       "    this.root.append(nav_element);\n",
       "\n",
       "    // Define a callback function for later on.\n",
       "    function toolbar_event(event) {\n",
       "        return fig.toolbar_button_onclick(event['data']);\n",
       "    }\n",
       "    function toolbar_mouse_event(event) {\n",
       "        return fig.toolbar_button_onmouseover(event['data']);\n",
       "    }\n",
       "\n",
       "    for(var toolbar_ind in mpl.toolbar_items){\n",
       "        var name = mpl.toolbar_items[toolbar_ind][0];\n",
       "        var tooltip = mpl.toolbar_items[toolbar_ind][1];\n",
       "        var image = mpl.toolbar_items[toolbar_ind][2];\n",
       "        var method_name = mpl.toolbar_items[toolbar_ind][3];\n",
       "\n",
       "        if (!name) { continue; };\n",
       "\n",
       "        var button = $('<button class=\"btn btn-default\" href=\"#\" title=\"' + name + '\"><i class=\"fa ' + image + ' fa-lg\"></i></button>');\n",
       "        button.click(method_name, toolbar_event);\n",
       "        button.mouseover(tooltip, toolbar_mouse_event);\n",
       "        nav_element.append(button);\n",
       "    }\n",
       "\n",
       "    // Add the status bar.\n",
       "    var status_bar = $('<span class=\"mpl-message\" style=\"text-align:right; float: right;\"/>');\n",
       "    nav_element.append(status_bar);\n",
       "    this.message = status_bar[0];\n",
       "\n",
       "    // Add the close button to the window.\n",
       "    var buttongrp = $('<div class=\"btn-group inline pull-right\"></div>');\n",
       "    var button = $('<button class=\"btn btn-mini btn-primary\" href=\"#\" title=\"Stop Interaction\"><i class=\"fa fa-power-off icon-remove icon-large\"></i></button>');\n",
       "    button.click(function (evt) { fig.handle_close(fig, {}); } );\n",
       "    button.mouseover('Stop Interaction', toolbar_mouse_event);\n",
       "    buttongrp.append(button);\n",
       "    var titlebar = this.root.find($('.ui-dialog-titlebar'));\n",
       "    titlebar.prepend(buttongrp);\n",
       "}\n",
       "\n",
       "mpl.figure.prototype._root_extra_style = function(el){\n",
       "    var fig = this\n",
       "    el.on(\"remove\", function(){\n",
       "\tfig.close_ws(fig, {});\n",
       "    });\n",
       "}\n",
       "\n",
       "mpl.figure.prototype._canvas_extra_style = function(el){\n",
       "    // this is important to make the div 'focusable\n",
       "    el.attr('tabindex', 0)\n",
       "    // reach out to IPython and tell the keyboard manager to turn it's self\n",
       "    // off when our div gets focus\n",
       "\n",
       "    // location in version 3\n",
       "    if (IPython.notebook.keyboard_manager) {\n",
       "        IPython.notebook.keyboard_manager.register_events(el);\n",
       "    }\n",
       "    else {\n",
       "        // location in version 2\n",
       "        IPython.keyboard_manager.register_events(el);\n",
       "    }\n",
       "\n",
       "}\n",
       "\n",
       "mpl.figure.prototype._key_event_extra = function(event, name) {\n",
       "    var manager = IPython.notebook.keyboard_manager;\n",
       "    if (!manager)\n",
       "        manager = IPython.keyboard_manager;\n",
       "\n",
       "    // Check for shift+enter\n",
       "    if (event.shiftKey && event.which == 13) {\n",
       "        this.canvas_div.blur();\n",
       "        // select the cell after this one\n",
       "        var index = IPython.notebook.find_cell_index(this.cell_info[0]);\n",
       "        IPython.notebook.select(index + 1);\n",
       "    }\n",
       "}\n",
       "\n",
       "mpl.figure.prototype.handle_save = function(fig, msg) {\n",
       "    fig.ondownload(fig, null);\n",
       "}\n",
       "\n",
       "\n",
       "mpl.find_output_cell = function(html_output) {\n",
       "    // Return the cell and output element which can be found *uniquely* in the notebook.\n",
       "    // Note - this is a bit hacky, but it is done because the \"notebook_saving.Notebook\"\n",
       "    // IPython event is triggered only after the cells have been serialised, which for\n",
       "    // our purposes (turning an active figure into a static one), is too late.\n",
       "    var cells = IPython.notebook.get_cells();\n",
       "    var ncells = cells.length;\n",
       "    for (var i=0; i<ncells; i++) {\n",
       "        var cell = cells[i];\n",
       "        if (cell.cell_type === 'code'){\n",
       "            for (var j=0; j<cell.output_area.outputs.length; j++) {\n",
       "                var data = cell.output_area.outputs[j];\n",
       "                if (data.data) {\n",
       "                    // IPython >= 3 moved mimebundle to data attribute of output\n",
       "                    data = data.data;\n",
       "                }\n",
       "                if (data['text/html'] == html_output) {\n",
       "                    return [cell, data, j];\n",
       "                }\n",
       "            }\n",
       "        }\n",
       "    }\n",
       "}\n",
       "\n",
       "// Register the function which deals with the matplotlib target/channel.\n",
       "// The kernel may be null if the page has been refreshed.\n",
       "if (IPython.notebook.kernel != null) {\n",
       "    IPython.notebook.kernel.comm_manager.register_target('matplotlib', mpl.mpl_figure_comm);\n",
       "}\n"
      ],
      "text/plain": [
       "<IPython.core.display.Javascript object>"
      ]
     },
     "metadata": {},
     "output_type": "display_data"
    },
    {
     "data": {
      "text/html": [
       "<img src=\"data:image/png;base64,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\" width=\"1000\">"
      ],
      "text/plain": [
       "<IPython.core.display.HTML object>"
      ]
     },
     "metadata": {},
     "output_type": "display_data"
    }
   ],
   "source": [
    "ax, tax, lax, lines = dual_train_plots()\n",
    "fig = ax.figure\n",
    "plt.tight_layout()"
   ]
  },
  {
   "cell_type": "code",
   "execution_count": null,
   "metadata": {
    "scrolled": true
   },
   "outputs": [
    {
     "name": "stdout",
     "output_type": "stream",
     "text": [
      "Number of batches: train = 1125, val = 125\n"
     ]
    },
    {
     "data": {
      "application/vnd.jupyter.widget-view+json": {
       "model_id": "8b56150448484e5d95af779550de97ac",
       "version_major": 2,
       "version_minor": 0
      },
      "text/plain": [
       "HBox(children=(FloatProgress(value=0.0, description='Epochs', layout=Layout(flex='2'), max=400.0, style=Progre…"
      ]
     },
     "metadata": {},
     "output_type": "display_data"
    },
    {
     "name": "stdout",
     "output_type": "stream",
     "text": [
      "Number of batches: train = 1125, val = 125\n"
     ]
    },
    {
     "data": {
      "application/vnd.jupyter.widget-view+json": {
       "model_id": "",
       "version_major": 2,
       "version_minor": 0
      },
      "text/plain": [
       "HBox(children=(FloatProgress(value=0.0, description='Training', layout=Layout(flex='2'), max=1125.0, style=Pro…"
      ]
     },
     "metadata": {},
     "output_type": "display_data"
    },
    {
     "name": "stdout",
     "output_type": "stream",
     "text": [
      "new cost: 11.286160056644016 | old cost: 1000000.0\n",
      "Epoch 0: train=11.2862, val=11.2517, took 250.22 s\n"
     ]
    },
    {
     "data": {
      "application/vnd.jupyter.widget-view+json": {
       "model_id": "",
       "version_major": 2,
       "version_minor": 0
      },
      "text/plain": [
       "HBox(children=(FloatProgress(value=0.0, description='Training', layout=Layout(flex='2'), max=1125.0, style=Pro…"
      ]
     },
     "metadata": {},
     "output_type": "display_data"
    },
    {
     "name": "stdout",
     "output_type": "stream",
     "text": [
      "new cost: 11.256913771311442 | old cost: 11.286160056644016\n",
      "Epoch 1: train=11.2569, val=11.2494, took 253.83 s\n"
     ]
    },
    {
     "data": {
      "application/vnd.jupyter.widget-view+json": {
       "model_id": "",
       "version_major": 2,
       "version_minor": 0
      },
      "text/plain": [
       "HBox(children=(FloatProgress(value=0.0, description='Training', layout=Layout(flex='2'), max=1125.0, style=Pro…"
      ]
     },
     "metadata": {},
     "output_type": "display_data"
    },
    {
     "name": "stdout",
     "output_type": "stream",
     "text": [
      "new cost: 11.248575266944037 | old cost: 11.256913771311442\n",
      "Epoch 2: train=11.2486, val=11.2375, took 251.08 s\n"
     ]
    },
    {
     "data": {
      "application/vnd.jupyter.widget-view+json": {
       "model_id": "",
       "version_major": 2,
       "version_minor": 0
      },
      "text/plain": [
       "HBox(children=(FloatProgress(value=0.0, description='Training', layout=Layout(flex='2'), max=1125.0, style=Pro…"
      ]
     },
     "metadata": {},
     "output_type": "display_data"
    },
    {
     "name": "stdout",
     "output_type": "stream",
     "text": [
      "new cost: 11.245468510945638 | old cost: 11.248575266944037\n",
      "Epoch 3: train=11.2455, val=11.2461, took 246.46 s\n"
     ]
    },
    {
     "data": {
      "application/vnd.jupyter.widget-view+json": {
       "model_id": "",
       "version_major": 2,
       "version_minor": 0
      },
      "text/plain": [
       "HBox(children=(FloatProgress(value=0.0, description='Training', layout=Layout(flex='2'), max=1125.0, style=Pro…"
      ]
     },
     "metadata": {},
     "output_type": "display_data"
    },
    {
     "name": "stdout",
     "output_type": "stream",
     "text": [
      "new cost: 11.242703784094916 | old cost: 11.245468510945638\n",
      "Epoch 4: train=11.2427, val=11.2421, took 251.47 s\n"
     ]
    },
    {
     "data": {
      "application/vnd.jupyter.widget-view+json": {
       "model_id": "",
       "version_major": 2,
       "version_minor": 0
      },
      "text/plain": [
       "HBox(children=(FloatProgress(value=0.0, description='Training', layout=Layout(flex='2'), max=1125.0, style=Pro…"
      ]
     },
     "metadata": {},
     "output_type": "display_data"
    },
    {
     "name": "stdout",
     "output_type": "stream",
     "text": [
      "new cost: 11.24014640850491 | old cost: 11.242703784094916\n",
      "Epoch 5: train=11.2401, val=11.2363, took 251.08 s\n"
     ]
    },
    {
     "data": {
      "application/vnd.jupyter.widget-view+json": {
       "model_id": "",
       "version_major": 2,
       "version_minor": 0
      },
      "text/plain": [
       "HBox(children=(FloatProgress(value=0.0, description='Training', layout=Layout(flex='2'), max=1125.0, style=Pro…"
      ]
     },
     "metadata": {},
     "output_type": "display_data"
    },
    {
     "name": "stdout",
     "output_type": "stream",
     "text": [
      "new cost: 11.239512155744764 | old cost: 11.24014640850491\n",
      "Epoch 6: train=11.2395, val=11.236, took 255.36 s\n"
     ]
    },
    {
     "data": {
      "application/vnd.jupyter.widget-view+json": {
       "model_id": "",
       "version_major": 2,
       "version_minor": 0
      },
      "text/plain": [
       "HBox(children=(FloatProgress(value=0.0, description='Training', layout=Layout(flex='2'), max=1125.0, style=Pro…"
      ]
     },
     "metadata": {},
     "output_type": "display_data"
    },
    {
     "name": "stdout",
     "output_type": "stream",
     "text": [
      "new cost: 11.236597966088189 | old cost: 11.239512155744764\n",
      "Epoch 7: train=11.2366, val=11.2355, took 249.53 s\n"
     ]
    },
    {
     "data": {
      "application/vnd.jupyter.widget-view+json": {
       "model_id": "",
       "version_major": 2,
       "version_minor": 0
      },
      "text/plain": [
       "HBox(children=(FloatProgress(value=0.0, description='Training', layout=Layout(flex='2'), max=1125.0, style=Pro…"
      ]
     },
     "metadata": {},
     "output_type": "display_data"
    },
    {
     "name": "stdout",
     "output_type": "stream",
     "text": [
      "new cost: 11.235849432203505 | old cost: 11.236597966088189\n",
      "Epoch 8: train=11.2358, val=11.2326, took 249.2 s\n"
     ]
    },
    {
     "data": {
      "application/vnd.jupyter.widget-view+json": {
       "model_id": "",
       "version_major": 2,
       "version_minor": 0
      },
      "text/plain": [
       "HBox(children=(FloatProgress(value=0.0, description='Training', layout=Layout(flex='2'), max=1125.0, style=Pro…"
      ]
     },
     "metadata": {},
     "output_type": "display_data"
    },
    {
     "name": "stdout",
     "output_type": "stream",
     "text": [
      "new cost: 11.235174207899306 | old cost: 11.235849432203505\n",
      "Epoch 9: train=11.2352, val=11.2284, took 248.59 s\n"
     ]
    },
    {
     "data": {
      "application/vnd.jupyter.widget-view+json": {
       "model_id": "",
       "version_major": 2,
       "version_minor": 0
      },
      "text/plain": [
       "HBox(children=(FloatProgress(value=0.0, description='Training', layout=Layout(flex='2'), max=1125.0, style=Pro…"
      ]
     },
     "metadata": {},
     "output_type": "display_data"
    },
    {
     "name": "stdout",
     "output_type": "stream",
     "text": [
      "new cost: 11.23338528951009 | old cost: 11.235174207899306\n",
      "Epoch 10: train=11.2334, val=11.2326, took 248.75 s\n"
     ]
    },
    {
     "data": {
      "application/vnd.jupyter.widget-view+json": {
       "model_id": "",
       "version_major": 2,
       "version_minor": 0
      },
      "text/plain": [
       "HBox(children=(FloatProgress(value=0.0, description='Training', layout=Layout(flex='2'), max=1125.0, style=Pro…"
      ]
     },
     "metadata": {},
     "output_type": "display_data"
    },
    {
     "name": "stdout",
     "output_type": "stream",
     "text": [
      "new cost: 11.232887452867296 | old cost: 11.23338528951009\n",
      "Epoch 11: train=11.2329, val=11.2275, took 248.4 s\n"
     ]
    },
    {
     "data": {
      "application/vnd.jupyter.widget-view+json": {
       "model_id": "",
       "version_major": 2,
       "version_minor": 0
      },
      "text/plain": [
       "HBox(children=(FloatProgress(value=0.0, description='Training', layout=Layout(flex='2'), max=1125.0, style=Pro…"
      ]
     },
     "metadata": {},
     "output_type": "display_data"
    },
    {
     "name": "stdout",
     "output_type": "stream",
     "text": [
      "new cost: 11.232266763475206 | old cost: 11.232887452867296\n",
      "Epoch 12: train=11.2323, val=11.2265, took 250.43 s\n"
     ]
    },
    {
     "data": {
      "application/vnd.jupyter.widget-view+json": {
       "model_id": "",
       "version_major": 2,
       "version_minor": 0
      },
      "text/plain": [
       "HBox(children=(FloatProgress(value=0.0, description='Training', layout=Layout(flex='2'), max=1125.0, style=Pro…"
      ]
     },
     "metadata": {},
     "output_type": "display_data"
    },
    {
     "name": "stdout",
     "output_type": "stream",
     "text": [
      "new cost: 11.230931942409939 | old cost: 11.232266763475206\n",
      "Epoch 13: train=11.2309, val=11.2249, took 248.62 s\n"
     ]
    },
    {
     "data": {
      "application/vnd.jupyter.widget-view+json": {
       "model_id": "",
       "version_major": 2,
       "version_minor": 0
      },
      "text/plain": [
       "HBox(children=(FloatProgress(value=0.0, description='Training', layout=Layout(flex='2'), max=1125.0, style=Pro…"
      ]
     },
     "metadata": {},
     "output_type": "display_data"
    },
    {
     "name": "stdout",
     "output_type": "stream",
     "text": [
      "new cost: 11.230303289201524 | old cost: 11.230931942409939\n",
      "Epoch 14: train=11.2303, val=11.2242, took 251.56 s\n"
     ]
    },
    {
     "data": {
      "application/vnd.jupyter.widget-view+json": {
       "model_id": "",
       "version_major": 2,
       "version_minor": 0
      },
      "text/plain": [
       "HBox(children=(FloatProgress(value=0.0, description='Training', layout=Layout(flex='2'), max=1125.0, style=Pro…"
      ]
     },
     "metadata": {},
     "output_type": "display_data"
    },
    {
     "name": "stdout",
     "output_type": "stream",
     "text": [
      "new cost: 11.229452724880643 | old cost: 11.230303289201524\n",
      "Epoch 15: train=11.2295, val=11.2238, took 248.37 s\n"
     ]
    },
    {
     "data": {
      "application/vnd.jupyter.widget-view+json": {
       "model_id": "",
       "version_major": 2,
       "version_minor": 0
      },
      "text/plain": [
       "HBox(children=(FloatProgress(value=0.0, description='Training', layout=Layout(flex='2'), max=1125.0, style=Pro…"
      ]
     },
     "metadata": {},
     "output_type": "display_data"
    },
    {
     "name": "stdout",
     "output_type": "stream",
     "text": [
      "new cost: 11.22853553390503 | old cost: 11.229452724880643\n",
      "Epoch 16: train=11.2285, val=11.2235, took 247.55 s\n"
     ]
    },
    {
     "data": {
      "application/vnd.jupyter.widget-view+json": {
       "model_id": "",
       "version_major": 2,
       "version_minor": 0
      },
      "text/plain": [
       "HBox(children=(FloatProgress(value=0.0, description='Training', layout=Layout(flex='2'), max=1125.0, style=Pro…"
      ]
     },
     "metadata": {},
     "output_type": "display_data"
    },
    {
     "name": "stdout",
     "output_type": "stream",
     "text": [
      "new cost: 11.228179639604356 | old cost: 11.22853553390503\n",
      "Epoch 17: train=11.2282, val=11.2226, took 254.62 s\n"
     ]
    },
    {
     "data": {
      "application/vnd.jupyter.widget-view+json": {
       "model_id": "",
       "version_major": 2,
       "version_minor": 0
      },
      "text/plain": [
       "HBox(children=(FloatProgress(value=0.0, description='Training', layout=Layout(flex='2'), max=1125.0, style=Pro…"
      ]
     },
     "metadata": {},
     "output_type": "display_data"
    },
    {
     "name": "stdout",
     "output_type": "stream",
     "text": [
      "new cost: 11.227694550832112 | old cost: 11.228179639604356\n",
      "Epoch 18: train=11.2277, val=11.2223, took 249.88 s\n"
     ]
    },
    {
     "data": {
      "application/vnd.jupyter.widget-view+json": {
       "model_id": "",
       "version_major": 2,
       "version_minor": 0
      },
      "text/plain": [
       "HBox(children=(FloatProgress(value=0.0, description='Training', layout=Layout(flex='2'), max=1125.0, style=Pro…"
      ]
     },
     "metadata": {},
     "output_type": "display_data"
    },
    {
     "name": "stdout",
     "output_type": "stream",
     "text": [
      "new cost: 11.227121562533908 | old cost: 11.227694550832112\n",
      "Epoch 19: train=11.2271, val=11.2215, took 251.33 s\n"
     ]
    },
    {
     "data": {
      "application/vnd.jupyter.widget-view+json": {
       "model_id": "",
       "version_major": 2,
       "version_minor": 0
      },
      "text/plain": [
       "HBox(children=(FloatProgress(value=0.0, description='Training', layout=Layout(flex='2'), max=1125.0, style=Pro…"
      ]
     },
     "metadata": {},
     "output_type": "display_data"
    },
    {
     "name": "stdout",
     "output_type": "stream",
     "text": [
      "new cost: 11.226801647610134 | old cost: 11.227121562533908\n",
      "Epoch 20: train=11.2268, val=11.2208, took 250.19 s\n"
     ]
    },
    {
     "data": {
      "application/vnd.jupyter.widget-view+json": {
       "model_id": "",
       "version_major": 2,
       "version_minor": 0
      },
      "text/plain": [
       "HBox(children=(FloatProgress(value=0.0, description='Training', layout=Layout(flex='2'), max=1125.0, style=Pro…"
      ]
     },
     "metadata": {},
     "output_type": "display_data"
    },
    {
     "name": "stdout",
     "output_type": "stream",
     "text": [
      "new cost: 11.225826009114583 | old cost: 11.226801647610134\n",
      "Epoch 21: train=11.2258, val=11.2209, took 249.3 s\n"
     ]
    },
    {
     "data": {
      "application/vnd.jupyter.widget-view+json": {
       "model_id": "",
       "version_major": 2,
       "version_minor": 0
      },
      "text/plain": [
       "HBox(children=(FloatProgress(value=0.0, description='Training', layout=Layout(flex='2'), max=1125.0, style=Pro…"
      ]
     },
     "metadata": {},
     "output_type": "display_data"
    },
    {
     "name": "stdout",
     "output_type": "stream",
     "text": [
      "new cost: 11.226001337687174 | old cost: 11.225826009114583\n",
      "Epoch 22: train=11.226, val=11.22, took 244.59 s\n"
     ]
    },
    {
     "data": {
      "application/vnd.jupyter.widget-view+json": {
       "model_id": "",
       "version_major": 2,
       "version_minor": 0
      },
      "text/plain": [
       "HBox(children=(FloatProgress(value=0.0, description='Training', layout=Layout(flex='2'), max=1125.0, style=Pro…"
      ]
     },
     "metadata": {},
     "output_type": "display_data"
    },
    {
     "name": "stdout",
     "output_type": "stream",
     "text": [
      "new cost: 11.224989206526015 | old cost: 11.226001337687174\n",
      "Epoch 23: train=11.225, val=11.2206, took 246.05 s\n"
     ]
    },
    {
     "data": {
      "application/vnd.jupyter.widget-view+json": {
       "model_id": "",
       "version_major": 2,
       "version_minor": 0
      },
      "text/plain": [
       "HBox(children=(FloatProgress(value=0.0, description='Training', layout=Layout(flex='2'), max=1125.0, style=Pro…"
      ]
     },
     "metadata": {},
     "output_type": "display_data"
    },
    {
     "name": "stdout",
     "output_type": "stream",
     "text": [
      "new cost: 11.224708057403564 | old cost: 11.224989206526015\n",
      "Epoch 24: train=11.2247, val=11.221, took 255.5 s\n"
     ]
    },
    {
     "data": {
      "application/vnd.jupyter.widget-view+json": {
       "model_id": "",
       "version_major": 2,
       "version_minor": 0
      },
      "text/plain": [
       "HBox(children=(FloatProgress(value=0.0, description='Training', layout=Layout(flex='2'), max=1125.0, style=Pro…"
      ]
     },
     "metadata": {},
     "output_type": "display_data"
    },
    {
     "name": "stdout",
     "output_type": "stream",
     "text": [
      "new cost: 11.223890109168158 | old cost: 11.224708057403564\n",
      "Epoch 25: train=11.2239, val=11.2203, took 238.46 s\n"
     ]
    },
    {
     "data": {
      "application/vnd.jupyter.widget-view+json": {
       "model_id": "",
       "version_major": 2,
       "version_minor": 0
      },
      "text/plain": [
       "HBox(children=(FloatProgress(value=0.0, description='Training', layout=Layout(flex='2'), max=1125.0, style=Pro…"
      ]
     },
     "metadata": {},
     "output_type": "display_data"
    },
    {
     "name": "stdout",
     "output_type": "stream",
     "text": [
      "new cost: 11.223254280090332 | old cost: 11.223890109168158\n",
      "Epoch 26: train=11.2233, val=11.2213, took 240.27 s\n"
     ]
    },
    {
     "data": {
      "application/vnd.jupyter.widget-view+json": {
       "model_id": "",
       "version_major": 2,
       "version_minor": 0
      },
      "text/plain": [
       "HBox(children=(FloatProgress(value=0.0, description='Training', layout=Layout(flex='2'), max=1125.0, style=Pro…"
      ]
     },
     "metadata": {},
     "output_type": "display_data"
    },
    {
     "name": "stdout",
     "output_type": "stream",
     "text": [
      "new cost: 11.222847012837727 | old cost: 11.223254280090332\n",
      "Epoch 27: train=11.2228, val=11.2191, took 239.43 s\n"
     ]
    },
    {
     "data": {
      "application/vnd.jupyter.widget-view+json": {
       "model_id": "",
       "version_major": 2,
       "version_minor": 0
      },
      "text/plain": [
       "HBox(children=(FloatProgress(value=0.0, description='Training', layout=Layout(flex='2'), max=1125.0, style=Pro…"
      ]
     },
     "metadata": {},
     "output_type": "display_data"
    },
    {
     "name": "stdout",
     "output_type": "stream",
     "text": [
      "new cost: 11.222318750169542 | old cost: 11.222847012837727\n",
      "Epoch 28: train=11.2223, val=11.2193, took 238.73 s\n"
     ]
    },
    {
     "data": {
      "application/vnd.jupyter.widget-view+json": {
       "model_id": "",
       "version_major": 2,
       "version_minor": 0
      },
      "text/plain": [
       "HBox(children=(FloatProgress(value=0.0, description='Training', layout=Layout(flex='2'), max=1125.0, style=Pro…"
      ]
     },
     "metadata": {},
     "output_type": "display_data"
    },
    {
     "name": "stdout",
     "output_type": "stream",
     "text": [
      "new cost: 11.222016310373942 | old cost: 11.222318750169542\n",
      "Epoch 29: train=11.222, val=11.2185, took 241.61 s\n"
     ]
    },
    {
     "data": {
      "application/vnd.jupyter.widget-view+json": {
       "model_id": "",
       "version_major": 2,
       "version_minor": 0
      },
      "text/plain": [
       "HBox(children=(FloatProgress(value=0.0, description='Training', layout=Layout(flex='2'), max=1125.0, style=Pro…"
      ]
     },
     "metadata": {},
     "output_type": "display_data"
    },
    {
     "name": "stdout",
     "output_type": "stream",
     "text": [
      "new cost: 11.220576675415039 | old cost: 11.222016310373942\n",
      "Epoch 30: train=11.2206, val=11.2131, took 238.89 s\n"
     ]
    },
    {
     "data": {
      "application/vnd.jupyter.widget-view+json": {
       "model_id": "",
       "version_major": 2,
       "version_minor": 0
      },
      "text/plain": [
       "HBox(children=(FloatProgress(value=0.0, description='Training', layout=Layout(flex='2'), max=1125.0, style=Pro…"
      ]
     },
     "metadata": {},
     "output_type": "display_data"
    },
    {
     "name": "stdout",
     "output_type": "stream",
     "text": [
      "new cost: 11.218544860415989 | old cost: 11.220576675415039\n",
      "Epoch 31: train=11.2185, val=11.2014, took 235.8 s\n"
     ]
    },
    {
     "data": {
      "application/vnd.jupyter.widget-view+json": {
       "model_id": "",
       "version_major": 2,
       "version_minor": 0
      },
      "text/plain": [
       "HBox(children=(FloatProgress(value=0.0, description='Training', layout=Layout(flex='2'), max=1125.0, style=Pro…"
      ]
     },
     "metadata": {},
     "output_type": "display_data"
    },
    {
     "name": "stdout",
     "output_type": "stream",
     "text": [
      "new cost: 11.210318157196046 | old cost: 11.218544860415989\n",
      "Epoch 32: train=11.2103, val=11.2175, took 238.26 s\n"
     ]
    },
    {
     "data": {
      "application/vnd.jupyter.widget-view+json": {
       "model_id": "",
       "version_major": 2,
       "version_minor": 0
      },
      "text/plain": [
       "HBox(children=(FloatProgress(value=0.0, description='Training', layout=Layout(flex='2'), max=1125.0, style=Pro…"
      ]
     },
     "metadata": {},
     "output_type": "display_data"
    },
    {
     "name": "stdout",
     "output_type": "stream",
     "text": [
      "new cost: 11.207784634484184 | old cost: 11.210318157196046\n",
      "Epoch 33: train=11.2078, val=11.2179, took 238.5 s\n"
     ]
    },
    {
     "data": {
      "application/vnd.jupyter.widget-view+json": {
       "model_id": "",
       "version_major": 2,
       "version_minor": 0
      },
      "text/plain": [
       "HBox(children=(FloatProgress(value=0.0, description='Training', layout=Layout(flex='2'), max=1125.0, style=Pro…"
      ]
     },
     "metadata": {},
     "output_type": "display_data"
    },
    {
     "name": "stdout",
     "output_type": "stream",
     "text": [
      "new cost: 11.104132917192247 | old cost: 11.207784634484184\n",
      "Epoch 34: train=11.1041, val=10.8122, took 239.15 s\n"
     ]
    },
    {
     "data": {
      "application/vnd.jupyter.widget-view+json": {
       "model_id": "",
       "version_major": 2,
       "version_minor": 0
      },
      "text/plain": [
       "HBox(children=(FloatProgress(value=0.0, description='Training', layout=Layout(flex='2'), max=1125.0, style=Pro…"
      ]
     },
     "metadata": {},
     "output_type": "display_data"
    },
    {
     "name": "stdout",
     "output_type": "stream",
     "text": [
      "new cost: 10.797957146538629 | old cost: 11.104132917192247\n",
      "Epoch 35: train=10.798, val=10.5298, took 237.05 s\n"
     ]
    },
    {
     "data": {
      "application/vnd.jupyter.widget-view+json": {
       "model_id": "",
       "version_major": 2,
       "version_minor": 0
      },
      "text/plain": [
       "HBox(children=(FloatProgress(value=0.0, description='Training', layout=Layout(flex='2'), max=1125.0, style=Pro…"
      ]
     },
     "metadata": {},
     "output_type": "display_data"
    },
    {
     "name": "stdout",
     "output_type": "stream",
     "text": [
      "new cost: 10.493045461866592 | old cost: 10.797957146538629\n",
      "Epoch 36: train=10.493, val=10.1403, took 238.66 s\n"
     ]
    },
    {
     "data": {
      "application/vnd.jupyter.widget-view+json": {
       "model_id": "",
       "version_major": 2,
       "version_minor": 0
      },
      "text/plain": [
       "HBox(children=(FloatProgress(value=0.0, description='Training', layout=Layout(flex='2'), max=1125.0, style=Pro…"
      ]
     },
     "metadata": {},
     "output_type": "display_data"
    },
    {
     "name": "stdout",
     "output_type": "stream",
     "text": [
      "new cost: 10.292107682969835 | old cost: 10.493045461866592\n",
      "Epoch 37: train=10.2921, val=9.90583, took 240.96 s\n"
     ]
    },
    {
     "data": {
      "application/vnd.jupyter.widget-view+json": {
       "model_id": "",
       "version_major": 2,
       "version_minor": 0
      },
      "text/plain": [
       "HBox(children=(FloatProgress(value=0.0, description='Training', layout=Layout(flex='2'), max=1125.0, style=Pro…"
      ]
     },
     "metadata": {},
     "output_type": "display_data"
    },
    {
     "name": "stdout",
     "output_type": "stream",
     "text": [
      "new cost: 10.04735945892334 | old cost: 10.292107682969835\n",
      "Epoch 38: train=10.0474, val=9.73604, took 243.55 s\n"
     ]
    },
    {
     "data": {
      "application/vnd.jupyter.widget-view+json": {
       "model_id": "",
       "version_major": 2,
       "version_minor": 0
      },
      "text/plain": [
       "HBox(children=(FloatProgress(value=0.0, description='Training', layout=Layout(flex='2'), max=1125.0, style=Pro…"
      ]
     },
     "metadata": {},
     "output_type": "display_data"
    },
    {
     "name": "stdout",
     "output_type": "stream",
     "text": [
      "new cost: 10.055684480879043 | old cost: 10.04735945892334\n",
      "Epoch 39: train=10.0557, val=9.51816, took 248.16 s\n"
     ]
    },
    {
     "data": {
      "application/vnd.jupyter.widget-view+json": {
       "model_id": "",
       "version_major": 2,
       "version_minor": 0
      },
      "text/plain": [
       "HBox(children=(FloatProgress(value=0.0, description='Training', layout=Layout(flex='2'), max=1125.0, style=Pro…"
      ]
     },
     "metadata": {},
     "output_type": "display_data"
    },
    {
     "name": "stdout",
     "output_type": "stream",
     "text": [
      "new cost: 9.757778229607476 | old cost: 10.055684480879043\n",
      "Epoch 40: train=9.75778, val=9.35556, took 243.14 s\n"
     ]
    },
    {
     "data": {
      "application/vnd.jupyter.widget-view+json": {
       "model_id": "",
       "version_major": 2,
       "version_minor": 0
      },
      "text/plain": [
       "HBox(children=(FloatProgress(value=0.0, description='Training', layout=Layout(flex='2'), max=1125.0, style=Pro…"
      ]
     },
     "metadata": {},
     "output_type": "display_data"
    },
    {
     "name": "stdout",
     "output_type": "stream",
     "text": [
      "new cost: 10.50352854707506 | old cost: 9.757778229607476\n",
      "loss increase too large; model backstepping\n",
      "<built-in method size of Parameter object at 0x7fcf26687320> <built-in method size of Tensor object at 0x7fcf2eb2b050>\n",
      "<built-in method size of Parameter object at 0x7fcf26687050> <built-in method size of Tensor object at 0x7fcf2eb2bb40>\n",
      "<built-in method size of Parameter object at 0x7fcf26687f50> <built-in method size of Tensor object at 0x7fcf2ec23cd0>\n",
      "<built-in method size of Parameter object at 0x7fcf26687af0> <built-in method size of Tensor object at 0x7fcf2ecad870>\n",
      "<built-in method size of Parameter object at 0x7fcf266870a0> <built-in method size of Tensor object at 0x7fcf2ecad910>\n",
      "<built-in method size of Parameter object at 0x7fcf26687280> <built-in method size of Tensor object at 0x7fcf2eb2b820>\n",
      "<built-in method size of Parameter object at 0x7fcf26687230> <built-in method size of Tensor object at 0x7fcf2ead15f0>\n",
      "<built-in method size of Parameter object at 0x7fcf266871e0> <built-in method size of Tensor object at 0x7fcf2ead1140>\n",
      "<built-in method size of Parameter object at 0x7fcf26687730> <built-in method size of Tensor object at 0x7fcf2ead10f0>\n",
      "<built-in method size of Parameter object at 0x7fcf266876e0> <built-in method size of Tensor object at 0x7fcf2ebee280>\n",
      "<built-in method size of Parameter object at 0x7fcf26687aa0> <built-in method size of Tensor object at 0x7fcf2ead1d70>\n",
      "<built-in method size of Parameter object at 0x7fcf26687be0> <built-in method size of Tensor object at 0x7fcf2ec5e910>\n",
      "<built-in method size of Parameter object at 0x7fcf26687140> <built-in method size of Tensor object at 0x7fcf2ec5e5a0>\n",
      "<built-in method size of Parameter object at 0x7fcf26687fa0> <built-in method size of Tensor object at 0x7fcf2ec5e8c0>\n",
      "<built-in method size of Parameter object at 0x7fcf2668b460> <built-in method size of Tensor object at 0x7fcf2ec5e7d0>\n",
      "<built-in method size of Parameter object at 0x7fcf2668b410> <built-in method size of Tensor object at 0x7fcf2eb7b910>\n",
      "<built-in method size of Parameter object at 0x7fcf2668b370> <built-in method size of Tensor object at 0x7fcf2eb7bc80>\n",
      "<built-in method size of Parameter object at 0x7fcf2668b320> <built-in method size of Tensor object at 0x7fcf2eeafcd0>\n",
      "<built-in method size of Parameter object at 0x7fcf2668be10> <built-in method size of Tensor object at 0x7fcf2eac2af0>\n",
      "<built-in method size of Parameter object at 0x7fcf2668bfa0> <built-in method size of Tensor object at 0x7fcf2eac2460>\n",
      "<built-in method size of Parameter object at 0x7fcf2668bdc0> <built-in method size of Tensor object at 0x7fcf2ec5ecd0>\n",
      "<built-in method size of Parameter object at 0x7fcf2668bd20> <built-in method size of Tensor object at 0x7fcf2ed1b5f0>\n",
      "<built-in method size of Parameter object at 0x7fcf2668bcd0> <built-in method size of Tensor object at 0x7fcf2ed1bcd0>\n",
      "<built-in method size of Parameter object at 0x7fcf2668b910> <built-in method size of Tensor object at 0x7fcf2ed1b500>\n",
      "<built-in method size of Parameter object at 0x7fcf266899b0> <built-in method size of Tensor object at 0x7fcf2eb37eb0>\n",
      "<built-in method size of Parameter object at 0x7fcf26689960> <built-in method size of Tensor object at 0x7fcf2eb379b0>\n",
      "<built-in method size of Parameter object at 0x7fcf26689870> <built-in method size of Tensor object at 0x7fcf2ec9ab90>\n",
      "<built-in method size of Parameter object at 0x7fcf26689820> <built-in method size of Tensor object at 0x7fcf2ec60d20>\n",
      "<built-in method size of Parameter object at 0x7fcf26689a00> <built-in method size of Tensor object at 0x7fcf2ec60f00>\n",
      "<built-in method size of Parameter object at 0x7fcf266896e0> <built-in method size of Tensor object at 0x7fcf2ee8a0a0>\n",
      "lr changed to 8e-05\n",
      "Epoch 41: train=10.5035, val=10.2339, took 247.24 s\n"
     ]
    },
    {
     "data": {
      "application/vnd.jupyter.widget-view+json": {
       "model_id": "",
       "version_major": 2,
       "version_minor": 0
      },
      "text/plain": [
       "HBox(children=(FloatProgress(value=0.0, description='Training', layout=Layout(flex='2'), max=1125.0, style=Pro…"
      ]
     },
     "metadata": {},
     "output_type": "display_data"
    },
    {
     "name": "stdout",
     "output_type": "stream",
     "text": [
      "new cost: 10.092322058783637 | old cost: 9.757778229607476\n",
      "loss increase too large; model backstepping\n",
      "<built-in method size of Parameter object at 0x7fcf26687320> <built-in method size of Tensor object at 0x7fcf2ee1ce10>\n",
      "<built-in method size of Parameter object at 0x7fcf26687050> <built-in method size of Tensor object at 0x7fcf2ee1ce60>\n",
      "<built-in method size of Parameter object at 0x7fcf26687f50> <built-in method size of Tensor object at 0x7fcf2ee1cd20>\n",
      "<built-in method size of Parameter object at 0x7fcf26687af0> <built-in method size of Tensor object at 0x7fcf2ee1c1e0>\n",
      "<built-in method size of Parameter object at 0x7fcf266870a0> <built-in method size of Tensor object at 0x7fcf2ee1c8c0>\n",
      "<built-in method size of Parameter object at 0x7fcf26687280> <built-in method size of Tensor object at 0x7fcf2ee1c780>\n",
      "<built-in method size of Parameter object at 0x7fcf26687230> <built-in method size of Tensor object at 0x7fcf2eed8730>\n",
      "<built-in method size of Parameter object at 0x7fcf266871e0> <built-in method size of Tensor object at 0x7fcf1dc54960>\n",
      "<built-in method size of Parameter object at 0x7fcf26687730> <built-in method size of Tensor object at 0x7fcf2ead15f0>\n",
      "<built-in method size of Parameter object at 0x7fcf266876e0> <built-in method size of Tensor object at 0x7fcf2ead1140>\n",
      "<built-in method size of Parameter object at 0x7fcf26687aa0> <built-in method size of Tensor object at 0x7fcf2eb9e3c0>\n",
      "<built-in method size of Parameter object at 0x7fcf26687be0> <built-in method size of Tensor object at 0x7fcf2ee3b820>\n",
      "<built-in method size of Parameter object at 0x7fcf26687140> <built-in method size of Tensor object at 0x7fcf2ee3bd20>\n",
      "<built-in method size of Parameter object at 0x7fcf26687fa0> <built-in method size of Tensor object at 0x7fcf1dc5d500>\n",
      "<built-in method size of Parameter object at 0x7fcf2668b460> <built-in method size of Tensor object at 0x7fcf2ee1c280>\n",
      "<built-in method size of Parameter object at 0x7fcf2668b410> <built-in method size of Tensor object at 0x7fcf2e83d6e0>\n",
      "<built-in method size of Parameter object at 0x7fcf2668b370> <built-in method size of Tensor object at 0x7fcf2e83d690>\n",
      "<built-in method size of Parameter object at 0x7fcf2668b320> <built-in method size of Tensor object at 0x7fcf2e83d190>\n",
      "<built-in method size of Parameter object at 0x7fcf2668be10> <built-in method size of Tensor object at 0x7fcf2e84c500>\n",
      "<built-in method size of Parameter object at 0x7fcf2668bfa0> <built-in method size of Tensor object at 0x7fcf2e84c550>\n",
      "<built-in method size of Parameter object at 0x7fcf2668bdc0> <built-in method size of Tensor object at 0x7fcf2e83d500>\n",
      "<built-in method size of Parameter object at 0x7fcf2668bd20> <built-in method size of Tensor object at 0x7fcf2eea9910>\n",
      "<built-in method size of Parameter object at 0x7fcf2668bcd0> <built-in method size of Tensor object at 0x7fcf2eea9550>\n",
      "<built-in method size of Parameter object at 0x7fcf2668b910> <built-in method size of Tensor object at 0x7fcf2eea9b90>\n",
      "<built-in method size of Parameter object at 0x7fcf266899b0> <built-in method size of Tensor object at 0x7fcf2eea93c0>\n",
      "<built-in method size of Parameter object at 0x7fcf26689960> <built-in method size of Tensor object at 0x7fcf043a7820>\n",
      "<built-in method size of Parameter object at 0x7fcf26689870> <built-in method size of Tensor object at 0x7fcf2ed1c2d0>\n",
      "<built-in method size of Parameter object at 0x7fcf26689820> <built-in method size of Tensor object at 0x7fcf2edd3730>\n",
      "<built-in method size of Parameter object at 0x7fcf26689a00> <built-in method size of Tensor object at 0x7fcf1df58910>\n",
      "<built-in method size of Parameter object at 0x7fcf266896e0> <built-in method size of Tensor object at 0x7fcf2eea96e0>\n",
      "lr changed to 6.400000000000001e-05\n",
      "Epoch 42: train=10.0923, val=9.67551, took 245.9 s\n"
     ]
    },
    {
     "data": {
      "application/vnd.jupyter.widget-view+json": {
       "model_id": "",
       "version_major": 2,
       "version_minor": 0
      },
      "text/plain": [
       "HBox(children=(FloatProgress(value=0.0, description='Training', layout=Layout(flex='2'), max=1125.0, style=Pro…"
      ]
     },
     "metadata": {},
     "output_type": "display_data"
    },
    {
     "name": "stdout",
     "output_type": "stream",
     "text": [
      "new cost: 9.781296990712484 | old cost: 9.757778229607476\n",
      "Epoch 43: train=9.7813, val=9.42729, took 244.64 s\n"
     ]
    },
    {
     "data": {
      "application/vnd.jupyter.widget-view+json": {
       "model_id": "",
       "version_major": 2,
       "version_minor": 0
      },
      "text/plain": [
       "HBox(children=(FloatProgress(value=0.0, description='Training', layout=Layout(flex='2'), max=1125.0, style=Pro…"
      ]
     },
     "metadata": {},
     "output_type": "display_data"
    },
    {
     "name": "stdout",
     "output_type": "stream",
     "text": [
      "new cost: 9.550437811109754 | old cost: 9.781296990712484\n",
      "Epoch 44: train=9.55044, val=9.25872, took 247.69 s\n"
     ]
    },
    {
     "data": {
      "application/vnd.jupyter.widget-view+json": {
       "model_id": "",
       "version_major": 2,
       "version_minor": 0
      },
      "text/plain": [
       "HBox(children=(FloatProgress(value=0.0, description='Training', layout=Layout(flex='2'), max=1125.0, style=Pro…"
      ]
     },
     "metadata": {},
     "output_type": "display_data"
    },
    {
     "name": "stdout",
     "output_type": "stream",
     "text": [
      "new cost: 9.38385093688965 | old cost: 9.550437811109754\n",
      "Epoch 45: train=9.38385, val=9.02002, took 249.47 s\n"
     ]
    },
    {
     "data": {
      "application/vnd.jupyter.widget-view+json": {
       "model_id": "",
       "version_major": 2,
       "version_minor": 0
      },
      "text/plain": [
       "HBox(children=(FloatProgress(value=0.0, description='Training', layout=Layout(flex='2'), max=1125.0, style=Pro…"
      ]
     },
     "metadata": {},
     "output_type": "display_data"
    },
    {
     "name": "stdout",
     "output_type": "stream",
     "text": [
      "new cost: 9.245963406032986 | old cost: 9.38385093688965\n",
      "Epoch 46: train=9.24596, val=9.21579, took 244.92 s\n"
     ]
    },
    {
     "data": {
      "application/vnd.jupyter.widget-view+json": {
       "model_id": "",
       "version_major": 2,
       "version_minor": 0
      },
      "text/plain": [
       "HBox(children=(FloatProgress(value=0.0, description='Training', layout=Layout(flex='2'), max=1125.0, style=Pro…"
      ]
     },
     "metadata": {},
     "output_type": "display_data"
    },
    {
     "name": "stdout",
     "output_type": "stream",
     "text": [
      "new cost: 9.089394285413954 | old cost: 9.245963406032986\n",
      "Epoch 47: train=9.08939, val=8.7403, took 239.74 s\n"
     ]
    },
    {
     "data": {
      "application/vnd.jupyter.widget-view+json": {
       "model_id": "",
       "version_major": 2,
       "version_minor": 0
      },
      "text/plain": [
       "HBox(children=(FloatProgress(value=0.0, description='Training', layout=Layout(flex='2'), max=1125.0, style=Pro…"
      ]
     },
     "metadata": {},
     "output_type": "display_data"
    },
    {
     "name": "stdout",
     "output_type": "stream",
     "text": [
      "new cost: 8.95080652448866 | old cost: 9.089394285413954\n",
      "Epoch 48: train=8.95081, val=8.6133, took 244.58 s\n"
     ]
    },
    {
     "data": {
      "application/vnd.jupyter.widget-view+json": {
       "model_id": "",
       "version_major": 2,
       "version_minor": 0
      },
      "text/plain": [
       "HBox(children=(FloatProgress(value=0.0, description='Training', layout=Layout(flex='2'), max=1125.0, style=Pro…"
      ]
     },
     "metadata": {},
     "output_type": "display_data"
    },
    {
     "name": "stdout",
     "output_type": "stream",
     "text": [
      "new cost: 9.859899400922988 | old cost: 8.95080652448866\n",
      "loss increase too large; model backstepping\n",
      "<built-in method size of Parameter object at 0x7fcf26687320> <built-in method size of Tensor object at 0x7fcf1dc430f0>\n",
      "<built-in method size of Parameter object at 0x7fcf26687050> <built-in method size of Tensor object at 0x7fcf1dc43cd0>\n",
      "<built-in method size of Parameter object at 0x7fcf26687f50> <built-in method size of Tensor object at 0x7fcf1dc435a0>\n",
      "<built-in method size of Parameter object at 0x7fcf26687af0> <built-in method size of Tensor object at 0x7fcf1dc43190>\n",
      "<built-in method size of Parameter object at 0x7fcf266870a0> <built-in method size of Tensor object at 0x7fcf1dc454b0>\n",
      "<built-in method size of Parameter object at 0x7fcf26687280> <built-in method size of Tensor object at 0x7fcf1dc457d0>\n",
      "<built-in method size of Parameter object at 0x7fcf26687230> <built-in method size of Tensor object at 0x7fcf1dc45280>\n",
      "<built-in method size of Parameter object at 0x7fcf266871e0> <built-in method size of Tensor object at 0x7fcf1dc45af0>\n",
      "<built-in method size of Parameter object at 0x7fcf26687730> <built-in method size of Tensor object at 0x7fcf1dc45e10>\n",
      "<built-in method size of Parameter object at 0x7fcf266876e0> <built-in method size of Tensor object at 0x7fcf1dc45aa0>\n",
      "<built-in method size of Parameter object at 0x7fcf26687aa0> <built-in method size of Tensor object at 0x7fcf1dc45730>\n",
      "<built-in method size of Parameter object at 0x7fcf26687be0> <built-in method size of Tensor object at 0x7fcf1dc45e60>\n",
      "<built-in method size of Parameter object at 0x7fcf26687140> <built-in method size of Tensor object at 0x7fcf1dc45550>\n",
      "<built-in method size of Parameter object at 0x7fcf26687fa0> <built-in method size of Tensor object at 0x7fcf1dc45a00>\n",
      "<built-in method size of Parameter object at 0x7fcf2668b460> <built-in method size of Tensor object at 0x7fcf1dc45c80>\n",
      "<built-in method size of Parameter object at 0x7fcf2668b410> <built-in method size of Tensor object at 0x7fcf1dc452d0>\n",
      "<built-in method size of Parameter object at 0x7fcf2668b370> <built-in method size of Tensor object at 0x7fcf1dc45dc0>\n",
      "<built-in method size of Parameter object at 0x7fcf2668b320> <built-in method size of Tensor object at 0x7fcf1dc45f00>\n",
      "<built-in method size of Parameter object at 0x7fcf2668be10> <built-in method size of Tensor object at 0x7fcf1dc456e0>\n",
      "<built-in method size of Parameter object at 0x7fcf2668bfa0> <built-in method size of Tensor object at 0x7fcf1dc45eb0>\n",
      "<built-in method size of Parameter object at 0x7fcf2668bdc0> <built-in method size of Tensor object at 0x7fcf1dc451e0>\n",
      "<built-in method size of Parameter object at 0x7fcf2668bd20> <built-in method size of Tensor object at 0x7fcf1dc45230>\n",
      "<built-in method size of Parameter object at 0x7fcf2668bcd0> <built-in method size of Tensor object at 0x7fcf1dc45b40>\n",
      "<built-in method size of Parameter object at 0x7fcf2668b910> <built-in method size of Tensor object at 0x7fcf1dc45820>\n",
      "<built-in method size of Parameter object at 0x7fcf266899b0> <built-in method size of Tensor object at 0x7fcf1dc450f0>\n",
      "<built-in method size of Parameter object at 0x7fcf26689960> <built-in method size of Tensor object at 0x7fcf1dc45870>\n",
      "<built-in method size of Parameter object at 0x7fcf26689870> <built-in method size of Tensor object at 0x7fcf1dc45f50>\n",
      "<built-in method size of Parameter object at 0x7fcf26689820> <built-in method size of Tensor object at 0x7fcf1dc450a0>\n",
      "<built-in method size of Parameter object at 0x7fcf26689a00> <built-in method size of Tensor object at 0x7fcf1dc455a0>\n",
      "<built-in method size of Parameter object at 0x7fcf266896e0> <built-in method size of Tensor object at 0x7fcf1dc45d20>\n",
      "lr changed to 5.120000000000001e-05\n",
      "Epoch 49: train=9.8599, val=10.9753, took 245.69 s\n"
     ]
    },
    {
     "data": {
      "application/vnd.jupyter.widget-view+json": {
       "model_id": "",
       "version_major": 2,
       "version_minor": 0
      },
      "text/plain": [
       "HBox(children=(FloatProgress(value=0.0, description='Training', layout=Layout(flex='2'), max=1125.0, style=Pro…"
      ]
     },
     "metadata": {},
     "output_type": "display_data"
    },
    {
     "name": "stdout",
     "output_type": "stream",
     "text": [
      "new cost: 8.978924538506401 | old cost: 8.95080652448866\n",
      "Epoch 50: train=8.97892, val=8.60739, took 246.18 s\n"
     ]
    },
    {
     "data": {
      "application/vnd.jupyter.widget-view+json": {
       "model_id": "",
       "version_major": 2,
       "version_minor": 0
      },
      "text/plain": [
       "HBox(children=(FloatProgress(value=0.0, description='Training', layout=Layout(flex='2'), max=1125.0, style=Pro…"
      ]
     },
     "metadata": {},
     "output_type": "display_data"
    },
    {
     "name": "stdout",
     "output_type": "stream",
     "text": [
      "new cost: 8.83710705863105 | old cost: 8.978924538506401\n",
      "Epoch 51: train=8.83711, val=9.08576, took 247.26 s\n"
     ]
    },
    {
     "data": {
      "application/vnd.jupyter.widget-view+json": {
       "model_id": "",
       "version_major": 2,
       "version_minor": 0
      },
      "text/plain": [
       "HBox(children=(FloatProgress(value=0.0, description='Training', layout=Layout(flex='2'), max=1125.0, style=Pro…"
      ]
     },
     "metadata": {},
     "output_type": "display_data"
    },
    {
     "name": "stdout",
     "output_type": "stream",
     "text": [
      "new cost: 8.854107160780165 | old cost: 8.83710705863105\n",
      "Epoch 52: train=8.85411, val=8.41833, took 246.6 s\n"
     ]
    },
    {
     "data": {
      "application/vnd.jupyter.widget-view+json": {
       "model_id": "",
       "version_major": 2,
       "version_minor": 0
      },
      "text/plain": [
       "HBox(children=(FloatProgress(value=0.0, description='Training', layout=Layout(flex='2'), max=1125.0, style=Pro…"
      ]
     },
     "metadata": {},
     "output_type": "display_data"
    },
    {
     "name": "stdout",
     "output_type": "stream",
     "text": [
      "new cost: 8.534839230855306 | old cost: 8.854107160780165\n",
      "Epoch 53: train=8.53484, val=9.36822, took 244.43 s\n"
     ]
    },
    {
     "data": {
      "application/vnd.jupyter.widget-view+json": {
       "model_id": "",
       "version_major": 2,
       "version_minor": 0
      },
      "text/plain": [
       "HBox(children=(FloatProgress(value=0.0, description='Training', layout=Layout(flex='2'), max=1125.0, style=Pro…"
      ]
     },
     "metadata": {},
     "output_type": "display_data"
    },
    {
     "name": "stdout",
     "output_type": "stream",
     "text": [
      "new cost: 8.398277654859754 | old cost: 8.534839230855306\n",
      "Epoch 54: train=8.39828, val=8.72274, took 245.62 s\n"
     ]
    },
    {
     "data": {
      "application/vnd.jupyter.widget-view+json": {
       "model_id": "",
       "version_major": 2,
       "version_minor": 0
      },
      "text/plain": [
       "HBox(children=(FloatProgress(value=0.0, description='Training', layout=Layout(flex='2'), max=1125.0, style=Pro…"
      ]
     },
     "metadata": {},
     "output_type": "display_data"
    },
    {
     "name": "stdout",
     "output_type": "stream",
     "text": [
      "new cost: 8.311403558519151 | old cost: 8.398277654859754\n",
      "Epoch 55: train=8.3114, val=9.16319, took 239.0 s\n"
     ]
    },
    {
     "data": {
      "application/vnd.jupyter.widget-view+json": {
       "model_id": "",
       "version_major": 2,
       "version_minor": 0
      },
      "text/plain": [
       "HBox(children=(FloatProgress(value=0.0, description='Training', layout=Layout(flex='2'), max=1125.0, style=Pro…"
      ]
     },
     "metadata": {},
     "output_type": "display_data"
    },
    {
     "name": "stdout",
     "output_type": "stream",
     "text": [
      "new cost: 8.34766060256958 | old cost: 8.311403558519151\n",
      "Epoch 56: train=8.34766, val=8.59584, took 248.3 s\n"
     ]
    },
    {
     "data": {
      "application/vnd.jupyter.widget-view+json": {
       "model_id": "",
       "version_major": 2,
       "version_minor": 0
      },
      "text/plain": [
       "HBox(children=(FloatProgress(value=0.0, description='Training', layout=Layout(flex='2'), max=1125.0, style=Pro…"
      ]
     },
     "metadata": {},
     "output_type": "display_data"
    },
    {
     "name": "stdout",
     "output_type": "stream",
     "text": [
      "new cost: 8.368322311401368 | old cost: 8.34766060256958\n",
      "Epoch 57: train=8.36832, val=9.5857, took 243.55 s\n"
     ]
    },
    {
     "data": {
      "application/vnd.jupyter.widget-view+json": {
       "model_id": "",
       "version_major": 2,
       "version_minor": 0
      },
      "text/plain": [
       "HBox(children=(FloatProgress(value=0.0, description='Training', layout=Layout(flex='2'), max=1125.0, style=Pro…"
      ]
     },
     "metadata": {},
     "output_type": "display_data"
    },
    {
     "name": "stdout",
     "output_type": "stream",
     "text": [
      "new cost: 8.151264151679145 | old cost: 8.368322311401368\n",
      "Epoch 58: train=8.15126, val=7.89529, took 259.58 s\n"
     ]
    },
    {
     "data": {
      "application/vnd.jupyter.widget-view+json": {
       "model_id": "",
       "version_major": 2,
       "version_minor": 0
      },
      "text/plain": [
       "HBox(children=(FloatProgress(value=0.0, description='Training', layout=Layout(flex='2'), max=1125.0, style=Pro…"
      ]
     },
     "metadata": {},
     "output_type": "display_data"
    },
    {
     "name": "stdout",
     "output_type": "stream",
     "text": [
      "new cost: 8.177176266988118 | old cost: 8.151264151679145\n",
      "Epoch 59: train=8.17718, val=7.81359, took 265.49 s\n"
     ]
    },
    {
     "data": {
      "application/vnd.jupyter.widget-view+json": {
       "model_id": "",
       "version_major": 2,
       "version_minor": 0
      },
      "text/plain": [
       "HBox(children=(FloatProgress(value=0.0, description='Training', layout=Layout(flex='2'), max=1125.0, style=Pro…"
      ]
     },
     "metadata": {},
     "output_type": "display_data"
    },
    {
     "name": "stdout",
     "output_type": "stream",
     "text": [
      "new cost: 8.260767414093017 | old cost: 8.177176266988118\n",
      "Epoch 60: train=8.26077, val=9.33355, took 244.04 s\n"
     ]
    },
    {
     "data": {
      "application/vnd.jupyter.widget-view+json": {
       "model_id": "",
       "version_major": 2,
       "version_minor": 0
      },
      "text/plain": [
       "HBox(children=(FloatProgress(value=0.0, description='Training', layout=Layout(flex='2'), max=1125.0, style=Pro…"
      ]
     },
     "metadata": {},
     "output_type": "display_data"
    },
    {
     "name": "stdout",
     "output_type": "stream",
     "text": [
      "new cost: 8.331293589697944 | old cost: 8.260767414093017\n",
      "Epoch 61: train=8.33129, val=7.66296, took 239.44 s\n"
     ]
    },
    {
     "data": {
      "application/vnd.jupyter.widget-view+json": {
       "model_id": "",
       "version_major": 2,
       "version_minor": 0
      },
      "text/plain": [
       "HBox(children=(FloatProgress(value=0.0, description='Training', layout=Layout(flex='2'), max=1125.0, style=Pro…"
      ]
     },
     "metadata": {},
     "output_type": "display_data"
    },
    {
     "name": "stdout",
     "output_type": "stream",
     "text": [
      "new cost: 8.035889445410834 | old cost: 8.331293589697944\n",
      "Epoch 62: train=8.03589, val=10.0486, took 241.29 s\n"
     ]
    },
    {
     "data": {
      "application/vnd.jupyter.widget-view+json": {
       "model_id": "",
       "version_major": 2,
       "version_minor": 0
      },
      "text/plain": [
       "HBox(children=(FloatProgress(value=0.0, description='Training', layout=Layout(flex='2'), max=1125.0, style=Pro…"
      ]
     },
     "metadata": {},
     "output_type": "display_data"
    },
    {
     "name": "stdout",
     "output_type": "stream",
     "text": [
      "new cost: 8.125641237046983 | old cost: 8.035889445410834\n",
      "Epoch 63: train=8.12564, val=7.68232, took 241.8 s\n"
     ]
    },
    {
     "data": {
      "application/vnd.jupyter.widget-view+json": {
       "model_id": "",
       "version_major": 2,
       "version_minor": 0
      },
      "text/plain": [
       "HBox(children=(FloatProgress(value=0.0, description='Training', layout=Layout(flex='2'), max=1125.0, style=Pro…"
      ]
     },
     "metadata": {},
     "output_type": "display_data"
    },
    {
     "name": "stdout",
     "output_type": "stream",
     "text": [
      "new cost: 8.362047384897869 | old cost: 8.125641237046983\n",
      "loss increase too large; model backstepping\n",
      "<built-in method size of Parameter object at 0x7fcf26687320> <built-in method size of Tensor object at 0x7fcf2ecaf1e0>\n",
      "<built-in method size of Parameter object at 0x7fcf26687050> <built-in method size of Tensor object at 0x7fcf1df43e60>\n",
      "<built-in method size of Parameter object at 0x7fcf26687f50> <built-in method size of Tensor object at 0x7fcf26791190>\n",
      "<built-in method size of Parameter object at 0x7fcf26687af0> <built-in method size of Tensor object at 0x7fcf26791cd0>\n",
      "<built-in method size of Parameter object at 0x7fcf266870a0> <built-in method size of Tensor object at 0x7fcf26791f50>\n",
      "<built-in method size of Parameter object at 0x7fcf26687280> <built-in method size of Tensor object at 0x7fcf267917d0>\n",
      "<built-in method size of Parameter object at 0x7fcf26687230> <built-in method size of Tensor object at 0x7fcf26791780>\n",
      "<built-in method size of Parameter object at 0x7fcf266871e0> <built-in method size of Tensor object at 0x7fcf26791b90>\n",
      "<built-in method size of Parameter object at 0x7fcf26687730> <built-in method size of Tensor object at 0x7fcf26791690>\n",
      "<built-in method size of Parameter object at 0x7fcf266876e0> <built-in method size of Tensor object at 0x7fcf2ee3d780>\n",
      "<built-in method size of Parameter object at 0x7fcf26687aa0> <built-in method size of Tensor object at 0x7fcf2ee3d910>\n",
      "<built-in method size of Parameter object at 0x7fcf26687be0> <built-in method size of Tensor object at 0x7fcf2ee3d9b0>\n",
      "<built-in method size of Parameter object at 0x7fcf26687140> <built-in method size of Tensor object at 0x7fcf2ee3dc30>\n",
      "<built-in method size of Parameter object at 0x7fcf26687fa0> <built-in method size of Tensor object at 0x7fcf04397280>\n",
      "<built-in method size of Parameter object at 0x7fcf2668b460> <built-in method size of Tensor object at 0x7fcf043adcd0>\n",
      "<built-in method size of Parameter object at 0x7fcf2668b410> <built-in method size of Tensor object at 0x7fcf043ad050>\n",
      "<built-in method size of Parameter object at 0x7fcf2668b370> <built-in method size of Tensor object at 0x7fcf1dc45e60>\n",
      "<built-in method size of Parameter object at 0x7fcf2668b320> <built-in method size of Tensor object at 0x7fcf1dc49d20>\n",
      "<built-in method size of Parameter object at 0x7fcf2668be10> <built-in method size of Tensor object at 0x7fcf1dc49320>\n",
      "<built-in method size of Parameter object at 0x7fcf2668bfa0> <built-in method size of Tensor object at 0x7fcf2ec4ae60>\n",
      "<built-in method size of Parameter object at 0x7fcf2668bdc0> <built-in method size of Tensor object at 0x7fcf2ee65b90>\n",
      "<built-in method size of Parameter object at 0x7fcf2668bd20> <built-in method size of Tensor object at 0x7fcf2ee3d0f0>\n",
      "<built-in method size of Parameter object at 0x7fcf2668bcd0> <built-in method size of Tensor object at 0x7fcf26784140>\n",
      "<built-in method size of Parameter object at 0x7fcf2668b910> <built-in method size of Tensor object at 0x7fcf26784640>\n",
      "<built-in method size of Parameter object at 0x7fcf266899b0> <built-in method size of Tensor object at 0x7fcf26784460>\n",
      "<built-in method size of Parameter object at 0x7fcf26689960> <built-in method size of Tensor object at 0x7fcf2eba15a0>\n",
      "<built-in method size of Parameter object at 0x7fcf26689870> <built-in method size of Tensor object at 0x7fcf2678be60>\n",
      "<built-in method size of Parameter object at 0x7fcf26689820> <built-in method size of Tensor object at 0x7fcf2678b370>\n",
      "<built-in method size of Parameter object at 0x7fcf26689a00> <built-in method size of Tensor object at 0x7fcf2ea79820>\n",
      "<built-in method size of Parameter object at 0x7fcf266896e0> <built-in method size of Tensor object at 0x7fcf26777f00>\n",
      "lr changed to 4.0960000000000014e-05\n",
      "Epoch 64: train=8.36205, val=7.56173, took 242.34 s\n"
     ]
    },
    {
     "data": {
      "application/vnd.jupyter.widget-view+json": {
       "model_id": "",
       "version_major": 2,
       "version_minor": 0
      },
      "text/plain": [
       "HBox(children=(FloatProgress(value=0.0, description='Training', layout=Layout(flex='2'), max=1125.0, style=Pro…"
      ]
     },
     "metadata": {},
     "output_type": "display_data"
    },
    {
     "name": "stdout",
     "output_type": "stream",
     "text": [
      "new cost: 7.7452798817952475 | old cost: 8.125641237046983\n",
      "Epoch 65: train=7.74528, val=8.30845, took 233.12 s\n"
     ]
    },
    {
     "data": {
      "application/vnd.jupyter.widget-view+json": {
       "model_id": "",
       "version_major": 2,
       "version_minor": 0
      },
      "text/plain": [
       "HBox(children=(FloatProgress(value=0.0, description='Training', layout=Layout(flex='2'), max=1125.0, style=Pro…"
      ]
     },
     "metadata": {},
     "output_type": "display_data"
    },
    {
     "name": "stdout",
     "output_type": "stream",
     "text": [
      "new cost: 7.747194926367865 | old cost: 7.7452798817952475\n",
      "Epoch 66: train=7.74719, val=8.921, took 242.55 s\n"
     ]
    },
    {
     "data": {
      "application/vnd.jupyter.widget-view+json": {
       "model_id": "",
       "version_major": 2,
       "version_minor": 0
      },
      "text/plain": [
       "HBox(children=(FloatProgress(value=0.0, description='Training', layout=Layout(flex='2'), max=1125.0, style=Pro…"
      ]
     },
     "metadata": {},
     "output_type": "display_data"
    },
    {
     "name": "stdout",
     "output_type": "stream",
     "text": [
      "new cost: 8.099476027594672 | old cost: 7.747194926367865\n",
      "loss increase too large; model backstepping\n",
      "<built-in method size of Parameter object at 0x7fcf26687320> <built-in method size of Tensor object at 0x7fcf2ee93b40>\n",
      "<built-in method size of Parameter object at 0x7fcf26687050> <built-in method size of Tensor object at 0x7fcf2ee93910>\n",
      "<built-in method size of Parameter object at 0x7fcf26687f50> <built-in method size of Tensor object at 0x7fcf2ee93dc0>\n",
      "<built-in method size of Parameter object at 0x7fcf26687af0> <built-in method size of Tensor object at 0x7fcf2ea5cf00>\n",
      "<built-in method size of Parameter object at 0x7fcf266870a0> <built-in method size of Tensor object at 0x7fcf2ea5cbe0>\n",
      "<built-in method size of Parameter object at 0x7fcf26687280> <built-in method size of Tensor object at 0x7fcf2ea5cc30>\n",
      "<built-in method size of Parameter object at 0x7fcf26687230> <built-in method size of Tensor object at 0x7fcf2ea5c550>\n",
      "<built-in method size of Parameter object at 0x7fcf266871e0> <built-in method size of Tensor object at 0x7fcf2ea5c960>\n",
      "<built-in method size of Parameter object at 0x7fcf26687730> <built-in method size of Tensor object at 0x7fcf2ea5ceb0>\n",
      "<built-in method size of Parameter object at 0x7fcf266876e0> <built-in method size of Tensor object at 0x7fcf2ea5c500>\n",
      "<built-in method size of Parameter object at 0x7fcf26687aa0> <built-in method size of Tensor object at 0x7fcf2ea5c9b0>\n",
      "<built-in method size of Parameter object at 0x7fcf26687be0> <built-in method size of Tensor object at 0x7fcf2ea5cb40>\n",
      "<built-in method size of Parameter object at 0x7fcf26687140> <built-in method size of Tensor object at 0x7fcf2ea5cd70>\n",
      "<built-in method size of Parameter object at 0x7fcf26687fa0> <built-in method size of Tensor object at 0x7fcf2ea5cf50>\n",
      "<built-in method size of Parameter object at 0x7fcf2668b460> <built-in method size of Tensor object at 0x7fcf2ea5cdc0>\n",
      "<built-in method size of Parameter object at 0x7fcf2668b410> <built-in method size of Tensor object at 0x7fcf2ea5cb90>\n",
      "<built-in method size of Parameter object at 0x7fcf2668b370> <built-in method size of Tensor object at 0x7fcf2ea5c8c0>\n",
      "<built-in method size of Parameter object at 0x7fcf2668b320> <built-in method size of Tensor object at 0x7fcf2ea5c640>\n",
      "<built-in method size of Parameter object at 0x7fcf2668be10> <built-in method size of Tensor object at 0x7fcf2ea5c820>\n",
      "<built-in method size of Parameter object at 0x7fcf2668bfa0> <built-in method size of Tensor object at 0x7fcf2ea5c280>\n",
      "<built-in method size of Parameter object at 0x7fcf2668bdc0> <built-in method size of Tensor object at 0x7fcf2ea5ccd0>\n",
      "<built-in method size of Parameter object at 0x7fcf2668bd20> <built-in method size of Tensor object at 0x7fcf2ec84910>\n",
      "<built-in method size of Parameter object at 0x7fcf2668bcd0> <built-in method size of Tensor object at 0x7fcf2ea5c4b0>\n",
      "<built-in method size of Parameter object at 0x7fcf2668b910> <built-in method size of Tensor object at 0x7fcf2eae8190>\n",
      "<built-in method size of Parameter object at 0x7fcf266899b0> <built-in method size of Tensor object at 0x7fcf2eae8af0>\n",
      "<built-in method size of Parameter object at 0x7fcf26689960> <built-in method size of Tensor object at 0x7fcf2eae85f0>\n",
      "<built-in method size of Parameter object at 0x7fcf26689870> <built-in method size of Tensor object at 0x7fcf2eae8730>\n",
      "<built-in method size of Parameter object at 0x7fcf26689820> <built-in method size of Tensor object at 0x7fcf2eae8b90>\n",
      "<built-in method size of Parameter object at 0x7fcf26689a00> <built-in method size of Tensor object at 0x7fcf2eae8820>\n",
      "<built-in method size of Parameter object at 0x7fcf266896e0> <built-in method size of Tensor object at 0x7fcf04775370>\n",
      "lr changed to 3.2768000000000016e-05\n",
      "Epoch 67: train=8.09948, val=8.4286, took 241.29 s\n"
     ]
    },
    {
     "data": {
      "application/vnd.jupyter.widget-view+json": {
       "model_id": "",
       "version_major": 2,
       "version_minor": 0
      },
      "text/plain": [
       "HBox(children=(FloatProgress(value=0.0, description='Training', layout=Layout(flex='2'), max=1125.0, style=Pro…"
      ]
     },
     "metadata": {},
     "output_type": "display_data"
    },
    {
     "name": "stdout",
     "output_type": "stream",
     "text": [
      "new cost: 7.4620958819919165 | old cost: 7.747194926367865\n",
      "Epoch 68: train=7.4621, val=8.05676, took 240.75 s\n"
     ]
    },
    {
     "data": {
      "application/vnd.jupyter.widget-view+json": {
       "model_id": "",
       "version_major": 2,
       "version_minor": 0
      },
      "text/plain": [
       "HBox(children=(FloatProgress(value=0.0, description='Training', layout=Layout(flex='2'), max=1125.0, style=Pro…"
      ]
     },
     "metadata": {},
     "output_type": "display_data"
    },
    {
     "name": "stdout",
     "output_type": "stream",
     "text": [
      "new cost: 7.586959773593478 | old cost: 7.4620958819919165\n",
      "Epoch 69: train=7.58696, val=7.80607, took 243.21 s\n"
     ]
    },
    {
     "data": {
      "application/vnd.jupyter.widget-view+json": {
       "model_id": "",
       "version_major": 2,
       "version_minor": 0
      },
      "text/plain": [
       "HBox(children=(FloatProgress(value=0.0, description='Training', layout=Layout(flex='2'), max=1125.0, style=Pro…"
      ]
     },
     "metadata": {},
     "output_type": "display_data"
    },
    {
     "name": "stdout",
     "output_type": "stream",
     "text": [
      "new cost: 7.39231097624037 | old cost: 7.586959773593478\n",
      "Epoch 70: train=7.39231, val=7.27354, took 243.57 s\n"
     ]
    },
    {
     "data": {
      "application/vnd.jupyter.widget-view+json": {
       "model_id": "",
       "version_major": 2,
       "version_minor": 0
      },
      "text/plain": [
       "HBox(children=(FloatProgress(value=0.0, description='Training', layout=Layout(flex='2'), max=1125.0, style=Pro…"
      ]
     },
     "metadata": {},
     "output_type": "display_data"
    },
    {
     "name": "stdout",
     "output_type": "stream",
     "text": [
      "new cost: 7.364653860727946 | old cost: 7.39231097624037\n",
      "Epoch 71: train=7.36465, val=7.19639, took 241.83 s\n"
     ]
    },
    {
     "data": {
      "application/vnd.jupyter.widget-view+json": {
       "model_id": "",
       "version_major": 2,
       "version_minor": 0
      },
      "text/plain": [
       "HBox(children=(FloatProgress(value=0.0, description='Training', layout=Layout(flex='2'), max=1125.0, style=Pro…"
      ]
     },
     "metadata": {},
     "output_type": "display_data"
    },
    {
     "name": "stdout",
     "output_type": "stream",
     "text": [
      "new cost: 7.32771080186632 | old cost: 7.364653860727946\n",
      "Epoch 72: train=7.32771, val=9.60251, took 242.34 s\n"
     ]
    },
    {
     "data": {
      "application/vnd.jupyter.widget-view+json": {
       "model_id": "",
       "version_major": 2,
       "version_minor": 0
      },
      "text/plain": [
       "HBox(children=(FloatProgress(value=0.0, description='Training', layout=Layout(flex='2'), max=1125.0, style=Pro…"
      ]
     },
     "metadata": {},
     "output_type": "display_data"
    },
    {
     "name": "stdout",
     "output_type": "stream",
     "text": [
      "new cost: 7.492171962738037 | old cost: 7.32771080186632\n",
      "loss increase too large; model backstepping\n",
      "<built-in method size of Parameter object at 0x7fcf26687320> <built-in method size of Tensor object at 0x7fcf2ec07d70>\n",
      "<built-in method size of Parameter object at 0x7fcf26687050> <built-in method size of Tensor object at 0x7fcf2ec07af0>\n",
      "<built-in method size of Parameter object at 0x7fcf26687f50> <built-in method size of Tensor object at 0x7fcf2ec077d0>\n",
      "<built-in method size of Parameter object at 0x7fcf26687af0> <built-in method size of Tensor object at 0x7fcf2ec07c80>\n",
      "<built-in method size of Parameter object at 0x7fcf266870a0> <built-in method size of Tensor object at 0x7fcf2ec079b0>\n",
      "<built-in method size of Parameter object at 0x7fcf26687280> <built-in method size of Tensor object at 0x7fcf2ec07140>\n",
      "<built-in method size of Parameter object at 0x7fcf26687230> <built-in method size of Tensor object at 0x7fcf2ec07cd0>\n",
      "<built-in method size of Parameter object at 0x7fcf266871e0> <built-in method size of Tensor object at 0x7fcf2ec075f0>\n",
      "<built-in method size of Parameter object at 0x7fcf26687730> <built-in method size of Tensor object at 0x7fcf2ec07e10>\n",
      "<built-in method size of Parameter object at 0x7fcf266876e0> <built-in method size of Tensor object at 0x7fcf2ec07410>\n",
      "<built-in method size of Parameter object at 0x7fcf26687aa0> <built-in method size of Tensor object at 0x7fcf2ec07460>\n",
      "<built-in method size of Parameter object at 0x7fcf26687be0> <built-in method size of Tensor object at 0x7fcf2ec07640>\n",
      "<built-in method size of Parameter object at 0x7fcf26687140> <built-in method size of Tensor object at 0x7fcf2ec073c0>\n",
      "<built-in method size of Parameter object at 0x7fcf26687fa0> <built-in method size of Tensor object at 0x7fcf2ec07fa0>\n",
      "<built-in method size of Parameter object at 0x7fcf2668b460> <built-in method size of Tensor object at 0x7fcf2ec07500>\n",
      "<built-in method size of Parameter object at 0x7fcf2668b410> <built-in method size of Tensor object at 0x7fcf2ec07690>\n",
      "<built-in method size of Parameter object at 0x7fcf2668b370> <built-in method size of Tensor object at 0x7fcf2ec07f50>\n",
      "<built-in method size of Parameter object at 0x7fcf2668b320> <built-in method size of Tensor object at 0x7fcf2ec07f00>\n",
      "<built-in method size of Parameter object at 0x7fcf2668be10> <built-in method size of Tensor object at 0x7fcf2ec076e0>\n",
      "<built-in method size of Parameter object at 0x7fcf2668bfa0> <built-in method size of Tensor object at 0x7fcf2ec07730>\n",
      "<built-in method size of Parameter object at 0x7fcf2668bdc0> <built-in method size of Tensor object at 0x7fcf2ec07820>\n",
      "<built-in method size of Parameter object at 0x7fcf2668bd20> <built-in method size of Tensor object at 0x7fcf2ec07230>\n",
      "<built-in method size of Parameter object at 0x7fcf2668bcd0> <built-in method size of Tensor object at 0x7fcf2ec07280>\n",
      "<built-in method size of Parameter object at 0x7fcf2668b910> <built-in method size of Tensor object at 0x7fcf2ec07a50>\n",
      "<built-in method size of Parameter object at 0x7fcf266899b0> <built-in method size of Tensor object at 0x7fcf2ec07dc0>\n",
      "<built-in method size of Parameter object at 0x7fcf26689960> <built-in method size of Tensor object at 0x7fcf2ec07be0>\n",
      "<built-in method size of Parameter object at 0x7fcf26689870> <built-in method size of Tensor object at 0x7fcf2ec07d20>\n",
      "<built-in method size of Parameter object at 0x7fcf26689820> <built-in method size of Tensor object at 0x7fcf2ea79820>\n",
      "<built-in method size of Parameter object at 0x7fcf26689a00> <built-in method size of Tensor object at 0x7fcf2ec07eb0>\n",
      "<built-in method size of Parameter object at 0x7fcf266896e0> <built-in method size of Tensor object at 0x7fcf2ea6f460>\n",
      "lr changed to 2.6214400000000015e-05\n",
      "Epoch 73: train=7.49217, val=7.73283, took 243.31 s\n"
     ]
    },
    {
     "data": {
      "application/vnd.jupyter.widget-view+json": {
       "model_id": "",
       "version_major": 2,
       "version_minor": 0
      },
      "text/plain": [
       "HBox(children=(FloatProgress(value=0.0, description='Training', layout=Layout(flex='2'), max=1125.0, style=Pro…"
      ]
     },
     "metadata": {},
     "output_type": "display_data"
    },
    {
     "name": "stdout",
     "output_type": "stream",
     "text": [
      "new cost: 7.180927909427219 | old cost: 7.32771080186632\n",
      "Epoch 74: train=7.18093, val=7.08437, took 242.84 s\n"
     ]
    },
    {
     "data": {
      "application/vnd.jupyter.widget-view+json": {
       "model_id": "",
       "version_major": 2,
       "version_minor": 0
      },
      "text/plain": [
       "HBox(children=(FloatProgress(value=0.0, description='Training', layout=Layout(flex='2'), max=1125.0, style=Pro…"
      ]
     },
     "metadata": {},
     "output_type": "display_data"
    },
    {
     "name": "stdout",
     "output_type": "stream",
     "text": [
      "new cost: 7.180939398023817 | old cost: 7.180927909427219\n",
      "Epoch 75: train=7.18094, val=7.19466, took 242.21 s\n"
     ]
    },
    {
     "data": {
      "application/vnd.jupyter.widget-view+json": {
       "model_id": "",
       "version_major": 2,
       "version_minor": 0
      },
      "text/plain": [
       "HBox(children=(FloatProgress(value=0.0, description='Training', layout=Layout(flex='2'), max=1125.0, style=Pro…"
      ]
     },
     "metadata": {},
     "output_type": "display_data"
    },
    {
     "name": "stdout",
     "output_type": "stream",
     "text": [
      "new cost: 7.201281479729547 | old cost: 7.180939398023817\n",
      "Epoch 76: train=7.20128, val=7.13313, took 240.93 s\n"
     ]
    },
    {
     "data": {
      "application/vnd.jupyter.widget-view+json": {
       "model_id": "",
       "version_major": 2,
       "version_minor": 0
      },
      "text/plain": [
       "HBox(children=(FloatProgress(value=0.0, description='Training', layout=Layout(flex='2'), max=1125.0, style=Pro…"
      ]
     },
     "metadata": {},
     "output_type": "display_data"
    },
    {
     "name": "stdout",
     "output_type": "stream",
     "text": [
      "new cost: 7.036415348052978 | old cost: 7.201281479729547\n",
      "Epoch 77: train=7.03642, val=8.92853, took 239.85 s\n"
     ]
    },
    {
     "data": {
      "application/vnd.jupyter.widget-view+json": {
       "model_id": "",
       "version_major": 2,
       "version_minor": 0
      },
      "text/plain": [
       "HBox(children=(FloatProgress(value=0.0, description='Training', layout=Layout(flex='2'), max=1125.0, style=Pro…"
      ]
     },
     "metadata": {},
     "output_type": "display_data"
    },
    {
     "name": "stdout",
     "output_type": "stream",
     "text": [
      "new cost: 7.183115553749932 | old cost: 7.036415348052978\n",
      "loss increase too large; model backstepping\n",
      "<built-in method size of Parameter object at 0x7fcf26687320> <built-in method size of Tensor object at 0x7fcf2eca9c80>\n",
      "<built-in method size of Parameter object at 0x7fcf26687050> <built-in method size of Tensor object at 0x7fcf2eca9960>\n",
      "<built-in method size of Parameter object at 0x7fcf26687f50> <built-in method size of Tensor object at 0x7fcf2eca9460>\n",
      "<built-in method size of Parameter object at 0x7fcf26687af0> <built-in method size of Tensor object at 0x7fcf2ec46cd0>\n",
      "<built-in method size of Parameter object at 0x7fcf266870a0> <built-in method size of Tensor object at 0x7fcf2ec46410>\n",
      "<built-in method size of Parameter object at 0x7fcf26687280> <built-in method size of Tensor object at 0x7fcf2ec46870>\n",
      "<built-in method size of Parameter object at 0x7fcf26687230> <built-in method size of Tensor object at 0x7fcf2ec465a0>\n",
      "<built-in method size of Parameter object at 0x7fcf266871e0> <built-in method size of Tensor object at 0x7fcf2ec46320>\n",
      "<built-in method size of Parameter object at 0x7fcf26687730> <built-in method size of Tensor object at 0x7fcf2ee9b730>\n",
      "<built-in method size of Parameter object at 0x7fcf266876e0> <built-in method size of Tensor object at 0x7fcf2ec46190>\n",
      "<built-in method size of Parameter object at 0x7fcf26687aa0> <built-in method size of Tensor object at 0x7fcf2ea562d0>\n",
      "<built-in method size of Parameter object at 0x7fcf26687be0> <built-in method size of Tensor object at 0x7fcf2ea56820>\n",
      "<built-in method size of Parameter object at 0x7fcf26687140> <built-in method size of Tensor object at 0x7fcf2ea56f00>\n",
      "<built-in method size of Parameter object at 0x7fcf26687fa0> <built-in method size of Tensor object at 0x7fcf2ea56730>\n",
      "<built-in method size of Parameter object at 0x7fcf2668b460> <built-in method size of Tensor object at 0x7fcf2ea56d20>\n",
      "<built-in method size of Parameter object at 0x7fcf2668b410> <built-in method size of Tensor object at 0x7fcf2ea56870>\n",
      "<built-in method size of Parameter object at 0x7fcf2668b370> <built-in method size of Tensor object at 0x7fcf2ea56c30>\n",
      "<built-in method size of Parameter object at 0x7fcf2668b320> <built-in method size of Tensor object at 0x7fcf2ea56fa0>\n",
      "<built-in method size of Parameter object at 0x7fcf2668be10> <built-in method size of Tensor object at 0x7fcf2ea56500>\n",
      "<built-in method size of Parameter object at 0x7fcf2668bfa0> <built-in method size of Tensor object at 0x7fcf2ea56640>\n",
      "<built-in method size of Parameter object at 0x7fcf2668bdc0> <built-in method size of Tensor object at 0x7fcf2ea56140>\n",
      "<built-in method size of Parameter object at 0x7fcf2668bd20> <built-in method size of Tensor object at 0x7fcf2ea56e10>\n",
      "<built-in method size of Parameter object at 0x7fcf2668bcd0> <built-in method size of Tensor object at 0x7fcf2e930910>\n",
      "<built-in method size of Parameter object at 0x7fcf2668b910> <built-in method size of Tensor object at 0x7fcf043a0a00>\n",
      "<built-in method size of Parameter object at 0x7fcf266899b0> <built-in method size of Tensor object at 0x7fcf043a0aa0>\n",
      "<built-in method size of Parameter object at 0x7fcf26689960> <built-in method size of Tensor object at 0x7fcf2ee65e10>\n",
      "<built-in method size of Parameter object at 0x7fcf26689870> <built-in method size of Tensor object at 0x7fcf2ec49050>\n",
      "<built-in method size of Parameter object at 0x7fcf26689820> <built-in method size of Tensor object at 0x7fcf2ec49e60>\n",
      "<built-in method size of Parameter object at 0x7fcf26689a00> <built-in method size of Tensor object at 0x7fcf2eb2bb90>\n",
      "<built-in method size of Parameter object at 0x7fcf266896e0> <built-in method size of Tensor object at 0x7fcf1df4af50>\n",
      "lr changed to 2.0971520000000012e-05\n",
      "Epoch 78: train=7.18312, val=7.18615, took 241.06 s\n"
     ]
    },
    {
     "data": {
      "application/vnd.jupyter.widget-view+json": {
       "model_id": "",
       "version_major": 2,
       "version_minor": 0
      },
      "text/plain": [
       "HBox(children=(FloatProgress(value=0.0, description='Training', layout=Layout(flex='2'), max=1125.0, style=Pro…"
      ]
     },
     "metadata": {},
     "output_type": "display_data"
    },
    {
     "name": "stdout",
     "output_type": "stream",
     "text": [
      "new cost: 7.000045335769653 | old cost: 7.036415348052978\n",
      "Epoch 79: train=7.00005, val=7.2473, took 240.96 s\n"
     ]
    },
    {
     "data": {
      "application/vnd.jupyter.widget-view+json": {
       "model_id": "",
       "version_major": 2,
       "version_minor": 0
      },
      "text/plain": [
       "HBox(children=(FloatProgress(value=0.0, description='Training', layout=Layout(flex='2'), max=1125.0, style=Pro…"
      ]
     },
     "metadata": {},
     "output_type": "display_data"
    },
    {
     "name": "stdout",
     "output_type": "stream",
     "text": [
      "new cost: 7.017404909345839 | old cost: 7.000045335769653\n",
      "Epoch 80: train=7.0174, val=6.95035, took 241.28 s\n"
     ]
    },
    {
     "data": {
      "application/vnd.jupyter.widget-view+json": {
       "model_id": "",
       "version_major": 2,
       "version_minor": 0
      },
      "text/plain": [
       "HBox(children=(FloatProgress(value=0.0, description='Training', layout=Layout(flex='2'), max=1125.0, style=Pro…"
      ]
     },
     "metadata": {},
     "output_type": "display_data"
    },
    {
     "name": "stdout",
     "output_type": "stream",
     "text": [
      "new cost: 6.969793698628743 | old cost: 7.017404909345839\n",
      "Epoch 81: train=6.96979, val=6.89511, took 238.8 s\n"
     ]
    },
    {
     "data": {
      "application/vnd.jupyter.widget-view+json": {
       "model_id": "",
       "version_major": 2,
       "version_minor": 0
      },
      "text/plain": [
       "HBox(children=(FloatProgress(value=0.0, description='Training', layout=Layout(flex='2'), max=1125.0, style=Pro…"
      ]
     },
     "metadata": {},
     "output_type": "display_data"
    },
    {
     "name": "stdout",
     "output_type": "stream",
     "text": [
      "new cost: 6.902986050711737 | old cost: 6.969793698628743\n",
      "Epoch 82: train=6.90299, val=6.95351, took 234.28 s\n"
     ]
    },
    {
     "data": {
      "application/vnd.jupyter.widget-view+json": {
       "model_id": "",
       "version_major": 2,
       "version_minor": 0
      },
      "text/plain": [
       "HBox(children=(FloatProgress(value=0.0, description='Training', layout=Layout(flex='2'), max=1125.0, style=Pro…"
      ]
     },
     "metadata": {},
     "output_type": "display_data"
    },
    {
     "name": "stdout",
     "output_type": "stream",
     "text": [
      "new cost: 6.909811693615383 | old cost: 6.902986050711737\n",
      "Epoch 83: train=6.90981, val=6.91298, took 243.88 s\n"
     ]
    },
    {
     "data": {
      "application/vnd.jupyter.widget-view+json": {
       "model_id": "",
       "version_major": 2,
       "version_minor": 0
      },
      "text/plain": [
       "HBox(children=(FloatProgress(value=0.0, description='Training', layout=Layout(flex='2'), max=1125.0, style=Pro…"
      ]
     },
     "metadata": {},
     "output_type": "display_data"
    },
    {
     "name": "stdout",
     "output_type": "stream",
     "text": [
      "new cost: 6.9338365427653 | old cost: 6.909811693615383\n",
      "Epoch 84: train=6.93384, val=6.86462, took 242.81 s\n"
     ]
    },
    {
     "data": {
      "application/vnd.jupyter.widget-view+json": {
       "model_id": "",
       "version_major": 2,
       "version_minor": 0
      },
      "text/plain": [
       "HBox(children=(FloatProgress(value=0.0, description='Training', layout=Layout(flex='2'), max=1125.0, style=Pro…"
      ]
     },
     "metadata": {},
     "output_type": "display_data"
    },
    {
     "name": "stdout",
     "output_type": "stream",
     "text": [
      "new cost: 6.886003535588582 | old cost: 6.9338365427653\n",
      "Epoch 85: train=6.886, val=6.98684, took 243.11 s\n"
     ]
    },
    {
     "data": {
      "application/vnd.jupyter.widget-view+json": {
       "model_id": "",
       "version_major": 2,
       "version_minor": 0
      },
      "text/plain": [
       "HBox(children=(FloatProgress(value=0.0, description='Training', layout=Layout(flex='2'), max=1125.0, style=Pro…"
      ]
     },
     "metadata": {},
     "output_type": "display_data"
    },
    {
     "name": "stdout",
     "output_type": "stream",
     "text": [
      "new cost: 6.808737191730075 | old cost: 6.886003535588582\n",
      "Epoch 86: train=6.80874, val=7.28592, took 239.2 s\n"
     ]
    },
    {
     "data": {
      "application/vnd.jupyter.widget-view+json": {
       "model_id": "",
       "version_major": 2,
       "version_minor": 0
      },
      "text/plain": [
       "HBox(children=(FloatProgress(value=0.0, description='Training', layout=Layout(flex='2'), max=1125.0, style=Pro…"
      ]
     },
     "metadata": {},
     "output_type": "display_data"
    },
    {
     "name": "stdout",
     "output_type": "stream",
     "text": [
      "new cost: 6.817480227152506 | old cost: 6.808737191730075\n",
      "Epoch 87: train=6.81748, val=6.83961, took 240.97 s\n"
     ]
    },
    {
     "data": {
      "application/vnd.jupyter.widget-view+json": {
       "model_id": "",
       "version_major": 2,
       "version_minor": 0
      },
      "text/plain": [
       "HBox(children=(FloatProgress(value=0.0, description='Training', layout=Layout(flex='2'), max=1125.0, style=Pro…"
      ]
     },
     "metadata": {},
     "output_type": "display_data"
    },
    {
     "name": "stdout",
     "output_type": "stream",
     "text": [
      "new cost: 6.849411440319485 | old cost: 6.817480227152506\n",
      "Epoch 88: train=6.84941, val=6.92649, took 243.06 s\n"
     ]
    },
    {
     "data": {
      "application/vnd.jupyter.widget-view+json": {
       "model_id": "",
       "version_major": 2,
       "version_minor": 0
      },
      "text/plain": [
       "HBox(children=(FloatProgress(value=0.0, description='Training', layout=Layout(flex='2'), max=1125.0, style=Pro…"
      ]
     },
     "metadata": {},
     "output_type": "display_data"
    },
    {
     "name": "stdout",
     "output_type": "stream",
     "text": [
      "new cost: 6.785848649978638 | old cost: 6.849411440319485\n",
      "Epoch 89: train=6.78585, val=6.88821, took 238.44 s\n"
     ]
    },
    {
     "data": {
      "application/vnd.jupyter.widget-view+json": {
       "model_id": "",
       "version_major": 2,
       "version_minor": 0
      },
      "text/plain": [
       "HBox(children=(FloatProgress(value=0.0, description='Training', layout=Layout(flex='2'), max=1125.0, style=Pro…"
      ]
     },
     "metadata": {},
     "output_type": "display_data"
    },
    {
     "name": "stdout",
     "output_type": "stream",
     "text": [
      "new cost: 6.711369710710313 | old cost: 6.785848649978638\n",
      "Epoch 90: train=6.71137, val=6.8012, took 230.6 s\n"
     ]
    },
    {
     "data": {
      "application/vnd.jupyter.widget-view+json": {
       "model_id": "",
       "version_major": 2,
       "version_minor": 0
      },
      "text/plain": [
       "HBox(children=(FloatProgress(value=0.0, description='Training', layout=Layout(flex='2'), max=1125.0, style=Pro…"
      ]
     },
     "metadata": {},
     "output_type": "display_data"
    },
    {
     "name": "stdout",
     "output_type": "stream",
     "text": [
      "new cost: 6.706093968285455 | old cost: 6.711369710710313\n",
      "Epoch 91: train=6.70609, val=6.75061, took 240.59 s\n"
     ]
    },
    {
     "data": {
      "application/vnd.jupyter.widget-view+json": {
       "model_id": "",
       "version_major": 2,
       "version_minor": 0
      },
      "text/plain": [
       "HBox(children=(FloatProgress(value=0.0, description='Training', layout=Layout(flex='2'), max=1125.0, style=Pro…"
      ]
     },
     "metadata": {},
     "output_type": "display_data"
    },
    {
     "name": "stdout",
     "output_type": "stream",
     "text": [
      "new cost: 6.66837979973687 | old cost: 6.706093968285455\n",
      "Epoch 92: train=6.66838, val=6.69519, took 240.49 s\n"
     ]
    },
    {
     "data": {
      "application/vnd.jupyter.widget-view+json": {
       "model_id": "",
       "version_major": 2,
       "version_minor": 0
      },
      "text/plain": [
       "HBox(children=(FloatProgress(value=0.0, description='Training', layout=Layout(flex='2'), max=1125.0, style=Pro…"
      ]
     },
     "metadata": {},
     "output_type": "display_data"
    },
    {
     "name": "stdout",
     "output_type": "stream",
     "text": [
      "new cost: 6.80281196445889 | old cost: 6.66837979973687\n",
      "loss increase too large; model backstepping\n",
      "<built-in method size of Parameter object at 0x7fcf26687320> <built-in method size of Tensor object at 0x7fcf2ea24be0>\n",
      "<built-in method size of Parameter object at 0x7fcf26687050> <built-in method size of Tensor object at 0x7fcf2ea24e10>\n",
      "<built-in method size of Parameter object at 0x7fcf26687f50> <built-in method size of Tensor object at 0x7fcf2ea24aa0>\n",
      "<built-in method size of Parameter object at 0x7fcf26687af0> <built-in method size of Tensor object at 0x7fcf2ea24f00>\n",
      "<built-in method size of Parameter object at 0x7fcf266870a0> <built-in method size of Tensor object at 0x7fcf2ea246e0>\n",
      "<built-in method size of Parameter object at 0x7fcf26687280> <built-in method size of Tensor object at 0x7fcf2ea24870>\n",
      "<built-in method size of Parameter object at 0x7fcf26687230> <built-in method size of Tensor object at 0x7fcf2ea24b90>\n",
      "<built-in method size of Parameter object at 0x7fcf266871e0> <built-in method size of Tensor object at 0x7fcf2ea24780>\n",
      "<built-in method size of Parameter object at 0x7fcf26687730> <built-in method size of Tensor object at 0x7fcf2ea24b40>\n",
      "<built-in method size of Parameter object at 0x7fcf266876e0> <built-in method size of Tensor object at 0x7fcf2ea245f0>\n",
      "<built-in method size of Parameter object at 0x7fcf26687aa0> <built-in method size of Tensor object at 0x7fcf2ea24e60>\n",
      "<built-in method size of Parameter object at 0x7fcf26687be0> <built-in method size of Tensor object at 0x7fcf2ea249b0>\n",
      "<built-in method size of Parameter object at 0x7fcf26687140> <built-in method size of Tensor object at 0x7fcf2ea24730>\n",
      "<built-in method size of Parameter object at 0x7fcf26687fa0> <built-in method size of Tensor object at 0x7fcf2ea24fa0>\n",
      "<built-in method size of Parameter object at 0x7fcf2668b460> <built-in method size of Tensor object at 0x7fcf2ea247d0>\n",
      "<built-in method size of Parameter object at 0x7fcf2668b410> <built-in method size of Tensor object at 0x7fcf2ea24690>\n",
      "<built-in method size of Parameter object at 0x7fcf2668b370> <built-in method size of Tensor object at 0x7fcf2ea24960>\n",
      "<built-in method size of Parameter object at 0x7fcf2668b320> <built-in method size of Tensor object at 0x7fcf2ea24a50>\n",
      "<built-in method size of Parameter object at 0x7fcf2668be10> <built-in method size of Tensor object at 0x7fcf2ea240a0>\n",
      "<built-in method size of Parameter object at 0x7fcf2668bfa0> <built-in method size of Tensor object at 0x7fcf2ea248c0>\n",
      "<built-in method size of Parameter object at 0x7fcf2668bdc0> <built-in method size of Tensor object at 0x7fcf2ea24eb0>\n",
      "<built-in method size of Parameter object at 0x7fcf2668bd20> <built-in method size of Tensor object at 0x7fcf2ea24d20>\n",
      "<built-in method size of Parameter object at 0x7fcf2668bcd0> <built-in method size of Tensor object at 0x7fcf2ea24c80>\n",
      "<built-in method size of Parameter object at 0x7fcf2668b910> <built-in method size of Tensor object at 0x7fcf2ea24910>\n",
      "<built-in method size of Parameter object at 0x7fcf266899b0> <built-in method size of Tensor object at 0x7fcf2ea24820>\n",
      "<built-in method size of Parameter object at 0x7fcf26689960> <built-in method size of Tensor object at 0x7fcf2ea24280>\n",
      "<built-in method size of Parameter object at 0x7fcf26689870> <built-in method size of Tensor object at 0x7fcf2ea24a00>\n",
      "<built-in method size of Parameter object at 0x7fcf26689820> <built-in method size of Tensor object at 0x7fcf2ea24c30>\n",
      "<built-in method size of Parameter object at 0x7fcf26689a00> <built-in method size of Tensor object at 0x7fcf2ea24f50>\n",
      "<built-in method size of Parameter object at 0x7fcf266896e0> <built-in method size of Tensor object at 0x7fcf2ea0ba50>\n",
      "lr changed to 1.677721600000001e-05\n",
      "Epoch 93: train=6.80281, val=6.70531, took 241.24 s\n"
     ]
    },
    {
     "data": {
      "application/vnd.jupyter.widget-view+json": {
       "model_id": "",
       "version_major": 2,
       "version_minor": 0
      },
      "text/plain": [
       "HBox(children=(FloatProgress(value=0.0, description='Training', layout=Layout(flex='2'), max=1125.0, style=Pro…"
      ]
     },
     "metadata": {},
     "output_type": "display_data"
    },
    {
     "name": "stdout",
     "output_type": "stream",
     "text": [
      "new cost: 6.603721761703492 | old cost: 6.66837979973687\n",
      "Epoch 94: train=6.60372, val=6.65149, took 239.54 s\n"
     ]
    },
    {
     "data": {
      "application/vnd.jupyter.widget-view+json": {
       "model_id": "",
       "version_major": 2,
       "version_minor": 0
      },
      "text/plain": [
       "HBox(children=(FloatProgress(value=0.0, description='Training', layout=Layout(flex='2'), max=1125.0, style=Pro…"
      ]
     },
     "metadata": {},
     "output_type": "display_data"
    },
    {
     "name": "stdout",
     "output_type": "stream",
     "text": [
      "new cost: 6.59230203904046 | old cost: 6.603721761703492\n",
      "Epoch 95: train=6.5923, val=6.62433, took 232.8 s\n"
     ]
    },
    {
     "data": {
      "application/vnd.jupyter.widget-view+json": {
       "model_id": "",
       "version_major": 2,
       "version_minor": 0
      },
      "text/plain": [
       "HBox(children=(FloatProgress(value=0.0, description='Training', layout=Layout(flex='2'), max=1125.0, style=Pro…"
      ]
     },
     "metadata": {},
     "output_type": "display_data"
    },
    {
     "name": "stdout",
     "output_type": "stream",
     "text": [
      "new cost: 6.576383570565118 | old cost: 6.59230203904046\n",
      "Epoch 96: train=6.57638, val=6.64728, took 231.71 s\n"
     ]
    },
    {
     "data": {
      "application/vnd.jupyter.widget-view+json": {
       "model_id": "",
       "version_major": 2,
       "version_minor": 0
      },
      "text/plain": [
       "HBox(children=(FloatProgress(value=0.0, description='Training', layout=Layout(flex='2'), max=1125.0, style=Pro…"
      ]
     },
     "metadata": {},
     "output_type": "display_data"
    },
    {
     "name": "stdout",
     "output_type": "stream",
     "text": [
      "new cost: 6.579864671707154 | old cost: 6.576383570565118\n",
      "Epoch 97: train=6.57986, val=6.61144, took 233.09 s\n"
     ]
    },
    {
     "data": {
      "application/vnd.jupyter.widget-view+json": {
       "model_id": "",
       "version_major": 2,
       "version_minor": 0
      },
      "text/plain": [
       "HBox(children=(FloatProgress(value=0.0, description='Training', layout=Layout(flex='2'), max=1125.0, style=Pro…"
      ]
     },
     "metadata": {},
     "output_type": "display_data"
    },
    {
     "name": "stdout",
     "output_type": "stream",
     "text": [
      "new cost: 6.523699480056763 | old cost: 6.579864671707154\n",
      "Epoch 98: train=6.5237, val=6.6314, took 236.49 s\n"
     ]
    },
    {
     "data": {
      "application/vnd.jupyter.widget-view+json": {
       "model_id": "",
       "version_major": 2,
       "version_minor": 0
      },
      "text/plain": [
       "HBox(children=(FloatProgress(value=0.0, description='Training', layout=Layout(flex='2'), max=1125.0, style=Pro…"
      ]
     },
     "metadata": {},
     "output_type": "display_data"
    },
    {
     "name": "stdout",
     "output_type": "stream",
     "text": [
      "new cost: 6.567860300064087 | old cost: 6.523699480056763\n",
      "Epoch 99: train=6.56786, val=6.65981, took 232.98 s\n"
     ]
    },
    {
     "data": {
      "application/vnd.jupyter.widget-view+json": {
       "model_id": "",
       "version_major": 2,
       "version_minor": 0
      },
      "text/plain": [
       "HBox(children=(FloatProgress(value=0.0, description='Training', layout=Layout(flex='2'), max=1125.0, style=Pro…"
      ]
     },
     "metadata": {},
     "output_type": "display_data"
    },
    {
     "name": "stdout",
     "output_type": "stream",
     "text": [
      "new cost: 6.519314136717054 | old cost: 6.567860300064087\n",
      "Epoch 100: train=6.51931, val=6.57562, took 235.75 s\n"
     ]
    },
    {
     "data": {
      "application/vnd.jupyter.widget-view+json": {
       "model_id": "",
       "version_major": 2,
       "version_minor": 0
      },
      "text/plain": [
       "HBox(children=(FloatProgress(value=0.0, description='Training', layout=Layout(flex='2'), max=1125.0, style=Pro…"
      ]
     },
     "metadata": {},
     "output_type": "display_data"
    },
    {
     "name": "stdout",
     "output_type": "stream",
     "text": [
      "new cost: 6.512528706232707 | old cost: 6.519314136717054\n",
      "Epoch 101: train=6.51253, val=6.54328, took 236.43 s\n"
     ]
    },
    {
     "data": {
      "application/vnd.jupyter.widget-view+json": {
       "model_id": "",
       "version_major": 2,
       "version_minor": 0
      },
      "text/plain": [
       "HBox(children=(FloatProgress(value=0.0, description='Training', layout=Layout(flex='2'), max=1125.0, style=Pro…"
      ]
     },
     "metadata": {},
     "output_type": "display_data"
    },
    {
     "name": "stdout",
     "output_type": "stream",
     "text": [
      "new cost: 6.504433316336738 | old cost: 6.512528706232707\n",
      "Epoch 102: train=6.50443, val=6.56679, took 232.74 s\n"
     ]
    },
    {
     "data": {
      "application/vnd.jupyter.widget-view+json": {
       "model_id": "",
       "version_major": 2,
       "version_minor": 0
      },
      "text/plain": [
       "HBox(children=(FloatProgress(value=0.0, description='Training', layout=Layout(flex='2'), max=1125.0, style=Pro…"
      ]
     },
     "metadata": {},
     "output_type": "display_data"
    },
    {
     "name": "stdout",
     "output_type": "stream",
     "text": [
      "new cost: 6.48248093647427 | old cost: 6.504433316336738\n",
      "Epoch 103: train=6.48248, val=6.50511, took 235.16 s\n"
     ]
    },
    {
     "data": {
      "application/vnd.jupyter.widget-view+json": {
       "model_id": "",
       "version_major": 2,
       "version_minor": 0
      },
      "text/plain": [
       "HBox(children=(FloatProgress(value=0.0, description='Training', layout=Layout(flex='2'), max=1125.0, style=Pro…"
      ]
     },
     "metadata": {},
     "output_type": "display_data"
    },
    {
     "name": "stdout",
     "output_type": "stream",
     "text": [
      "new cost: 6.468413331985474 | old cost: 6.48248093647427\n",
      "Epoch 104: train=6.46841, val=6.60018, took 234.14 s\n"
     ]
    },
    {
     "data": {
      "application/vnd.jupyter.widget-view+json": {
       "model_id": "",
       "version_major": 2,
       "version_minor": 0
      },
      "text/plain": [
       "HBox(children=(FloatProgress(value=0.0, description='Training', layout=Layout(flex='2'), max=1125.0, style=Pro…"
      ]
     },
     "metadata": {},
     "output_type": "display_data"
    },
    {
     "name": "stdout",
     "output_type": "stream",
     "text": [
      "new cost: 6.441773812611898 | old cost: 6.468413331985474\n",
      "Epoch 105: train=6.44177, val=6.49799, took 235.45 s\n"
     ]
    },
    {
     "data": {
      "application/vnd.jupyter.widget-view+json": {
       "model_id": "",
       "version_major": 2,
       "version_minor": 0
      },
      "text/plain": [
       "HBox(children=(FloatProgress(value=0.0, description='Training', layout=Layout(flex='2'), max=1125.0, style=Pro…"
      ]
     },
     "metadata": {},
     "output_type": "display_data"
    },
    {
     "name": "stdout",
     "output_type": "stream",
     "text": [
      "new cost: 6.3497904864417185 | old cost: 6.441773812611898\n",
      "Epoch 106: train=6.34979, val=7.37146, took 235.23 s\n"
     ]
    },
    {
     "data": {
      "application/vnd.jupyter.widget-view+json": {
       "model_id": "",
       "version_major": 2,
       "version_minor": 0
      },
      "text/plain": [
       "HBox(children=(FloatProgress(value=0.0, description='Training', layout=Layout(flex='2'), max=1125.0, style=Pro…"
      ]
     },
     "metadata": {},
     "output_type": "display_data"
    },
    {
     "name": "stdout",
     "output_type": "stream",
     "text": [
      "new cost: 6.4593671003977455 | old cost: 6.3497904864417185\n",
      "Epoch 107: train=6.45937, val=6.64198, took 234.47 s\n"
     ]
    },
    {
     "data": {
      "application/vnd.jupyter.widget-view+json": {
       "model_id": "",
       "version_major": 2,
       "version_minor": 0
      },
      "text/plain": [
       "HBox(children=(FloatProgress(value=0.0, description='Training', layout=Layout(flex='2'), max=1125.0, style=Pro…"
      ]
     },
     "metadata": {},
     "output_type": "display_data"
    },
    {
     "name": "stdout",
     "output_type": "stream",
     "text": [
      "new cost: 6.362414026896158 | old cost: 6.4593671003977455\n",
      "Epoch 108: train=6.36241, val=6.90663, took 237.35 s\n"
     ]
    },
    {
     "data": {
      "application/vnd.jupyter.widget-view+json": {
       "model_id": "",
       "version_major": 2,
       "version_minor": 0
      },
      "text/plain": [
       "HBox(children=(FloatProgress(value=0.0, description='Training', layout=Layout(flex='2'), max=1125.0, style=Pro…"
      ]
     },
     "metadata": {},
     "output_type": "display_data"
    },
    {
     "name": "stdout",
     "output_type": "stream",
     "text": [
      "new cost: 6.401179410934448 | old cost: 6.362414026896158\n",
      "Epoch 109: train=6.40118, val=6.4655, took 243.9 s\n"
     ]
    },
    {
     "data": {
      "application/vnd.jupyter.widget-view+json": {
       "model_id": "",
       "version_major": 2,
       "version_minor": 0
      },
      "text/plain": [
       "HBox(children=(FloatProgress(value=0.0, description='Training', layout=Layout(flex='2'), max=1125.0, style=Pro…"
      ]
     },
     "metadata": {},
     "output_type": "display_data"
    },
    {
     "name": "stdout",
     "output_type": "stream",
     "text": [
      "new cost: 6.378754823260837 | old cost: 6.401179410934448\n",
      "Epoch 110: train=6.37875, val=6.42466, took 241.59 s\n"
     ]
    },
    {
     "data": {
      "application/vnd.jupyter.widget-view+json": {
       "model_id": "",
       "version_major": 2,
       "version_minor": 0
      },
      "text/plain": [
       "HBox(children=(FloatProgress(value=0.0, description='Training', layout=Layout(flex='2'), max=1125.0, style=Pro…"
      ]
     },
     "metadata": {},
     "output_type": "display_data"
    },
    {
     "name": "stdout",
     "output_type": "stream",
     "text": [
      "new cost: 6.298447221544054 | old cost: 6.378754823260837\n",
      "Epoch 111: train=6.29845, val=6.6464, took 242.86 s\n"
     ]
    },
    {
     "data": {
      "application/vnd.jupyter.widget-view+json": {
       "model_id": "",
       "version_major": 2,
       "version_minor": 0
      },
      "text/plain": [
       "HBox(children=(FloatProgress(value=0.0, description='Training', layout=Layout(flex='2'), max=1125.0, style=Pro…"
      ]
     },
     "metadata": {},
     "output_type": "display_data"
    },
    {
     "name": "stdout",
     "output_type": "stream",
     "text": [
      "new cost: 6.289774390326606 | old cost: 6.298447221544054\n",
      "Epoch 112: train=6.28977, val=7.0918, took 239.64 s\n"
     ]
    },
    {
     "data": {
      "application/vnd.jupyter.widget-view+json": {
       "model_id": "",
       "version_major": 2,
       "version_minor": 0
      },
      "text/plain": [
       "HBox(children=(FloatProgress(value=0.0, description='Training', layout=Layout(flex='2'), max=1125.0, style=Pro…"
      ]
     },
     "metadata": {},
     "output_type": "display_data"
    },
    {
     "name": "stdout",
     "output_type": "stream",
     "text": [
      "new cost: 6.295277718014187 | old cost: 6.289774390326606\n",
      "Epoch 113: train=6.29528, val=6.38045, took 233.55 s\n"
     ]
    },
    {
     "data": {
      "application/vnd.jupyter.widget-view+json": {
       "model_id": "",
       "version_major": 2,
       "version_minor": 0
      },
      "text/plain": [
       "HBox(children=(FloatProgress(value=0.0, description='Training', layout=Layout(flex='2'), max=1125.0, style=Pro…"
      ]
     },
     "metadata": {},
     "output_type": "display_data"
    },
    {
     "name": "stdout",
     "output_type": "stream",
     "text": [
      "new cost: 6.303231461207072 | old cost: 6.295277718014187\n",
      "Epoch 114: train=6.30323, val=6.39213, took 243.27 s\n"
     ]
    },
    {
     "data": {
      "application/vnd.jupyter.widget-view+json": {
       "model_id": "",
       "version_major": 2,
       "version_minor": 0
      },
      "text/plain": [
       "HBox(children=(FloatProgress(value=0.0, description='Training', layout=Layout(flex='2'), max=1125.0, style=Pro…"
      ]
     },
     "metadata": {},
     "output_type": "display_data"
    },
    {
     "name": "stdout",
     "output_type": "stream",
     "text": [
      "new cost: 6.327757925245497 | old cost: 6.303231461207072\n",
      "Epoch 115: train=6.32776, val=6.40019, took 242.96 s\n"
     ]
    },
    {
     "data": {
      "application/vnd.jupyter.widget-view+json": {
       "model_id": "",
       "version_major": 2,
       "version_minor": 0
      },
      "text/plain": [
       "HBox(children=(FloatProgress(value=0.0, description='Training', layout=Layout(flex='2'), max=1125.0, style=Pro…"
      ]
     },
     "metadata": {},
     "output_type": "display_data"
    },
    {
     "name": "stdout",
     "output_type": "stream",
     "text": [
      "new cost: 6.311302745607164 | old cost: 6.327757925245497\n",
      "Epoch 116: train=6.3113, val=6.33981, took 242.74 s\n"
     ]
    },
    {
     "data": {
      "application/vnd.jupyter.widget-view+json": {
       "model_id": "",
       "version_major": 2,
       "version_minor": 0
      },
      "text/plain": [
       "HBox(children=(FloatProgress(value=0.0, description='Training', layout=Layout(flex='2'), max=1125.0, style=Pro…"
      ]
     },
     "metadata": {},
     "output_type": "display_data"
    },
    {
     "name": "stdout",
     "output_type": "stream",
     "text": [
      "new cost: 6.2142108535766605 | old cost: 6.311302745607164\n",
      "Epoch 117: train=6.21421, val=6.37715, took 241.85 s\n"
     ]
    },
    {
     "data": {
      "application/vnd.jupyter.widget-view+json": {
       "model_id": "",
       "version_major": 2,
       "version_minor": 0
      },
      "text/plain": [
       "HBox(children=(FloatProgress(value=0.0, description='Training', layout=Layout(flex='2'), max=1125.0, style=Pro…"
      ]
     },
     "metadata": {},
     "output_type": "display_data"
    },
    {
     "name": "stdout",
     "output_type": "stream",
     "text": [
      "new cost: 6.242688918007745 | old cost: 6.2142108535766605\n",
      "Epoch 118: train=6.24269, val=6.91783, took 241.77 s\n"
     ]
    },
    {
     "data": {
      "application/vnd.jupyter.widget-view+json": {
       "model_id": "",
       "version_major": 2,
       "version_minor": 0
      },
      "text/plain": [
       "HBox(children=(FloatProgress(value=0.0, description='Training', layout=Layout(flex='2'), max=1125.0, style=Pro…"
      ]
     },
     "metadata": {},
     "output_type": "display_data"
    },
    {
     "name": "stdout",
     "output_type": "stream",
     "text": [
      "new cost: 6.2438201482560896 | old cost: 6.242688918007745\n",
      "Epoch 119: train=6.24382, val=6.3285, took 241.85 s\n"
     ]
    },
    {
     "data": {
      "application/vnd.jupyter.widget-view+json": {
       "model_id": "",
       "version_major": 2,
       "version_minor": 0
      },
      "text/plain": [
       "HBox(children=(FloatProgress(value=0.0, description='Training', layout=Layout(flex='2'), max=1125.0, style=Pro…"
      ]
     },
     "metadata": {},
     "output_type": "display_data"
    },
    {
     "name": "stdout",
     "output_type": "stream",
     "text": [
      "new cost: 6.266179129918417 | old cost: 6.2438201482560896\n",
      "Epoch 120: train=6.26618, val=6.33951, took 242.61 s\n"
     ]
    },
    {
     "data": {
      "application/vnd.jupyter.widget-view+json": {
       "model_id": "",
       "version_major": 2,
       "version_minor": 0
      },
      "text/plain": [
       "HBox(children=(FloatProgress(value=0.0, description='Training', layout=Layout(flex='2'), max=1125.0, style=Pro…"
      ]
     },
     "metadata": {},
     "output_type": "display_data"
    },
    {
     "name": "stdout",
     "output_type": "stream",
     "text": [
      "new cost: 6.196870850457086 | old cost: 6.266179129918417\n",
      "Epoch 121: train=6.19687, val=6.3079, took 237.78 s\n"
     ]
    },
    {
     "data": {
      "application/vnd.jupyter.widget-view+json": {
       "model_id": "",
       "version_major": 2,
       "version_minor": 0
      },
      "text/plain": [
       "HBox(children=(FloatProgress(value=0.0, description='Training', layout=Layout(flex='2'), max=1125.0, style=Pro…"
      ]
     },
     "metadata": {},
     "output_type": "display_data"
    },
    {
     "name": "stdout",
     "output_type": "stream",
     "text": [
      "new cost: 6.190239967134263 | old cost: 6.196870850457086\n",
      "Epoch 122: train=6.19024, val=6.31039, took 246.06 s\n"
     ]
    },
    {
     "data": {
      "application/vnd.jupyter.widget-view+json": {
       "model_id": "",
       "version_major": 2,
       "version_minor": 0
      },
      "text/plain": [
       "HBox(children=(FloatProgress(value=0.0, description='Training', layout=Layout(flex='2'), max=1125.0, style=Pro…"
      ]
     },
     "metadata": {},
     "output_type": "display_data"
    },
    {
     "name": "stdout",
     "output_type": "stream",
     "text": [
      "new cost: 6.211047745174832 | old cost: 6.190239967134263\n",
      "Epoch 123: train=6.21105, val=6.31102, took 243.43 s\n"
     ]
    },
    {
     "data": {
      "application/vnd.jupyter.widget-view+json": {
       "model_id": "",
       "version_major": 2,
       "version_minor": 0
      },
      "text/plain": [
       "HBox(children=(FloatProgress(value=0.0, description='Training', layout=Layout(flex='2'), max=1125.0, style=Pro…"
      ]
     },
     "metadata": {},
     "output_type": "display_data"
    },
    {
     "name": "stdout",
     "output_type": "stream",
     "text": [
      "new cost: 6.252341195848253 | old cost: 6.211047745174832\n",
      "Epoch 124: train=6.25234, val=6.27165, took 244.78 s\n"
     ]
    },
    {
     "data": {
      "application/vnd.jupyter.widget-view+json": {
       "model_id": "",
       "version_major": 2,
       "version_minor": 0
      },
      "text/plain": [
       "HBox(children=(FloatProgress(value=0.0, description='Training', layout=Layout(flex='2'), max=1125.0, style=Pro…"
      ]
     },
     "metadata": {},
     "output_type": "display_data"
    },
    {
     "name": "stdout",
     "output_type": "stream",
     "text": [
      "new cost: 6.230369527816772 | old cost: 6.252341195848253\n",
      "Epoch 125: train=6.23037, val=7.03116, took 243.69 s\n"
     ]
    },
    {
     "data": {
      "application/vnd.jupyter.widget-view+json": {
       "model_id": "",
       "version_major": 2,
       "version_minor": 0
      },
      "text/plain": [
       "HBox(children=(FloatProgress(value=0.0, description='Training', layout=Layout(flex='2'), max=1125.0, style=Pro…"
      ]
     },
     "metadata": {},
     "output_type": "display_data"
    },
    {
     "name": "stdout",
     "output_type": "stream",
     "text": [
      "new cost: 6.142504529105293 | old cost: 6.230369527816772\n",
      "Epoch 126: train=6.1425, val=6.3411, took 244.92 s\n"
     ]
    },
    {
     "data": {
      "application/vnd.jupyter.widget-view+json": {
       "model_id": "",
       "version_major": 2,
       "version_minor": 0
      },
      "text/plain": [
       "HBox(children=(FloatProgress(value=0.0, description='Training', layout=Layout(flex='2'), max=1125.0, style=Pro…"
      ]
     },
     "metadata": {},
     "output_type": "display_data"
    },
    {
     "name": "stdout",
     "output_type": "stream",
     "text": [
      "new cost: 6.138965923945109 | old cost: 6.142504529105293\n",
      "Epoch 127: train=6.13897, val=6.2378, took 241.55 s\n"
     ]
    },
    {
     "data": {
      "application/vnd.jupyter.widget-view+json": {
       "model_id": "",
       "version_major": 2,
       "version_minor": 0
      },
      "text/plain": [
       "HBox(children=(FloatProgress(value=0.0, description='Training', layout=Layout(flex='2'), max=1125.0, style=Pro…"
      ]
     },
     "metadata": {},
     "output_type": "display_data"
    },
    {
     "name": "stdout",
     "output_type": "stream",
     "text": [
      "new cost: 6.252410644319323 | old cost: 6.138965923945109\n",
      "Epoch 128: train=6.25241, val=6.23607, took 235.32 s\n"
     ]
    },
    {
     "data": {
      "application/vnd.jupyter.widget-view+json": {
       "model_id": "",
       "version_major": 2,
       "version_minor": 0
      },
      "text/plain": [
       "HBox(children=(FloatProgress(value=0.0, description='Training', layout=Layout(flex='2'), max=1125.0, style=Pro…"
      ]
     },
     "metadata": {},
     "output_type": "display_data"
    },
    {
     "name": "stdout",
     "output_type": "stream",
     "text": [
      "new cost: 6.174221652560764 | old cost: 6.252410644319323\n",
      "Epoch 129: train=6.17422, val=6.2795, took 245.25 s\n"
     ]
    },
    {
     "data": {
      "application/vnd.jupyter.widget-view+json": {
       "model_id": "",
       "version_major": 2,
       "version_minor": 0
      },
      "text/plain": [
       "HBox(children=(FloatProgress(value=0.0, description='Training', layout=Layout(flex='2'), max=1125.0, style=Pro…"
      ]
     },
     "metadata": {},
     "output_type": "display_data"
    },
    {
     "name": "stdout",
     "output_type": "stream",
     "text": [
      "new cost: 6.014930340237088 | old cost: 6.174221652560764\n",
      "Epoch 130: train=6.01493, val=6.25527, took 243.21 s\n"
     ]
    },
    {
     "data": {
      "application/vnd.jupyter.widget-view+json": {
       "model_id": "",
       "version_major": 2,
       "version_minor": 0
      },
      "text/plain": [
       "HBox(children=(FloatProgress(value=0.0, description='Training', layout=Layout(flex='2'), max=1125.0, style=Pro…"
      ]
     },
     "metadata": {},
     "output_type": "display_data"
    },
    {
     "name": "stdout",
     "output_type": "stream",
     "text": [
      "new cost: 6.075909150865343 | old cost: 6.014930340237088\n",
      "Epoch 131: train=6.07591, val=6.25447, took 243.32 s\n"
     ]
    },
    {
     "data": {
      "application/vnd.jupyter.widget-view+json": {
       "model_id": "",
       "version_major": 2,
       "version_minor": 0
      },
      "text/plain": [
       "HBox(children=(FloatProgress(value=0.0, description='Training', layout=Layout(flex='2'), max=1125.0, style=Pro…"
      ]
     },
     "metadata": {},
     "output_type": "display_data"
    },
    {
     "name": "stdout",
     "output_type": "stream",
     "text": [
      "new cost: 6.022363185246785 | old cost: 6.075909150865343\n",
      "Epoch 132: train=6.02236, val=6.22842, took 242.46 s\n"
     ]
    },
    {
     "data": {
      "application/vnd.jupyter.widget-view+json": {
       "model_id": "",
       "version_major": 2,
       "version_minor": 0
      },
      "text/plain": [
       "HBox(children=(FloatProgress(value=0.0, description='Training', layout=Layout(flex='2'), max=1125.0, style=Pro…"
      ]
     },
     "metadata": {},
     "output_type": "display_data"
    },
    {
     "name": "stdout",
     "output_type": "stream",
     "text": [
      "new cost: 6.018239149517483 | old cost: 6.022363185246785\n",
      "Epoch 133: train=6.01824, val=6.36027, took 242.28 s\n"
     ]
    },
    {
     "data": {
      "application/vnd.jupyter.widget-view+json": {
       "model_id": "",
       "version_major": 2,
       "version_minor": 0
      },
      "text/plain": [
       "HBox(children=(FloatProgress(value=0.0, description='Training', layout=Layout(flex='2'), max=1125.0, style=Pro…"
      ]
     },
     "metadata": {},
     "output_type": "display_data"
    },
    {
     "name": "stdout",
     "output_type": "stream",
     "text": [
      "new cost: 6.060477541181776 | old cost: 6.018239149517483\n",
      "Epoch 134: train=6.06048, val=6.17601, took 240.78 s\n"
     ]
    },
    {
     "data": {
      "application/vnd.jupyter.widget-view+json": {
       "model_id": "",
       "version_major": 2,
       "version_minor": 0
      },
      "text/plain": [
       "HBox(children=(FloatProgress(value=0.0, description='Training', layout=Layout(flex='2'), max=1125.0, style=Pro…"
      ]
     },
     "metadata": {},
     "output_type": "display_data"
    },
    {
     "name": "stdout",
     "output_type": "stream",
     "text": [
      "new cost: 6.125611026763916 | old cost: 6.060477541181776\n",
      "Epoch 135: train=6.12561, val=6.23781, took 241.62 s\n"
     ]
    },
    {
     "data": {
      "application/vnd.jupyter.widget-view+json": {
       "model_id": "",
       "version_major": 2,
       "version_minor": 0
      },
      "text/plain": [
       "HBox(children=(FloatProgress(value=0.0, description='Training', layout=Layout(flex='2'), max=1125.0, style=Pro…"
      ]
     },
     "metadata": {},
     "output_type": "display_data"
    },
    {
     "name": "stdout",
     "output_type": "stream",
     "text": [
      "new cost: 6.035221621407403 | old cost: 6.125611026763916\n",
      "Epoch 136: train=6.03522, val=6.18031, took 242.75 s\n"
     ]
    },
    {
     "data": {
      "application/vnd.jupyter.widget-view+json": {
       "model_id": "",
       "version_major": 2,
       "version_minor": 0
      },
      "text/plain": [
       "HBox(children=(FloatProgress(value=0.0, description='Training', layout=Layout(flex='2'), max=1125.0, style=Pro…"
      ]
     },
     "metadata": {},
     "output_type": "display_data"
    },
    {
     "name": "stdout",
     "output_type": "stream",
     "text": [
      "new cost: 6.055529489517212 | old cost: 6.035221621407403\n",
      "Epoch 137: train=6.05553, val=6.5053, took 243.83 s\n"
     ]
    },
    {
     "data": {
      "application/vnd.jupyter.widget-view+json": {
       "model_id": "",
       "version_major": 2,
       "version_minor": 0
      },
      "text/plain": [
       "HBox(children=(FloatProgress(value=0.0, description='Training', layout=Layout(flex='2'), max=1125.0, style=Pro…"
      ]
     },
     "metadata": {},
     "output_type": "display_data"
    },
    {
     "name": "stdout",
     "output_type": "stream",
     "text": [
      "new cost: 5.970400478363037 | old cost: 6.055529489517212\n",
      "Epoch 138: train=5.9704, val=6.54538, took 244.66 s\n"
     ]
    },
    {
     "data": {
      "application/vnd.jupyter.widget-view+json": {
       "model_id": "",
       "version_major": 2,
       "version_minor": 0
      },
      "text/plain": [
       "HBox(children=(FloatProgress(value=0.0, description='Training', layout=Layout(flex='2'), max=1125.0, style=Pro…"
      ]
     },
     "metadata": {},
     "output_type": "display_data"
    },
    {
     "name": "stdout",
     "output_type": "stream",
     "text": [
      "new cost: 5.878510123358833 | old cost: 5.970400478363037\n",
      "Epoch 139: train=5.87851, val=6.45183, took 243.14 s\n"
     ]
    },
    {
     "data": {
      "application/vnd.jupyter.widget-view+json": {
       "model_id": "",
       "version_major": 2,
       "version_minor": 0
      },
      "text/plain": [
       "HBox(children=(FloatProgress(value=0.0, description='Training', layout=Layout(flex='2'), max=1125.0, style=Pro…"
      ]
     },
     "metadata": {},
     "output_type": "display_data"
    },
    {
     "name": "stdout",
     "output_type": "stream",
     "text": [
      "new cost: 6.073725540584988 | old cost: 5.878510123358833\n",
      "loss increase too large; model backstepping\n",
      "<built-in method size of Parameter object at 0x7fcf26687320> <built-in method size of Tensor object at 0x7fcf2e89d960>\n",
      "<built-in method size of Parameter object at 0x7fcf26687050> <built-in method size of Tensor object at 0x7fcf2e89deb0>\n",
      "<built-in method size of Parameter object at 0x7fcf26687f50> <built-in method size of Tensor object at 0x7fcf2e89d0f0>\n",
      "<built-in method size of Parameter object at 0x7fcf26687af0> <built-in method size of Tensor object at 0x7fcf2e89d050>\n",
      "<built-in method size of Parameter object at 0x7fcf266870a0> <built-in method size of Tensor object at 0x7fcf2e89dd70>\n",
      "<built-in method size of Parameter object at 0x7fcf26687280> <built-in method size of Tensor object at 0x7fcf2e89dcd0>\n",
      "<built-in method size of Parameter object at 0x7fcf26687230> <built-in method size of Tensor object at 0x7fcf2e89de10>\n",
      "<built-in method size of Parameter object at 0x7fcf266871e0> <built-in method size of Tensor object at 0x7fcf2e89dfa0>\n",
      "<built-in method size of Parameter object at 0x7fcf26687730> <built-in method size of Tensor object at 0x7fcf2e89d780>\n",
      "<built-in method size of Parameter object at 0x7fcf266876e0> <built-in method size of Tensor object at 0x7fcf2e89da50>\n",
      "<built-in method size of Parameter object at 0x7fcf26687aa0> <built-in method size of Tensor object at 0x7fcf2e89d9b0>\n",
      "<built-in method size of Parameter object at 0x7fcf26687be0> <built-in method size of Tensor object at 0x7fcf2e8b2230>\n",
      "<built-in method size of Parameter object at 0x7fcf26687140> <built-in method size of Tensor object at 0x7fcf2ed9b050>\n",
      "<built-in method size of Parameter object at 0x7fcf26687fa0> <built-in method size of Tensor object at 0x7fcf2ed8da50>\n",
      "<built-in method size of Parameter object at 0x7fcf2668b460> <built-in method size of Tensor object at 0x7fcf2e981d70>\n",
      "<built-in method size of Parameter object at 0x7fcf2668b410> <built-in method size of Tensor object at 0x7fcf2e89d870>\n",
      "<built-in method size of Parameter object at 0x7fcf2668b370> <built-in method size of Tensor object at 0x7fcf2e95df00>\n",
      "<built-in method size of Parameter object at 0x7fcf2668b320> <built-in method size of Tensor object at 0x7fcf2e95dc30>\n",
      "<built-in method size of Parameter object at 0x7fcf2668be10> <built-in method size of Tensor object at 0x7fcf2e95ddc0>\n",
      "<built-in method size of Parameter object at 0x7fcf2668bfa0> <built-in method size of Tensor object at 0x7fcf2e95d4b0>\n",
      "<built-in method size of Parameter object at 0x7fcf2668bdc0> <built-in method size of Tensor object at 0x7fcf2e95d0f0>\n",
      "<built-in method size of Parameter object at 0x7fcf2668bd20> <built-in method size of Tensor object at 0x7fcf2e95d640>\n",
      "<built-in method size of Parameter object at 0x7fcf2668bcd0> <built-in method size of Tensor object at 0x7fcf2e95d2d0>\n",
      "<built-in method size of Parameter object at 0x7fcf2668b910> <built-in method size of Tensor object at 0x7fcf2e95d320>\n",
      "<built-in method size of Parameter object at 0x7fcf266899b0> <built-in method size of Tensor object at 0x7fcf2e95d960>\n",
      "<built-in method size of Parameter object at 0x7fcf26689960> <built-in method size of Tensor object at 0x7fcf2677b9b0>\n",
      "<built-in method size of Parameter object at 0x7fcf26689870> <built-in method size of Tensor object at 0x7fcf2e98caf0>\n",
      "<built-in method size of Parameter object at 0x7fcf26689820> <built-in method size of Tensor object at 0x7fcf2e95d690>\n",
      "<built-in method size of Parameter object at 0x7fcf26689a00> <built-in method size of Tensor object at 0x7fcf2e8b1cd0>\n",
      "<built-in method size of Parameter object at 0x7fcf266896e0> <built-in method size of Tensor object at 0x7fcf2e8b1500>\n",
      "lr changed to 1.3421772800000009e-05\n",
      "Epoch 140: train=6.07373, val=6.2004, took 245.89 s\n"
     ]
    },
    {
     "data": {
      "application/vnd.jupyter.widget-view+json": {
       "model_id": "",
       "version_major": 2,
       "version_minor": 0
      },
      "text/plain": [
       "HBox(children=(FloatProgress(value=0.0, description='Training', layout=Layout(flex='2'), max=1125.0, style=Pro…"
      ]
     },
     "metadata": {},
     "output_type": "display_data"
    },
    {
     "name": "stdout",
     "output_type": "stream",
     "text": [
      "new cost: 5.862070293638442 | old cost: 5.878510123358833\n",
      "Epoch 141: train=5.86207, val=6.93324, took 242.4 s\n"
     ]
    },
    {
     "data": {
      "application/vnd.jupyter.widget-view+json": {
       "model_id": "",
       "version_major": 2,
       "version_minor": 0
      },
      "text/plain": [
       "HBox(children=(FloatProgress(value=0.0, description='Training', layout=Layout(flex='2'), max=1125.0, style=Pro…"
      ]
     },
     "metadata": {},
     "output_type": "display_data"
    },
    {
     "name": "stdout",
     "output_type": "stream",
     "text": [
      "new cost: 5.937729634814792 | old cost: 5.862070293638442\n",
      "Epoch 142: train=5.93773, val=6.29307, took 240.53 s\n"
     ]
    },
    {
     "data": {
      "application/vnd.jupyter.widget-view+json": {
       "model_id": "",
       "version_major": 2,
       "version_minor": 0
      },
      "text/plain": [
       "HBox(children=(FloatProgress(value=0.0, description='Training', layout=Layout(flex='2'), max=1125.0, style=Pro…"
      ]
     },
     "metadata": {},
     "output_type": "display_data"
    },
    {
     "name": "stdout",
     "output_type": "stream",
     "text": [
      "new cost: 5.893822713851929 | old cost: 5.937729634814792\n",
      "Epoch 143: train=5.89382, val=6.19874, took 241.13 s\n"
     ]
    },
    {
     "data": {
      "application/vnd.jupyter.widget-view+json": {
       "model_id": "",
       "version_major": 2,
       "version_minor": 0
      },
      "text/plain": [
       "HBox(children=(FloatProgress(value=0.0, description='Training', layout=Layout(flex='2'), max=1125.0, style=Pro…"
      ]
     },
     "metadata": {},
     "output_type": "display_data"
    },
    {
     "name": "stdout",
     "output_type": "stream",
     "text": [
      "new cost: 5.8718089794582795 | old cost: 5.893822713851929\n",
      "Epoch 144: train=5.87181, val=6.80636, took 244.41 s\n"
     ]
    },
    {
     "data": {
      "application/vnd.jupyter.widget-view+json": {
       "model_id": "",
       "version_major": 2,
       "version_minor": 0
      },
      "text/plain": [
       "HBox(children=(FloatProgress(value=0.0, description='Training', layout=Layout(flex='2'), max=1125.0, style=Pro…"
      ]
     },
     "metadata": {},
     "output_type": "display_data"
    },
    {
     "name": "stdout",
     "output_type": "stream",
     "text": [
      "new cost: 5.82960621494717 | old cost: 5.8718089794582795\n",
      "Epoch 145: train=5.82961, val=6.07433, took 245.1 s\n"
     ]
    },
    {
     "data": {
      "application/vnd.jupyter.widget-view+json": {
       "model_id": "",
       "version_major": 2,
       "version_minor": 0
      },
      "text/plain": [
       "HBox(children=(FloatProgress(value=0.0, description='Training', layout=Layout(flex='2'), max=1125.0, style=Pro…"
      ]
     },
     "metadata": {},
     "output_type": "display_data"
    },
    {
     "name": "stdout",
     "output_type": "stream",
     "text": [
      "new cost: 5.873569181018405 | old cost: 5.82960621494717\n",
      "Epoch 146: train=5.87357, val=6.27566, took 242.79 s\n"
     ]
    },
    {
     "data": {
      "application/vnd.jupyter.widget-view+json": {
       "model_id": "",
       "version_major": 2,
       "version_minor": 0
      },
      "text/plain": [
       "HBox(children=(FloatProgress(value=0.0, description='Training', layout=Layout(flex='2'), max=1125.0, style=Pro…"
      ]
     },
     "metadata": {},
     "output_type": "display_data"
    },
    {
     "name": "stdout",
     "output_type": "stream",
     "text": [
      "new cost: 5.872343661202325 | old cost: 5.873569181018405\n",
      "Epoch 147: train=5.87234, val=6.09528, took 243.61 s\n"
     ]
    },
    {
     "data": {
      "application/vnd.jupyter.widget-view+json": {
       "model_id": "",
       "version_major": 2,
       "version_minor": 0
      },
      "text/plain": [
       "HBox(children=(FloatProgress(value=0.0, description='Training', layout=Layout(flex='2'), max=1125.0, style=Pro…"
      ]
     },
     "metadata": {},
     "output_type": "display_data"
    },
    {
     "name": "stdout",
     "output_type": "stream",
     "text": [
      "new cost: 5.851967656241523 | old cost: 5.872343661202325\n",
      "Epoch 148: train=5.85197, val=6.29206, took 244.18 s\n"
     ]
    },
    {
     "data": {
      "application/vnd.jupyter.widget-view+json": {
       "model_id": "",
       "version_major": 2,
       "version_minor": 0
      },
      "text/plain": [
       "HBox(children=(FloatProgress(value=0.0, description='Training', layout=Layout(flex='2'), max=1125.0, style=Pro…"
      ]
     },
     "metadata": {},
     "output_type": "display_data"
    },
    {
     "name": "stdout",
     "output_type": "stream",
     "text": [
      "new cost: 5.801106345494588 | old cost: 5.851967656241523\n",
      "Epoch 149: train=5.80111, val=6.13285, took 241.14 s\n"
     ]
    },
    {
     "data": {
      "application/vnd.jupyter.widget-view+json": {
       "model_id": "",
       "version_major": 2,
       "version_minor": 0
      },
      "text/plain": [
       "HBox(children=(FloatProgress(value=0.0, description='Training', layout=Layout(flex='2'), max=1125.0, style=Pro…"
      ]
     },
     "metadata": {},
     "output_type": "display_data"
    },
    {
     "name": "stdout",
     "output_type": "stream",
     "text": [
      "new cost: 5.8489609976874455 | old cost: 5.801106345494588\n",
      "Epoch 150: train=5.84896, val=6.60063, took 238.67 s\n"
     ]
    },
    {
     "data": {
      "application/vnd.jupyter.widget-view+json": {
       "model_id": "",
       "version_major": 2,
       "version_minor": 0
      },
      "text/plain": [
       "HBox(children=(FloatProgress(value=0.0, description='Training', layout=Layout(flex='2'), max=1125.0, style=Pro…"
      ]
     },
     "metadata": {},
     "output_type": "display_data"
    },
    {
     "name": "stdout",
     "output_type": "stream",
     "text": [
      "new cost: 5.769329158571032 | old cost: 5.8489609976874455\n",
      "Epoch 151: train=5.76933, val=6.05018, took 243.32 s\n"
     ]
    },
    {
     "data": {
      "application/vnd.jupyter.widget-view+json": {
       "model_id": "",
       "version_major": 2,
       "version_minor": 0
      },
      "text/plain": [
       "HBox(children=(FloatProgress(value=0.0, description='Training', layout=Layout(flex='2'), max=1125.0, style=Pro…"
      ]
     },
     "metadata": {},
     "output_type": "display_data"
    },
    {
     "name": "stdout",
     "output_type": "stream",
     "text": [
      "new cost: 5.816071427875095 | old cost: 5.769329158571032\n",
      "Epoch 152: train=5.81607, val=7.13691, took 243.15 s\n"
     ]
    },
    {
     "data": {
      "application/vnd.jupyter.widget-view+json": {
       "model_id": "",
       "version_major": 2,
       "version_minor": 0
      },
      "text/plain": [
       "HBox(children=(FloatProgress(value=0.0, description='Training', layout=Layout(flex='2'), max=1125.0, style=Pro…"
      ]
     },
     "metadata": {},
     "output_type": "display_data"
    },
    {
     "name": "stdout",
     "output_type": "stream",
     "text": [
      "new cost: 5.775407106187608 | old cost: 5.816071427875095\n",
      "Epoch 153: train=5.77541, val=6.01706, took 244.6 s\n"
     ]
    },
    {
     "data": {
      "application/vnd.jupyter.widget-view+json": {
       "model_id": "",
       "version_major": 2,
       "version_minor": 0
      },
      "text/plain": [
       "HBox(children=(FloatProgress(value=0.0, description='Training', layout=Layout(flex='2'), max=1125.0, style=Pro…"
      ]
     },
     "metadata": {},
     "output_type": "display_data"
    },
    {
     "name": "stdout",
     "output_type": "stream",
     "text": [
      "new cost: 5.783903218163385 | old cost: 5.775407106187608\n",
      "Epoch 154: train=5.7839, val=6.08932, took 241.36 s\n"
     ]
    },
    {
     "data": {
      "application/vnd.jupyter.widget-view+json": {
       "model_id": "",
       "version_major": 2,
       "version_minor": 0
      },
      "text/plain": [
       "HBox(children=(FloatProgress(value=0.0, description='Training', layout=Layout(flex='2'), max=1125.0, style=Pro…"
      ]
     },
     "metadata": {},
     "output_type": "display_data"
    },
    {
     "name": "stdout",
     "output_type": "stream",
     "text": [
      "new cost: 5.784852352990044 | old cost: 5.783903218163385\n",
      "Epoch 155: train=5.78485, val=6.11148, took 243.55 s\n"
     ]
    },
    {
     "data": {
      "application/vnd.jupyter.widget-view+json": {
       "model_id": "",
       "version_major": 2,
       "version_minor": 0
      },
      "text/plain": [
       "HBox(children=(FloatProgress(value=0.0, description='Training', layout=Layout(flex='2'), max=1125.0, style=Pro…"
      ]
     },
     "metadata": {},
     "output_type": "display_data"
    },
    {
     "name": "stdout",
     "output_type": "stream",
     "text": [
      "new cost: 5.788174212137858 | old cost: 5.784852352990044\n",
      "Epoch 156: train=5.78817, val=5.96654, took 242.37 s\n"
     ]
    },
    {
     "data": {
      "application/vnd.jupyter.widget-view+json": {
       "model_id": "",
       "version_major": 2,
       "version_minor": 0
      },
      "text/plain": [
       "HBox(children=(FloatProgress(value=0.0, description='Training', layout=Layout(flex='2'), max=1125.0, style=Pro…"
      ]
     },
     "metadata": {},
     "output_type": "display_data"
    },
    {
     "name": "stdout",
     "output_type": "stream",
     "text": [
      "new cost: 5.845171928829617 | old cost: 5.788174212137858\n",
      "Epoch 157: train=5.84517, val=6.28186, took 234.35 s\n"
     ]
    },
    {
     "data": {
      "application/vnd.jupyter.widget-view+json": {
       "model_id": "",
       "version_major": 2,
       "version_minor": 0
      },
      "text/plain": [
       "HBox(children=(FloatProgress(value=0.0, description='Training', layout=Layout(flex='2'), max=1125.0, style=Pro…"
      ]
     },
     "metadata": {},
     "output_type": "display_data"
    },
    {
     "name": "stdout",
     "output_type": "stream",
     "text": [
      "new cost: 5.7200298720465765 | old cost: 5.845171928829617\n",
      "Epoch 158: train=5.72003, val=6.04752, took 245.05 s\n"
     ]
    },
    {
     "data": {
      "application/vnd.jupyter.widget-view+json": {
       "model_id": "",
       "version_major": 2,
       "version_minor": 0
      },
      "text/plain": [
       "HBox(children=(FloatProgress(value=0.0, description='Training', layout=Layout(flex='2'), max=1125.0, style=Pro…"
      ]
     },
     "metadata": {},
     "output_type": "display_data"
    },
    {
     "name": "stdout",
     "output_type": "stream",
     "text": [
      "new cost: 5.69167636150784 | old cost: 5.7200298720465765\n",
      "Epoch 159: train=5.69168, val=6.0351, took 243.45 s\n"
     ]
    },
    {
     "data": {
      "application/vnd.jupyter.widget-view+json": {
       "model_id": "",
       "version_major": 2,
       "version_minor": 0
      },
      "text/plain": [
       "HBox(children=(FloatProgress(value=0.0, description='Training', layout=Layout(flex='2'), max=1125.0, style=Pro…"
      ]
     },
     "metadata": {},
     "output_type": "display_data"
    },
    {
     "name": "stdout",
     "output_type": "stream",
     "text": [
      "new cost: 5.680720421261258 | old cost: 5.69167636150784\n",
      "Epoch 160: train=5.68072, val=5.9713, took 243.45 s\n"
     ]
    },
    {
     "data": {
      "application/vnd.jupyter.widget-view+json": {
       "model_id": "",
       "version_major": 2,
       "version_minor": 0
      },
      "text/plain": [
       "HBox(children=(FloatProgress(value=0.0, description='Training', layout=Layout(flex='2'), max=1125.0, style=Pro…"
      ]
     },
     "metadata": {},
     "output_type": "display_data"
    },
    {
     "name": "stdout",
     "output_type": "stream",
     "text": [
      "new cost: 5.783971941630045 | old cost: 5.680720421261258\n",
      "Epoch 161: train=5.78397, val=6.00311, took 245.47 s\n"
     ]
    },
    {
     "data": {
      "application/vnd.jupyter.widget-view+json": {
       "model_id": "",
       "version_major": 2,
       "version_minor": 0
      },
      "text/plain": [
       "HBox(children=(FloatProgress(value=0.0, description='Training', layout=Layout(flex='2'), max=1125.0, style=Pro…"
      ]
     },
     "metadata": {},
     "output_type": "display_data"
    },
    {
     "name": "stdout",
     "output_type": "stream",
     "text": [
      "new cost: 5.712394784503513 | old cost: 5.783971941630045\n",
      "Epoch 162: train=5.71239, val=6.09487, took 243.23 s\n"
     ]
    },
    {
     "data": {
      "application/vnd.jupyter.widget-view+json": {
       "model_id": "",
       "version_major": 2,
       "version_minor": 0
      },
      "text/plain": [
       "HBox(children=(FloatProgress(value=0.0, description='Training', layout=Layout(flex='2'), max=1125.0, style=Pro…"
      ]
     },
     "metadata": {},
     "output_type": "display_data"
    },
    {
     "name": "stdout",
     "output_type": "stream",
     "text": [
      "new cost: 5.753525882720948 | old cost: 5.712394784503513\n",
      "Epoch 163: train=5.75353, val=5.95068, took 243.66 s\n"
     ]
    },
    {
     "data": {
      "application/vnd.jupyter.widget-view+json": {
       "model_id": "",
       "version_major": 2,
       "version_minor": 0
      },
      "text/plain": [
       "HBox(children=(FloatProgress(value=0.0, description='Training', layout=Layout(flex='2'), max=1125.0, style=Pro…"
      ]
     },
     "metadata": {},
     "output_type": "display_data"
    },
    {
     "name": "stdout",
     "output_type": "stream",
     "text": [
      "new cost: 5.681702425003052 | old cost: 5.753525882720948\n",
      "Epoch 164: train=5.6817, val=5.98509, took 233.62 s\n"
     ]
    },
    {
     "data": {
      "application/vnd.jupyter.widget-view+json": {
       "model_id": "",
       "version_major": 2,
       "version_minor": 0
      },
      "text/plain": [
       "HBox(children=(FloatProgress(value=0.0, description='Training', layout=Layout(flex='2'), max=1125.0, style=Pro…"
      ]
     },
     "metadata": {},
     "output_type": "display_data"
    },
    {
     "name": "stdout",
     "output_type": "stream",
     "text": [
      "new cost: 5.658486864937676 | old cost: 5.681702425003052\n",
      "Epoch 165: train=5.65849, val=5.94141, took 244.79 s\n"
     ]
    },
    {
     "data": {
      "application/vnd.jupyter.widget-view+json": {
       "model_id": "",
       "version_major": 2,
       "version_minor": 0
      },
      "text/plain": [
       "HBox(children=(FloatProgress(value=0.0, description='Training', layout=Layout(flex='2'), max=1125.0, style=Pro…"
      ]
     },
     "metadata": {},
     "output_type": "display_data"
    },
    {
     "name": "stdout",
     "output_type": "stream",
     "text": [
      "new cost: 5.6468494686550565 | old cost: 5.658486864937676\n",
      "Epoch 166: train=5.64685, val=5.95459, took 242.81 s\n"
     ]
    },
    {
     "data": {
      "application/vnd.jupyter.widget-view+json": {
       "model_id": "",
       "version_major": 2,
       "version_minor": 0
      },
      "text/plain": [
       "HBox(children=(FloatProgress(value=0.0, description='Training', layout=Layout(flex='2'), max=1125.0, style=Pro…"
      ]
     },
     "metadata": {},
     "output_type": "display_data"
    },
    {
     "name": "stdout",
     "output_type": "stream",
     "text": [
      "new cost: 5.653669780095418 | old cost: 5.6468494686550565\n",
      "Epoch 167: train=5.65367, val=5.96406, took 243.19 s\n"
     ]
    },
    {
     "data": {
      "application/vnd.jupyter.widget-view+json": {
       "model_id": "",
       "version_major": 2,
       "version_minor": 0
      },
      "text/plain": [
       "HBox(children=(FloatProgress(value=0.0, description='Training', layout=Layout(flex='2'), max=1125.0, style=Pro…"
      ]
     },
     "metadata": {},
     "output_type": "display_data"
    },
    {
     "name": "stdout",
     "output_type": "stream",
     "text": [
      "new cost: 5.822638536877102 | old cost: 5.653669780095418\n",
      "loss increase too large; model backstepping\n",
      "<built-in method size of Parameter object at 0x7fcf26687320> <built-in method size of Tensor object at 0x7fcf046e65a0>\n",
      "<built-in method size of Parameter object at 0x7fcf26687050> <built-in method size of Tensor object at 0x7fcf046e6e10>\n",
      "<built-in method size of Parameter object at 0x7fcf26687f50> <built-in method size of Tensor object at 0x7fcf046e6230>\n",
      "<built-in method size of Parameter object at 0x7fcf26687af0> <built-in method size of Tensor object at 0x7fcf046e67d0>\n",
      "<built-in method size of Parameter object at 0x7fcf266870a0> <built-in method size of Tensor object at 0x7fcf046e6190>\n",
      "<built-in method size of Parameter object at 0x7fcf26687280> <built-in method size of Tensor object at 0x7fcf046e6460>\n",
      "<built-in method size of Parameter object at 0x7fcf26687230> <built-in method size of Tensor object at 0x7fcf046e6b40>\n",
      "<built-in method size of Parameter object at 0x7fcf266871e0> <built-in method size of Tensor object at 0x7fcf046e64b0>\n",
      "<built-in method size of Parameter object at 0x7fcf26687730> <built-in method size of Tensor object at 0x7fcf046e65f0>\n",
      "<built-in method size of Parameter object at 0x7fcf266876e0> <built-in method size of Tensor object at 0x7fcf046e63c0>\n",
      "<built-in method size of Parameter object at 0x7fcf26687aa0> <built-in method size of Tensor object at 0x7fcf046e6d70>\n",
      "<built-in method size of Parameter object at 0x7fcf26687be0> <built-in method size of Tensor object at 0x7fcf046e6a50>\n",
      "<built-in method size of Parameter object at 0x7fcf26687140> <built-in method size of Tensor object at 0x7fcf046e6eb0>\n",
      "<built-in method size of Parameter object at 0x7fcf26687fa0> <built-in method size of Tensor object at 0x7fcf046e6500>\n",
      "<built-in method size of Parameter object at 0x7fcf2668b460> <built-in method size of Tensor object at 0x7fcf046e61e0>\n",
      "<built-in method size of Parameter object at 0x7fcf2668b410> <built-in method size of Tensor object at 0x7fcf046e60a0>\n",
      "<built-in method size of Parameter object at 0x7fcf2668b370> <built-in method size of Tensor object at 0x7fcf046e66e0>\n",
      "<built-in method size of Parameter object at 0x7fcf2668b320> <built-in method size of Tensor object at 0x7fcf046e6cd0>\n",
      "<built-in method size of Parameter object at 0x7fcf2668be10> <built-in method size of Tensor object at 0x7fcf046e6a00>\n",
      "<built-in method size of Parameter object at 0x7fcf2668bfa0> <built-in method size of Tensor object at 0x7fcf046e6280>\n",
      "<built-in method size of Parameter object at 0x7fcf2668bdc0> <built-in method size of Tensor object at 0x7fcf046e6370>\n",
      "<built-in method size of Parameter object at 0x7fcf2668bd20> <built-in method size of Tensor object at 0x7fcf046e62d0>\n",
      "<built-in method size of Parameter object at 0x7fcf2668bcd0> <built-in method size of Tensor object at 0x7fcf2e92db90>\n",
      "<built-in method size of Parameter object at 0x7fcf2668b910> <built-in method size of Tensor object at 0x7fcf046e60f0>\n",
      "<built-in method size of Parameter object at 0x7fcf266899b0> <built-in method size of Tensor object at 0x7fcf2e896be0>\n",
      "<built-in method size of Parameter object at 0x7fcf26689960> <built-in method size of Tensor object at 0x7fcf2e896d70>\n",
      "<built-in method size of Parameter object at 0x7fcf26689870> <built-in method size of Tensor object at 0x7fcf2e9ca820>\n",
      "<built-in method size of Parameter object at 0x7fcf26689820> <built-in method size of Tensor object at 0x7fcf2e8763c0>\n",
      "<built-in method size of Parameter object at 0x7fcf26689a00> <built-in method size of Tensor object at 0x7fcf2e9a8780>\n",
      "<built-in method size of Parameter object at 0x7fcf266896e0> <built-in method size of Tensor object at 0x7fcf2e88e550>\n",
      "lr changed to 1.0737418240000008e-05\n",
      "Epoch 168: train=5.82264, val=6.36363, took 246.34 s\n"
     ]
    },
    {
     "data": {
      "application/vnd.jupyter.widget-view+json": {
       "model_id": "",
       "version_major": 2,
       "version_minor": 0
      },
      "text/plain": [
       "HBox(children=(FloatProgress(value=0.0, description='Training', layout=Layout(flex='2'), max=1125.0, style=Pro…"
      ]
     },
     "metadata": {},
     "output_type": "display_data"
    },
    {
     "name": "stdout",
     "output_type": "stream",
     "text": [
      "new cost: 5.58220851665073 | old cost: 5.653669780095418\n",
      "Epoch 169: train=5.58221, val=6.22507, took 244.7 s\n"
     ]
    },
    {
     "data": {
      "application/vnd.jupyter.widget-view+json": {
       "model_id": "",
       "version_major": 2,
       "version_minor": 0
      },
      "text/plain": [
       "HBox(children=(FloatProgress(value=0.0, description='Training', layout=Layout(flex='2'), max=1125.0, style=Pro…"
      ]
     },
     "metadata": {},
     "output_type": "display_data"
    },
    {
     "name": "stdout",
     "output_type": "stream",
     "text": [
      "new cost: 5.584434410307143 | old cost: 5.58220851665073\n",
      "Epoch 170: train=5.58443, val=5.95876, took 240.91 s\n"
     ]
    },
    {
     "data": {
      "application/vnd.jupyter.widget-view+json": {
       "model_id": "",
       "version_major": 2,
       "version_minor": 0
      },
      "text/plain": [
       "HBox(children=(FloatProgress(value=0.0, description='Training', layout=Layout(flex='2'), max=1125.0, style=Pro…"
      ]
     },
     "metadata": {},
     "output_type": "display_data"
    },
    {
     "name": "stdout",
     "output_type": "stream",
     "text": [
      "new cost: 5.580436437606812 | old cost: 5.584434410307143\n",
      "Epoch 171: train=5.58044, val=6.10525, took 234.31 s\n"
     ]
    },
    {
     "data": {
      "application/vnd.jupyter.widget-view+json": {
       "model_id": "",
       "version_major": 2,
       "version_minor": 0
      },
      "text/plain": [
       "HBox(children=(FloatProgress(value=0.0, description='Training', layout=Layout(flex='2'), max=1125.0, style=Pro…"
      ]
     },
     "metadata": {},
     "output_type": "display_data"
    },
    {
     "name": "stdout",
     "output_type": "stream",
     "text": [
      "new cost: 5.549677686691284 | old cost: 5.580436437606812\n",
      "Epoch 172: train=5.54968, val=6.06911, took 243.45 s\n"
     ]
    },
    {
     "data": {
      "application/vnd.jupyter.widget-view+json": {
       "model_id": "",
       "version_major": 2,
       "version_minor": 0
      },
      "text/plain": [
       "HBox(children=(FloatProgress(value=0.0, description='Training', layout=Layout(flex='2'), max=1125.0, style=Pro…"
      ]
     },
     "metadata": {},
     "output_type": "display_data"
    },
    {
     "name": "stdout",
     "output_type": "stream",
     "text": [
      "new cost: 5.547927927652995 | old cost: 5.549677686691284\n",
      "Epoch 173: train=5.54793, val=5.88733, took 245.27 s\n"
     ]
    },
    {
     "data": {
      "application/vnd.jupyter.widget-view+json": {
       "model_id": "",
       "version_major": 2,
       "version_minor": 0
      },
      "text/plain": [
       "HBox(children=(FloatProgress(value=0.0, description='Training', layout=Layout(flex='2'), max=1125.0, style=Pro…"
      ]
     },
     "metadata": {},
     "output_type": "display_data"
    },
    {
     "name": "stdout",
     "output_type": "stream",
     "text": [
      "new cost: 5.529225624084472 | old cost: 5.547927927652995\n",
      "Epoch 174: train=5.52923, val=6.40521, took 246.38 s\n"
     ]
    },
    {
     "data": {
      "application/vnd.jupyter.widget-view+json": {
       "model_id": "",
       "version_major": 2,
       "version_minor": 0
      },
      "text/plain": [
       "HBox(children=(FloatProgress(value=0.0, description='Training', layout=Layout(flex='2'), max=1125.0, style=Pro…"
      ]
     },
     "metadata": {},
     "output_type": "display_data"
    },
    {
     "name": "stdout",
     "output_type": "stream",
     "text": [
      "new cost: 5.5317286355760364 | old cost: 5.529225624084472\n",
      "Epoch 175: train=5.53173, val=6.3758, took 179.08 s\n"
     ]
    },
    {
     "data": {
      "application/vnd.jupyter.widget-view+json": {
       "model_id": "",
       "version_major": 2,
       "version_minor": 0
      },
      "text/plain": [
       "HBox(children=(FloatProgress(value=0.0, description='Training', layout=Layout(flex='2'), max=1125.0, style=Pro…"
      ]
     },
     "metadata": {},
     "output_type": "display_data"
    },
    {
     "name": "stdout",
     "output_type": "stream",
     "text": [
      "new cost: 5.540069863849216 | old cost: 5.5317286355760364\n",
      "Epoch 176: train=5.54007, val=5.91151, took 88.183 s\n"
     ]
    },
    {
     "data": {
      "application/vnd.jupyter.widget-view+json": {
       "model_id": "",
       "version_major": 2,
       "version_minor": 0
      },
      "text/plain": [
       "HBox(children=(FloatProgress(value=0.0, description='Training', layout=Layout(flex='2'), max=1125.0, style=Pro…"
      ]
     },
     "metadata": {},
     "output_type": "display_data"
    },
    {
     "name": "stdout",
     "output_type": "stream",
     "text": [
      "new cost: 5.541930236392551 | old cost: 5.540069863849216\n",
      "Epoch 177: train=5.54193, val=5.87245, took 86.635 s\n"
     ]
    },
    {
     "data": {
      "application/vnd.jupyter.widget-view+json": {
       "model_id": "",
       "version_major": 2,
       "version_minor": 0
      },
      "text/plain": [
       "HBox(children=(FloatProgress(value=0.0, description='Training', layout=Layout(flex='2'), max=1125.0, style=Pro…"
      ]
     },
     "metadata": {},
     "output_type": "display_data"
    },
    {
     "name": "stdout",
     "output_type": "stream",
     "text": [
      "new cost: 5.513623325771755 | old cost: 5.541930236392551\n",
      "Epoch 178: train=5.51362, val=5.94325, took 86.833 s\n"
     ]
    },
    {
     "data": {
      "application/vnd.jupyter.widget-view+json": {
       "model_id": "",
       "version_major": 2,
       "version_minor": 0
      },
      "text/plain": [
       "HBox(children=(FloatProgress(value=0.0, description='Training', layout=Layout(flex='2'), max=1125.0, style=Pro…"
      ]
     },
     "metadata": {},
     "output_type": "display_data"
    },
    {
     "name": "stdout",
     "output_type": "stream",
     "text": [
      "new cost: 5.492552951812744 | old cost: 5.513623325771755\n",
      "Epoch 179: train=5.49255, val=6.1811, took 87.101 s\n"
     ]
    },
    {
     "data": {
      "application/vnd.jupyter.widget-view+json": {
       "model_id": "",
       "version_major": 2,
       "version_minor": 0
      },
      "text/plain": [
       "HBox(children=(FloatProgress(value=0.0, description='Training', layout=Layout(flex='2'), max=1125.0, style=Pro…"
      ]
     },
     "metadata": {},
     "output_type": "display_data"
    },
    {
     "name": "stdout",
     "output_type": "stream",
     "text": [
      "new cost: 5.49207988357544 | old cost: 5.492552951812744\n",
      "Epoch 180: train=5.49208, val=6.18433, took 86.642 s\n"
     ]
    },
    {
     "data": {
      "application/vnd.jupyter.widget-view+json": {
       "model_id": "",
       "version_major": 2,
       "version_minor": 0
      },
      "text/plain": [
       "HBox(children=(FloatProgress(value=0.0, description='Training', layout=Layout(flex='2'), max=1125.0, style=Pro…"
      ]
     },
     "metadata": {},
     "output_type": "display_data"
    },
    {
     "name": "stdout",
     "output_type": "stream",
     "text": [
      "new cost: 5.505554171244303 | old cost: 5.49207988357544\n",
      "Epoch 181: train=5.50555, val=5.8907, took 86.691 s\n"
     ]
    },
    {
     "data": {
      "application/vnd.jupyter.widget-view+json": {
       "model_id": "",
       "version_major": 2,
       "version_minor": 0
      },
      "text/plain": [
       "HBox(children=(FloatProgress(value=0.0, description='Training', layout=Layout(flex='2'), max=1125.0, style=Pro…"
      ]
     },
     "metadata": {},
     "output_type": "display_data"
    },
    {
     "name": "stdout",
     "output_type": "stream",
     "text": [
      "new cost: 5.465622582965427 | old cost: 5.505554171244303\n",
      "Epoch 182: train=5.46562, val=6.03642, took 86.717 s\n"
     ]
    },
    {
     "data": {
      "application/vnd.jupyter.widget-view+json": {
       "model_id": "",
       "version_major": 2,
       "version_minor": 0
      },
      "text/plain": [
       "HBox(children=(FloatProgress(value=0.0, description='Training', layout=Layout(flex='2'), max=1125.0, style=Pro…"
      ]
     },
     "metadata": {},
     "output_type": "display_data"
    },
    {
     "name": "stdout",
     "output_type": "stream",
     "text": [
      "new cost: 5.463320280287001 | old cost: 5.465622582965427\n",
      "Epoch 183: train=5.46332, val=6.00252, took 86.126 s\n"
     ]
    },
    {
     "data": {
      "application/vnd.jupyter.widget-view+json": {
       "model_id": "",
       "version_major": 2,
       "version_minor": 0
      },
      "text/plain": [
       "HBox(children=(FloatProgress(value=0.0, description='Training', layout=Layout(flex='2'), max=1125.0, style=Pro…"
      ]
     },
     "metadata": {},
     "output_type": "display_data"
    },
    {
     "name": "stdout",
     "output_type": "stream",
     "text": [
      "new cost: 5.496290049870809 | old cost: 5.463320280287001\n",
      "Epoch 184: train=5.49629, val=6.01693, took 86.998 s\n"
     ]
    },
    {
     "data": {
      "application/vnd.jupyter.widget-view+json": {
       "model_id": "",
       "version_major": 2,
       "version_minor": 0
      },
      "text/plain": [
       "HBox(children=(FloatProgress(value=0.0, description='Training', layout=Layout(flex='2'), max=1125.0, style=Pro…"
      ]
     },
     "metadata": {},
     "output_type": "display_data"
    },
    {
     "name": "stdout",
     "output_type": "stream",
     "text": [
      "new cost: 5.441340130064223 | old cost: 5.496290049870809\n",
      "Epoch 185: train=5.44134, val=5.87448, took 88.078 s\n"
     ]
    },
    {
     "data": {
      "application/vnd.jupyter.widget-view+json": {
       "model_id": "",
       "version_major": 2,
       "version_minor": 0
      },
      "text/plain": [
       "HBox(children=(FloatProgress(value=0.0, description='Training', layout=Layout(flex='2'), max=1125.0, style=Pro…"
      ]
     },
     "metadata": {},
     "output_type": "display_data"
    },
    {
     "name": "stdout",
     "output_type": "stream",
     "text": [
      "new cost: 5.444707444508871 | old cost: 5.441340130064223\n",
      "Epoch 186: train=5.44471, val=6.16663, took 85.649 s\n"
     ]
    },
    {
     "data": {
      "application/vnd.jupyter.widget-view+json": {
       "model_id": "",
       "version_major": 2,
       "version_minor": 0
      },
      "text/plain": [
       "HBox(children=(FloatProgress(value=0.0, description='Training', layout=Layout(flex='2'), max=1125.0, style=Pro…"
      ]
     },
     "metadata": {},
     "output_type": "display_data"
    },
    {
     "name": "stdout",
     "output_type": "stream",
     "text": [
      "new cost: 5.428977437761095 | old cost: 5.444707444508871\n",
      "Epoch 187: train=5.42898, val=5.96958, took 88.785 s\n"
     ]
    },
    {
     "data": {
      "application/vnd.jupyter.widget-view+json": {
       "model_id": "",
       "version_major": 2,
       "version_minor": 0
      },
      "text/plain": [
       "HBox(children=(FloatProgress(value=0.0, description='Training', layout=Layout(flex='2'), max=1125.0, style=Pro…"
      ]
     },
     "metadata": {},
     "output_type": "display_data"
    },
    {
     "name": "stdout",
     "output_type": "stream",
     "text": [
      "new cost: 5.415505212571886 | old cost: 5.428977437761095\n",
      "Epoch 188: train=5.41551, val=5.99791, took 86.439 s\n"
     ]
    },
    {
     "data": {
      "application/vnd.jupyter.widget-view+json": {
       "model_id": "",
       "version_major": 2,
       "version_minor": 0
      },
      "text/plain": [
       "HBox(children=(FloatProgress(value=0.0, description='Training', layout=Layout(flex='2'), max=1125.0, style=Pro…"
      ]
     },
     "metadata": {},
     "output_type": "display_data"
    },
    {
     "name": "stdout",
     "output_type": "stream",
     "text": [
      "new cost: 5.380816946241591 | old cost: 5.415505212571886\n",
      "Epoch 189: train=5.38082, val=5.80405, took 86.661 s\n"
     ]
    },
    {
     "data": {
      "application/vnd.jupyter.widget-view+json": {
       "model_id": "",
       "version_major": 2,
       "version_minor": 0
      },
      "text/plain": [
       "HBox(children=(FloatProgress(value=0.0, description='Training', layout=Layout(flex='2'), max=1125.0, style=Pro…"
      ]
     },
     "metadata": {},
     "output_type": "display_data"
    },
    {
     "name": "stdout",
     "output_type": "stream",
     "text": [
      "new cost: 5.456334806018406 | old cost: 5.380816946241591\n",
      "Epoch 190: train=5.45633, val=6.34438, took 87.102 s\n"
     ]
    },
    {
     "data": {
      "application/vnd.jupyter.widget-view+json": {
       "model_id": "",
       "version_major": 2,
       "version_minor": 0
      },
      "text/plain": [
       "HBox(children=(FloatProgress(value=0.0, description='Training', layout=Layout(flex='2'), max=1125.0, style=Pro…"
      ]
     },
     "metadata": {},
     "output_type": "display_data"
    },
    {
     "name": "stdout",
     "output_type": "stream",
     "text": [
      "new cost: 5.4480095744662815 | old cost: 5.456334806018406\n",
      "Epoch 191: train=5.44801, val=5.98354, took 86.947 s\n"
     ]
    },
    {
     "data": {
      "application/vnd.jupyter.widget-view+json": {
       "model_id": "",
       "version_major": 2,
       "version_minor": 0
      },
      "text/plain": [
       "HBox(children=(FloatProgress(value=0.0, description='Training', layout=Layout(flex='2'), max=1125.0, style=Pro…"
      ]
     },
     "metadata": {},
     "output_type": "display_data"
    },
    {
     "name": "stdout",
     "output_type": "stream",
     "text": [
      "new cost: 5.423854332605997 | old cost: 5.4480095744662815\n",
      "Epoch 192: train=5.42385, val=6.07465, took 89.128 s\n"
     ]
    },
    {
     "data": {
      "application/vnd.jupyter.widget-view+json": {
       "model_id": "",
       "version_major": 2,
       "version_minor": 0
      },
      "text/plain": [
       "HBox(children=(FloatProgress(value=0.0, description='Training', layout=Layout(flex='2'), max=1125.0, style=Pro…"
      ]
     },
     "metadata": {},
     "output_type": "display_data"
    },
    {
     "name": "stdout",
     "output_type": "stream",
     "text": [
      "new cost: 5.395871142493354 | old cost: 5.423854332605997\n",
      "Epoch 193: train=5.39587, val=5.91787, took 87.401 s\n"
     ]
    },
    {
     "data": {
      "application/vnd.jupyter.widget-view+json": {
       "model_id": "",
       "version_major": 2,
       "version_minor": 0
      },
      "text/plain": [
       "HBox(children=(FloatProgress(value=0.0, description='Training', layout=Layout(flex='2'), max=1125.0, style=Pro…"
      ]
     },
     "metadata": {},
     "output_type": "display_data"
    },
    {
     "name": "stdout",
     "output_type": "stream",
     "text": [
      "new cost: 5.364274966345893 | old cost: 5.395871142493354\n",
      "Epoch 194: train=5.36427, val=6.00097, took 87.081 s\n"
     ]
    },
    {
     "data": {
      "application/vnd.jupyter.widget-view+json": {
       "model_id": "",
       "version_major": 2,
       "version_minor": 0
      },
      "text/plain": [
       "HBox(children=(FloatProgress(value=0.0, description='Training', layout=Layout(flex='2'), max=1125.0, style=Pro…"
      ]
     },
     "metadata": {},
     "output_type": "display_data"
    },
    {
     "name": "stdout",
     "output_type": "stream",
     "text": [
      "new cost: 5.383728479597304 | old cost: 5.364274966345893\n",
      "Epoch 195: train=5.38373, val=6.12916, took 86.085 s\n"
     ]
    },
    {
     "data": {
      "application/vnd.jupyter.widget-view+json": {
       "model_id": "",
       "version_major": 2,
       "version_minor": 0
      },
      "text/plain": [
       "HBox(children=(FloatProgress(value=0.0, description='Training', layout=Layout(flex='2'), max=1125.0, style=Pro…"
      ]
     },
     "metadata": {},
     "output_type": "display_data"
    },
    {
     "name": "stdout",
     "output_type": "stream",
     "text": [
      "new cost: 5.325651491589016 | old cost: 5.383728479597304\n",
      "Epoch 196: train=5.32565, val=5.77063, took 86.12 s\n"
     ]
    },
    {
     "data": {
      "application/vnd.jupyter.widget-view+json": {
       "model_id": "",
       "version_major": 2,
       "version_minor": 0
      },
      "text/plain": [
       "HBox(children=(FloatProgress(value=0.0, description='Training', layout=Layout(flex='2'), max=1125.0, style=Pro…"
      ]
     },
     "metadata": {},
     "output_type": "display_data"
    },
    {
     "name": "stdout",
     "output_type": "stream",
     "text": [
      "new cost: 5.419268797768487 | old cost: 5.325651491589016\n",
      "Epoch 197: train=5.41927, val=6.29574, took 86.464 s\n"
     ]
    },
    {
     "data": {
      "application/vnd.jupyter.widget-view+json": {
       "model_id": "",
       "version_major": 2,
       "version_minor": 0
      },
      "text/plain": [
       "HBox(children=(FloatProgress(value=0.0, description='Training', layout=Layout(flex='2'), max=1125.0, style=Pro…"
      ]
     },
     "metadata": {},
     "output_type": "display_data"
    },
    {
     "name": "stdout",
     "output_type": "stream",
     "text": [
      "new cost: 5.3438580691019695 | old cost: 5.419268797768487\n",
      "Epoch 198: train=5.34386, val=6.01095, took 86.952 s\n"
     ]
    },
    {
     "data": {
      "application/vnd.jupyter.widget-view+json": {
       "model_id": "",
       "version_major": 2,
       "version_minor": 0
      },
      "text/plain": [
       "HBox(children=(FloatProgress(value=0.0, description='Training', layout=Layout(flex='2'), max=1125.0, style=Pro…"
      ]
     },
     "metadata": {},
     "output_type": "display_data"
    },
    {
     "name": "stdout",
     "output_type": "stream",
     "text": [
      "new cost: 5.365258916431003 | old cost: 5.3438580691019695\n",
      "Epoch 199: train=5.36526, val=5.91967, took 86.639 s\n"
     ]
    },
    {
     "data": {
      "application/vnd.jupyter.widget-view+json": {
       "model_id": "",
       "version_major": 2,
       "version_minor": 0
      },
      "text/plain": [
       "HBox(children=(FloatProgress(value=0.0, description='Training', layout=Layout(flex='2'), max=1125.0, style=Pro…"
      ]
     },
     "metadata": {},
     "output_type": "display_data"
    },
    {
     "name": "stdout",
     "output_type": "stream",
     "text": [
      "new cost: 5.372176684061686 | old cost: 5.365258916431003\n",
      "Epoch 200: train=5.37218, val=5.7751, took 86.641 s\n"
     ]
    },
    {
     "data": {
      "application/vnd.jupyter.widget-view+json": {
       "model_id": "",
       "version_major": 2,
       "version_minor": 0
      },
      "text/plain": [
       "HBox(children=(FloatProgress(value=0.0, description='Training', layout=Layout(flex='2'), max=1125.0, style=Pro…"
      ]
     },
     "metadata": {},
     "output_type": "display_data"
    },
    {
     "name": "stdout",
     "output_type": "stream",
     "text": [
      "new cost: 5.369345299402872 | old cost: 5.372176684061686\n",
      "Epoch 201: train=5.36935, val=5.81864, took 86.66 s\n"
     ]
    },
    {
     "data": {
      "application/vnd.jupyter.widget-view+json": {
       "model_id": "",
       "version_major": 2,
       "version_minor": 0
      },
      "text/plain": [
       "HBox(children=(FloatProgress(value=0.0, description='Training', layout=Layout(flex='2'), max=1125.0, style=Pro…"
      ]
     },
     "metadata": {},
     "output_type": "display_data"
    },
    {
     "name": "stdout",
     "output_type": "stream",
     "text": [
      "new cost: 5.324601633071899 | old cost: 5.369345299402872\n",
      "Epoch 202: train=5.3246, val=6.20937, took 86.991 s\n"
     ]
    },
    {
     "data": {
      "application/vnd.jupyter.widget-view+json": {
       "model_id": "",
       "version_major": 2,
       "version_minor": 0
      },
      "text/plain": [
       "HBox(children=(FloatProgress(value=0.0, description='Training', layout=Layout(flex='2'), max=1125.0, style=Pro…"
      ]
     },
     "metadata": {},
     "output_type": "display_data"
    },
    {
     "name": "stdout",
     "output_type": "stream",
     "text": [
      "new cost: 5.324521120495266 | old cost: 5.324601633071899\n",
      "Epoch 203: train=5.32452, val=6.16659, took 86.819 s\n"
     ]
    },
    {
     "data": {
      "application/vnd.jupyter.widget-view+json": {
       "model_id": "",
       "version_major": 2,
       "version_minor": 0
      },
      "text/plain": [
       "HBox(children=(FloatProgress(value=0.0, description='Training', layout=Layout(flex='2'), max=1125.0, style=Pro…"
      ]
     },
     "metadata": {},
     "output_type": "display_data"
    },
    {
     "name": "stdout",
     "output_type": "stream",
     "text": [
      "new cost: 5.340506239149305 | old cost: 5.324521120495266\n",
      "Epoch 204: train=5.34051, val=6.3633, took 88.968 s\n"
     ]
    },
    {
     "data": {
      "application/vnd.jupyter.widget-view+json": {
       "model_id": "",
       "version_major": 2,
       "version_minor": 0
      },
      "text/plain": [
       "HBox(children=(FloatProgress(value=0.0, description='Training', layout=Layout(flex='2'), max=1125.0, style=Pro…"
      ]
     },
     "metadata": {},
     "output_type": "display_data"
    },
    {
     "name": "stdout",
     "output_type": "stream",
     "text": [
      "new cost: 5.3438499836391875 | old cost: 5.340506239149305\n",
      "Epoch 205: train=5.34385, val=5.9281, took 87.441 s\n"
     ]
    },
    {
     "data": {
      "application/vnd.jupyter.widget-view+json": {
       "model_id": "",
       "version_major": 2,
       "version_minor": 0
      },
      "text/plain": [
       "HBox(children=(FloatProgress(value=0.0, description='Training', layout=Layout(flex='2'), max=1125.0, style=Pro…"
      ]
     },
     "metadata": {},
     "output_type": "display_data"
    },
    {
     "name": "stdout",
     "output_type": "stream",
     "text": [
      "new cost: 5.298792382770115 | old cost: 5.3438499836391875\n",
      "Epoch 206: train=5.29879, val=5.87588, took 86.968 s\n"
     ]
    },
    {
     "data": {
      "application/vnd.jupyter.widget-view+json": {
       "model_id": "",
       "version_major": 2,
       "version_minor": 0
      },
      "text/plain": [
       "HBox(children=(FloatProgress(value=0.0, description='Training', layout=Layout(flex='2'), max=1125.0, style=Pro…"
      ]
     },
     "metadata": {},
     "output_type": "display_data"
    },
    {
     "name": "stdout",
     "output_type": "stream",
     "text": [
      "new cost: 5.303515191608005 | old cost: 5.298792382770115\n",
      "Epoch 207: train=5.30352, val=5.83656, took 86.383 s\n"
     ]
    },
    {
     "data": {
      "application/vnd.jupyter.widget-view+json": {
       "model_id": "",
       "version_major": 2,
       "version_minor": 0
      },
      "text/plain": [
       "HBox(children=(FloatProgress(value=0.0, description='Training', layout=Layout(flex='2'), max=1125.0, style=Pro…"
      ]
     },
     "metadata": {},
     "output_type": "display_data"
    },
    {
     "name": "stdout",
     "output_type": "stream",
     "text": [
      "new cost: 5.337543635050456 | old cost: 5.303515191608005\n",
      "Epoch 208: train=5.33754, val=5.79566, took 85.992 s\n"
     ]
    },
    {
     "data": {
      "application/vnd.jupyter.widget-view+json": {
       "model_id": "",
       "version_major": 2,
       "version_minor": 0
      },
      "text/plain": [
       "HBox(children=(FloatProgress(value=0.0, description='Training', layout=Layout(flex='2'), max=1125.0, style=Pro…"
      ]
     },
     "metadata": {},
     "output_type": "display_data"
    },
    {
     "name": "stdout",
     "output_type": "stream",
     "text": [
      "new cost: 5.268931061002943 | old cost: 5.337543635050456\n",
      "Epoch 209: train=5.26893, val=5.71618, took 86.315 s\n"
     ]
    },
    {
     "data": {
      "application/vnd.jupyter.widget-view+json": {
       "model_id": "",
       "version_major": 2,
       "version_minor": 0
      },
      "text/plain": [
       "HBox(children=(FloatProgress(value=0.0, description='Training', layout=Layout(flex='2'), max=1125.0, style=Pro…"
      ]
     },
     "metadata": {},
     "output_type": "display_data"
    },
    {
     "name": "stdout",
     "output_type": "stream",
     "text": [
      "new cost: 5.345593209372627 | old cost: 5.268931061002943\n",
      "Epoch 210: train=5.34559, val=5.97236, took 86.231 s\n"
     ]
    },
    {
     "data": {
      "application/vnd.jupyter.widget-view+json": {
       "model_id": "",
       "version_major": 2,
       "version_minor": 0
      },
      "text/plain": [
       "HBox(children=(FloatProgress(value=0.0, description='Training', layout=Layout(flex='2'), max=1125.0, style=Pro…"
      ]
     },
     "metadata": {},
     "output_type": "display_data"
    },
    {
     "name": "stdout",
     "output_type": "stream",
     "text": [
      "new cost: 5.2949788648817275 | old cost: 5.345593209372627\n",
      "Epoch 211: train=5.29498, val=5.9266, took 87.762 s\n"
     ]
    },
    {
     "data": {
      "application/vnd.jupyter.widget-view+json": {
       "model_id": "",
       "version_major": 2,
       "version_minor": 0
      },
      "text/plain": [
       "HBox(children=(FloatProgress(value=0.0, description='Training', layout=Layout(flex='2'), max=1125.0, style=Pro…"
      ]
     },
     "metadata": {},
     "output_type": "display_data"
    },
    {
     "name": "stdout",
     "output_type": "stream",
     "text": [
      "new cost: 5.258996975792779 | old cost: 5.2949788648817275\n",
      "Epoch 212: train=5.259, val=5.95021, took 87.299 s\n"
     ]
    },
    {
     "data": {
      "application/vnd.jupyter.widget-view+json": {
       "model_id": "",
       "version_major": 2,
       "version_minor": 0
      },
      "text/plain": [
       "HBox(children=(FloatProgress(value=0.0, description='Training', layout=Layout(flex='2'), max=1125.0, style=Pro…"
      ]
     },
     "metadata": {},
     "output_type": "display_data"
    },
    {
     "name": "stdout",
     "output_type": "stream",
     "text": [
      "new cost: 5.360706609090169 | old cost: 5.258996975792779\n",
      "Epoch 213: train=5.36071, val=5.84987, took 86.936 s\n"
     ]
    },
    {
     "data": {
      "application/vnd.jupyter.widget-view+json": {
       "model_id": "",
       "version_major": 2,
       "version_minor": 0
      },
      "text/plain": [
       "HBox(children=(FloatProgress(value=0.0, description='Training', layout=Layout(flex='2'), max=1125.0, style=Pro…"
      ]
     },
     "metadata": {},
     "output_type": "display_data"
    },
    {
     "name": "stdout",
     "output_type": "stream",
     "text": [
      "new cost: 5.285509913974338 | old cost: 5.360706609090169\n",
      "Epoch 214: train=5.28551, val=5.84897, took 87.219 s\n"
     ]
    },
    {
     "data": {
      "application/vnd.jupyter.widget-view+json": {
       "model_id": "",
       "version_major": 2,
       "version_minor": 0
      },
      "text/plain": [
       "HBox(children=(FloatProgress(value=0.0, description='Training', layout=Layout(flex='2'), max=1125.0, style=Pro…"
      ]
     },
     "metadata": {},
     "output_type": "display_data"
    },
    {
     "name": "stdout",
     "output_type": "stream",
     "text": [
      "new cost: 5.245654236051771 | old cost: 5.285509913974338\n",
      "Epoch 215: train=5.24565, val=6.30359, took 86.649 s\n"
     ]
    },
    {
     "data": {
      "application/vnd.jupyter.widget-view+json": {
       "model_id": "",
       "version_major": 2,
       "version_minor": 0
      },
      "text/plain": [
       "HBox(children=(FloatProgress(value=0.0, description='Training', layout=Layout(flex='2'), max=1125.0, style=Pro…"
      ]
     },
     "metadata": {},
     "output_type": "display_data"
    },
    {
     "name": "stdout",
     "output_type": "stream",
     "text": [
      "new cost: 5.2714543056488035 | old cost: 5.245654236051771\n",
      "Epoch 216: train=5.27145, val=6.17138, took 86.335 s\n"
     ]
    },
    {
     "data": {
      "application/vnd.jupyter.widget-view+json": {
       "model_id": "",
       "version_major": 2,
       "version_minor": 0
      },
      "text/plain": [
       "HBox(children=(FloatProgress(value=0.0, description='Training', layout=Layout(flex='2'), max=1125.0, style=Pro…"
      ]
     },
     "metadata": {},
     "output_type": "display_data"
    },
    {
     "name": "stdout",
     "output_type": "stream",
     "text": [
      "new cost: 5.2178315111796065 | old cost: 5.2714543056488035\n",
      "Epoch 217: train=5.21783, val=5.74009, took 90.871 s\n"
     ]
    },
    {
     "data": {
      "application/vnd.jupyter.widget-view+json": {
       "model_id": "",
       "version_major": 2,
       "version_minor": 0
      },
      "text/plain": [
       "HBox(children=(FloatProgress(value=0.0, description='Training', layout=Layout(flex='2'), max=1125.0, style=Pro…"
      ]
     },
     "metadata": {},
     "output_type": "display_data"
    },
    {
     "name": "stdout",
     "output_type": "stream",
     "text": [
      "new cost: 5.21470196639167 | old cost: 5.2178315111796065\n",
      "Epoch 218: train=5.2147, val=5.80492, took 87.461 s\n"
     ]
    },
    {
     "data": {
      "application/vnd.jupyter.widget-view+json": {
       "model_id": "",
       "version_major": 2,
       "version_minor": 0
      },
      "text/plain": [
       "HBox(children=(FloatProgress(value=0.0, description='Training', layout=Layout(flex='2'), max=1125.0, style=Pro…"
      ]
     },
     "metadata": {},
     "output_type": "display_data"
    },
    {
     "name": "stdout",
     "output_type": "stream",
     "text": [
      "new cost: 5.224996726777818 | old cost: 5.21470196639167\n",
      "Epoch 219: train=5.225, val=5.86585, took 86.468 s\n"
     ]
    },
    {
     "data": {
      "application/vnd.jupyter.widget-view+json": {
       "model_id": "",
       "version_major": 2,
       "version_minor": 0
      },
      "text/plain": [
       "HBox(children=(FloatProgress(value=0.0, description='Training', layout=Layout(flex='2'), max=1125.0, style=Pro…"
      ]
     },
     "metadata": {},
     "output_type": "display_data"
    },
    {
     "name": "stdout",
     "output_type": "stream",
     "text": [
      "new cost: 5.260672558466593 | old cost: 5.224996726777818\n",
      "Epoch 220: train=5.26067, val=5.83837, took 86.597 s\n"
     ]
    },
    {
     "data": {
      "application/vnd.jupyter.widget-view+json": {
       "model_id": "",
       "version_major": 2,
       "version_minor": 0
      },
      "text/plain": [
       "HBox(children=(FloatProgress(value=0.0, description='Training', layout=Layout(flex='2'), max=1125.0, style=Pro…"
      ]
     },
     "metadata": {},
     "output_type": "display_data"
    },
    {
     "name": "stdout",
     "output_type": "stream",
     "text": [
      "new cost: 5.211848895602756 | old cost: 5.260672558466593\n",
      "Epoch 221: train=5.21185, val=5.7121, took 87.205 s\n"
     ]
    },
    {
     "data": {
      "application/vnd.jupyter.widget-view+json": {
       "model_id": "",
       "version_major": 2,
       "version_minor": 0
      },
      "text/plain": [
       "HBox(children=(FloatProgress(value=0.0, description='Training', layout=Layout(flex='2'), max=1125.0, style=Pro…"
      ]
     },
     "metadata": {},
     "output_type": "display_data"
    },
    {
     "name": "stdout",
     "output_type": "stream",
     "text": [
      "new cost: 5.269075656043158 | old cost: 5.211848895602756\n",
      "Epoch 222: train=5.26908, val=5.77378, took 86.488 s\n"
     ]
    },
    {
     "data": {
      "application/vnd.jupyter.widget-view+json": {
       "model_id": "",
       "version_major": 2,
       "version_minor": 0
      },
      "text/plain": [
       "HBox(children=(FloatProgress(value=0.0, description='Training', layout=Layout(flex='2'), max=1125.0, style=Pro…"
      ]
     },
     "metadata": {},
     "output_type": "display_data"
    },
    {
     "name": "stdout",
     "output_type": "stream",
     "text": [
      "new cost: 5.266494635687934 | old cost: 5.269075656043158\n",
      "Epoch 223: train=5.26649, val=5.75802, took 87.518 s\n"
     ]
    },
    {
     "data": {
      "application/vnd.jupyter.widget-view+json": {
       "model_id": "",
       "version_major": 2,
       "version_minor": 0
      },
      "text/plain": [
       "HBox(children=(FloatProgress(value=0.0, description='Training', layout=Layout(flex='2'), max=1125.0, style=Pro…"
      ]
     },
     "metadata": {},
     "output_type": "display_data"
    },
    {
     "name": "stdout",
     "output_type": "stream",
     "text": [
      "new cost: 5.184742416169908 | old cost: 5.266494635687934\n",
      "Epoch 224: train=5.18474, val=6.09401, took 86.611 s\n"
     ]
    },
    {
     "data": {
      "application/vnd.jupyter.widget-view+json": {
       "model_id": "",
       "version_major": 2,
       "version_minor": 0
      },
      "text/plain": [
       "HBox(children=(FloatProgress(value=0.0, description='Training', layout=Layout(flex='2'), max=1125.0, style=Pro…"
      ]
     },
     "metadata": {},
     "output_type": "display_data"
    },
    {
     "name": "stdout",
     "output_type": "stream",
     "text": [
      "new cost: 5.259503423055013 | old cost: 5.184742416169908\n",
      "Epoch 225: train=5.2595, val=5.77451, took 86.697 s\n"
     ]
    },
    {
     "data": {
      "application/vnd.jupyter.widget-view+json": {
       "model_id": "",
       "version_major": 2,
       "version_minor": 0
      },
      "text/plain": [
       "HBox(children=(FloatProgress(value=0.0, description='Training', layout=Layout(flex='2'), max=1125.0, style=Pro…"
      ]
     },
     "metadata": {},
     "output_type": "display_data"
    },
    {
     "name": "stdout",
     "output_type": "stream",
     "text": [
      "new cost: 5.181729159249199 | old cost: 5.259503423055013\n",
      "Epoch 226: train=5.18173, val=5.78346, took 87.166 s\n"
     ]
    },
    {
     "data": {
      "application/vnd.jupyter.widget-view+json": {
       "model_id": "",
       "version_major": 2,
       "version_minor": 0
      },
      "text/plain": [
       "HBox(children=(FloatProgress(value=0.0, description='Training', layout=Layout(flex='2'), max=1125.0, style=Pro…"
      ]
     },
     "metadata": {},
     "output_type": "display_data"
    },
    {
     "name": "stdout",
     "output_type": "stream",
     "text": [
      "new cost: 5.240126434750027 | old cost: 5.181729159249199\n",
      "Epoch 227: train=5.24013, val=5.69167, took 88.385 s\n"
     ]
    },
    {
     "data": {
      "application/vnd.jupyter.widget-view+json": {
       "model_id": "",
       "version_major": 2,
       "version_minor": 0
      },
      "text/plain": [
       "HBox(children=(FloatProgress(value=0.0, description='Training', layout=Layout(flex='2'), max=1125.0, style=Pro…"
      ]
     },
     "metadata": {},
     "output_type": "display_data"
    },
    {
     "name": "stdout",
     "output_type": "stream",
     "text": [
      "new cost: 5.204034411324395 | old cost: 5.240126434750027\n",
      "Epoch 228: train=5.20403, val=5.77794, took 87.014 s\n"
     ]
    },
    {
     "data": {
      "application/vnd.jupyter.widget-view+json": {
       "model_id": "",
       "version_major": 2,
       "version_minor": 0
      },
      "text/plain": [
       "HBox(children=(FloatProgress(value=0.0, description='Training', layout=Layout(flex='2'), max=1125.0, style=Pro…"
      ]
     },
     "metadata": {},
     "output_type": "display_data"
    },
    {
     "name": "stdout",
     "output_type": "stream",
     "text": [
      "new cost: 5.1533639948103165 | old cost: 5.204034411324395\n",
      "Epoch 229: train=5.15336, val=5.63701, took 86.898 s\n"
     ]
    },
    {
     "data": {
      "application/vnd.jupyter.widget-view+json": {
       "model_id": "",
       "version_major": 2,
       "version_minor": 0
      },
      "text/plain": [
       "HBox(children=(FloatProgress(value=0.0, description='Training', layout=Layout(flex='2'), max=1125.0, style=Pro…"
      ]
     },
     "metadata": {},
     "output_type": "display_data"
    },
    {
     "name": "stdout",
     "output_type": "stream",
     "text": [
      "new cost: 5.180489220937093 | old cost: 5.1533639948103165\n",
      "Epoch 230: train=5.18049, val=5.65201, took 86.36 s\n"
     ]
    },
    {
     "data": {
      "application/vnd.jupyter.widget-view+json": {
       "model_id": "",
       "version_major": 2,
       "version_minor": 0
      },
      "text/plain": [
       "HBox(children=(FloatProgress(value=0.0, description='Training', layout=Layout(flex='2'), max=1125.0, style=Pro…"
      ]
     },
     "metadata": {},
     "output_type": "display_data"
    },
    {
     "name": "stdout",
     "output_type": "stream",
     "text": [
      "new cost: 5.144265823576186 | old cost: 5.180489220937093\n",
      "Epoch 231: train=5.14427, val=6.10204, took 86.687 s\n"
     ]
    },
    {
     "data": {
      "application/vnd.jupyter.widget-view+json": {
       "model_id": "",
       "version_major": 2,
       "version_minor": 0
      },
      "text/plain": [
       "HBox(children=(FloatProgress(value=0.0, description='Training', layout=Layout(flex='2'), max=1125.0, style=Pro…"
      ]
     },
     "metadata": {},
     "output_type": "display_data"
    },
    {
     "name": "stdout",
     "output_type": "stream",
     "text": [
      "new cost: 5.168353704452515 | old cost: 5.144265823576186\n",
      "Epoch 232: train=5.16835, val=6.04565, took 86.662 s\n"
     ]
    },
    {
     "data": {
      "application/vnd.jupyter.widget-view+json": {
       "model_id": "",
       "version_major": 2,
       "version_minor": 0
      },
      "text/plain": [
       "HBox(children=(FloatProgress(value=0.0, description='Training', layout=Layout(flex='2'), max=1125.0, style=Pro…"
      ]
     },
     "metadata": {},
     "output_type": "display_data"
    },
    {
     "name": "stdout",
     "output_type": "stream",
     "text": [
      "new cost: 5.153872771792941 | old cost: 5.168353704452515\n",
      "Epoch 233: train=5.15387, val=6.08552, took 86.623 s\n"
     ]
    },
    {
     "data": {
      "application/vnd.jupyter.widget-view+json": {
       "model_id": "",
       "version_major": 2,
       "version_minor": 0
      },
      "text/plain": [
       "HBox(children=(FloatProgress(value=0.0, description='Training', layout=Layout(flex='2'), max=1125.0, style=Pro…"
      ]
     },
     "metadata": {},
     "output_type": "display_data"
    },
    {
     "name": "stdout",
     "output_type": "stream",
     "text": [
      "new cost: 5.13263378821479 | old cost: 5.153872771792941\n",
      "Epoch 234: train=5.13263, val=5.91138, took 86.967 s\n"
     ]
    },
    {
     "data": {
      "application/vnd.jupyter.widget-view+json": {
       "model_id": "",
       "version_major": 2,
       "version_minor": 0
      },
      "text/plain": [
       "HBox(children=(FloatProgress(value=0.0, description='Training', layout=Layout(flex='2'), max=1125.0, style=Pro…"
      ]
     },
     "metadata": {},
     "output_type": "display_data"
    },
    {
     "name": "stdout",
     "output_type": "stream",
     "text": [
      "new cost: 5.124213422139485 | old cost: 5.13263378821479\n",
      "Epoch 235: train=5.12421, val=6.18063, took 86.722 s\n"
     ]
    },
    {
     "data": {
      "application/vnd.jupyter.widget-view+json": {
       "model_id": "",
       "version_major": 2,
       "version_minor": 0
      },
      "text/plain": [
       "HBox(children=(FloatProgress(value=0.0, description='Training', layout=Layout(flex='2'), max=1125.0, style=Pro…"
      ]
     },
     "metadata": {},
     "output_type": "display_data"
    },
    {
     "name": "stdout",
     "output_type": "stream",
     "text": [
      "new cost: 5.065768934885661 | old cost: 5.124213422139485\n",
      "Epoch 236: train=5.06577, val=5.77552, took 86.46 s\n"
     ]
    },
    {
     "data": {
      "application/vnd.jupyter.widget-view+json": {
       "model_id": "",
       "version_major": 2,
       "version_minor": 0
      },
      "text/plain": [
       "HBox(children=(FloatProgress(value=0.0, description='Training', layout=Layout(flex='2'), max=1125.0, style=Pro…"
      ]
     },
     "metadata": {},
     "output_type": "display_data"
    },
    {
     "name": "stdout",
     "output_type": "stream",
     "text": [
      "new cost: 5.184044176949395 | old cost: 5.065768934885661\n",
      "loss increase too large; model backstepping\n",
      "<built-in method size of Parameter object at 0x7fcf26687320> <built-in method size of Tensor object at 0x7fcef19660f0>\n",
      "<built-in method size of Parameter object at 0x7fcf26687050> <built-in method size of Tensor object at 0x7fcf2656b050>\n",
      "<built-in method size of Parameter object at 0x7fcf26687f50> <built-in method size of Tensor object at 0x7fcf2656b550>\n",
      "<built-in method size of Parameter object at 0x7fcf26687af0> <built-in method size of Tensor object at 0x7fcf2656beb0>\n",
      "<built-in method size of Parameter object at 0x7fcf266870a0> <built-in method size of Tensor object at 0x7fcf2656bf00>\n",
      "<built-in method size of Parameter object at 0x7fcf26687280> <built-in method size of Tensor object at 0x7fcf2656bcd0>\n",
      "<built-in method size of Parameter object at 0x7fcf26687230> <built-in method size of Tensor object at 0x7fcf26515e60>\n",
      "<built-in method size of Parameter object at 0x7fcf266871e0> <built-in method size of Tensor object at 0x7fcf26515910>\n",
      "<built-in method size of Parameter object at 0x7fcf26687730> <built-in method size of Tensor object at 0x7fcf26515a00>\n",
      "<built-in method size of Parameter object at 0x7fcf266876e0> <built-in method size of Tensor object at 0x7fcf26515780>\n",
      "<built-in method size of Parameter object at 0x7fcf26687aa0> <built-in method size of Tensor object at 0x7fcf26515c80>\n",
      "<built-in method size of Parameter object at 0x7fcf26687be0> <built-in method size of Tensor object at 0x7fcf26515960>\n",
      "<built-in method size of Parameter object at 0x7fcf26687140> <built-in method size of Tensor object at 0x7fcf26515b90>\n",
      "<built-in method size of Parameter object at 0x7fcf26687fa0> <built-in method size of Tensor object at 0x7fcf26515d70>\n",
      "<built-in method size of Parameter object at 0x7fcf2668b460> <built-in method size of Tensor object at 0x7fcf26515690>\n",
      "<built-in method size of Parameter object at 0x7fcf2668b410> <built-in method size of Tensor object at 0x7fcf26515640>\n",
      "<built-in method size of Parameter object at 0x7fcf2668b370> <built-in method size of Tensor object at 0x7fcf26515b40>\n",
      "<built-in method size of Parameter object at 0x7fcf2668b320> <built-in method size of Tensor object at 0x7fcf26515730>\n",
      "<built-in method size of Parameter object at 0x7fcf2668be10> <built-in method size of Tensor object at 0x7fcf26515d20>\n",
      "<built-in method size of Parameter object at 0x7fcf2668bfa0> <built-in method size of Tensor object at 0x7fcf265150f0>\n",
      "<built-in method size of Parameter object at 0x7fcf2668bdc0> <built-in method size of Tensor object at 0x7fcf26515550>\n",
      "<built-in method size of Parameter object at 0x7fcf2668bd20> <built-in method size of Tensor object at 0x7fcf26515820>\n",
      "<built-in method size of Parameter object at 0x7fcf2668bcd0> <built-in method size of Tensor object at 0x7fcf26515cd0>\n",
      "<built-in method size of Parameter object at 0x7fcf2668b910> <built-in method size of Tensor object at 0x7fcf26515be0>\n",
      "<built-in method size of Parameter object at 0x7fcf266899b0> <built-in method size of Tensor object at 0x7fcf26515c30>\n",
      "<built-in method size of Parameter object at 0x7fcf26689960> <built-in method size of Tensor object at 0x7fcf26515f50>\n",
      "<built-in method size of Parameter object at 0x7fcf26689870> <built-in method size of Tensor object at 0x7fcf26515dc0>\n",
      "<built-in method size of Parameter object at 0x7fcf26689820> <built-in method size of Tensor object at 0x7fcf26515870>\n",
      "<built-in method size of Parameter object at 0x7fcf26689a00> <built-in method size of Tensor object at 0x7fcf26515e10>\n",
      "<built-in method size of Parameter object at 0x7fcf266896e0> <built-in method size of Tensor object at 0x7fcf265158c0>\n",
      "lr changed to 8.589934592000007e-06\n",
      "Epoch 237: train=5.18404, val=5.70911, took 88.195 s\n"
     ]
    },
    {
     "data": {
      "application/vnd.jupyter.widget-view+json": {
       "model_id": "",
       "version_major": 2,
       "version_minor": 0
      },
      "text/plain": [
       "HBox(children=(FloatProgress(value=0.0, description='Training', layout=Layout(flex='2'), max=1125.0, style=Pro…"
      ]
     },
     "metadata": {},
     "output_type": "display_data"
    },
    {
     "name": "stdout",
     "output_type": "stream",
     "text": [
      "new cost: 5.098501115587022 | old cost: 5.065768934885661\n",
      "Epoch 238: train=5.0985, val=5.97049, took 86.517 s\n"
     ]
    },
    {
     "data": {
      "application/vnd.jupyter.widget-view+json": {
       "model_id": "",
       "version_major": 2,
       "version_minor": 0
      },
      "text/plain": [
       "HBox(children=(FloatProgress(value=0.0, description='Training', layout=Layout(flex='2'), max=1125.0, style=Pro…"
      ]
     },
     "metadata": {},
     "output_type": "display_data"
    },
    {
     "name": "stdout",
     "output_type": "stream",
     "text": [
      "new cost: 5.10376159286499 | old cost: 5.098501115587022\n",
      "Epoch 239: train=5.10376, val=5.61899, took 87.448 s\n"
     ]
    },
    {
     "data": {
      "application/vnd.jupyter.widget-view+json": {
       "model_id": "",
       "version_major": 2,
       "version_minor": 0
      },
      "text/plain": [
       "HBox(children=(FloatProgress(value=0.0, description='Training', layout=Layout(flex='2'), max=1125.0, style=Pro…"
      ]
     },
     "metadata": {},
     "output_type": "display_data"
    },
    {
     "name": "stdout",
     "output_type": "stream",
     "text": [
      "new cost: 5.094308767318726 | old cost: 5.10376159286499\n",
      "Epoch 240: train=5.09431, val=5.63019, took 86.454 s\n"
     ]
    },
    {
     "data": {
      "application/vnd.jupyter.widget-view+json": {
       "model_id": "",
       "version_major": 2,
       "version_minor": 0
      },
      "text/plain": [
       "HBox(children=(FloatProgress(value=0.0, description='Training', layout=Layout(flex='2'), max=1125.0, style=Pro…"
      ]
     },
     "metadata": {},
     "output_type": "display_data"
    },
    {
     "name": "stdout",
     "output_type": "stream",
     "text": [
      "new cost: 5.058919535742866 | old cost: 5.094308767318726\n",
      "Epoch 241: train=5.05892, val=5.64858, took 86.949 s\n"
     ]
    },
    {
     "data": {
      "application/vnd.jupyter.widget-view+json": {
       "model_id": "",
       "version_major": 2,
       "version_minor": 0
      },
      "text/plain": [
       "HBox(children=(FloatProgress(value=0.0, description='Training', layout=Layout(flex='2'), max=1125.0, style=Pro…"
      ]
     },
     "metadata": {},
     "output_type": "display_data"
    },
    {
     "name": "stdout",
     "output_type": "stream",
     "text": [
      "new cost: 5.07840974383884 | old cost: 5.058919535742866\n",
      "Epoch 242: train=5.07841, val=5.60704, took 87.357 s\n"
     ]
    },
    {
     "data": {
      "application/vnd.jupyter.widget-view+json": {
       "model_id": "",
       "version_major": 2,
       "version_minor": 0
      },
      "text/plain": [
       "HBox(children=(FloatProgress(value=0.0, description='Training', layout=Layout(flex='2'), max=1125.0, style=Pro…"
      ]
     },
     "metadata": {},
     "output_type": "display_data"
    },
    {
     "name": "stdout",
     "output_type": "stream",
     "text": [
      "new cost: 5.033000865724351 | old cost: 5.07840974383884\n",
      "Epoch 243: train=5.033, val=5.69954, took 86.971 s\n"
     ]
    },
    {
     "data": {
      "application/vnd.jupyter.widget-view+json": {
       "model_id": "",
       "version_major": 2,
       "version_minor": 0
      },
      "text/plain": [
       "HBox(children=(FloatProgress(value=0.0, description='Training', layout=Layout(flex='2'), max=1125.0, style=Pro…"
      ]
     },
     "metadata": {},
     "output_type": "display_data"
    },
    {
     "name": "stdout",
     "output_type": "stream",
     "text": [
      "new cost: 5.0963188675774465 | old cost: 5.033000865724351\n",
      "Epoch 244: train=5.09632, val=6.07367, took 86.844 s\n"
     ]
    },
    {
     "data": {
      "application/vnd.jupyter.widget-view+json": {
       "model_id": "",
       "version_major": 2,
       "version_minor": 0
      },
      "text/plain": [
       "HBox(children=(FloatProgress(value=0.0, description='Training', layout=Layout(flex='2'), max=1125.0, style=Pro…"
      ]
     },
     "metadata": {},
     "output_type": "display_data"
    },
    {
     "name": "stdout",
     "output_type": "stream",
     "text": [
      "new cost: 5.0628953319125705 | old cost: 5.0963188675774465\n",
      "Epoch 245: train=5.0629, val=5.62087, took 86.964 s\n"
     ]
    },
    {
     "data": {
      "application/vnd.jupyter.widget-view+json": {
       "model_id": "",
       "version_major": 2,
       "version_minor": 0
      },
      "text/plain": [
       "HBox(children=(FloatProgress(value=0.0, description='Training', layout=Layout(flex='2'), max=1125.0, style=Pro…"
      ]
     },
     "metadata": {},
     "output_type": "display_data"
    },
    {
     "name": "stdout",
     "output_type": "stream",
     "text": [
      "new cost: 5.072955540339152 | old cost: 5.0628953319125705\n",
      "Epoch 246: train=5.07296, val=6.04284, took 86.489 s\n"
     ]
    },
    {
     "data": {
      "application/vnd.jupyter.widget-view+json": {
       "model_id": "",
       "version_major": 2,
       "version_minor": 0
      },
      "text/plain": [
       "HBox(children=(FloatProgress(value=0.0, description='Training', layout=Layout(flex='2'), max=1125.0, style=Pro…"
      ]
     },
     "metadata": {},
     "output_type": "display_data"
    },
    {
     "name": "stdout",
     "output_type": "stream",
     "text": [
      "new cost: 5.0383899154663085 | old cost: 5.072955540339152\n",
      "Epoch 247: train=5.03839, val=5.68888, took 87.188 s\n"
     ]
    },
    {
     "data": {
      "application/vnd.jupyter.widget-view+json": {
       "model_id": "",
       "version_major": 2,
       "version_minor": 0
      },
      "text/plain": [
       "HBox(children=(FloatProgress(value=0.0, description='Training', layout=Layout(flex='2'), max=1125.0, style=Pro…"
      ]
     },
     "metadata": {},
     "output_type": "display_data"
    },
    {
     "name": "stdout",
     "output_type": "stream",
     "text": [
      "new cost: 5.046284695095486 | old cost: 5.0383899154663085\n",
      "Epoch 248: train=5.04628, val=5.65012, took 86.727 s\n"
     ]
    },
    {
     "data": {
      "application/vnd.jupyter.widget-view+json": {
       "model_id": "",
       "version_major": 2,
       "version_minor": 0
      },
      "text/plain": [
       "HBox(children=(FloatProgress(value=0.0, description='Training', layout=Layout(flex='2'), max=1125.0, style=Pro…"
      ]
     },
     "metadata": {},
     "output_type": "display_data"
    },
    {
     "name": "stdout",
     "output_type": "stream",
     "text": [
      "new cost: 5.046909816106161 | old cost: 5.046284695095486\n",
      "Epoch 249: train=5.04691, val=5.59954, took 86.481 s\n"
     ]
    },
    {
     "data": {
      "application/vnd.jupyter.widget-view+json": {
       "model_id": "",
       "version_major": 2,
       "version_minor": 0
      },
      "text/plain": [
       "HBox(children=(FloatProgress(value=0.0, description='Training', layout=Layout(flex='2'), max=1125.0, style=Pro…"
      ]
     },
     "metadata": {},
     "output_type": "display_data"
    },
    {
     "name": "stdout",
     "output_type": "stream",
     "text": [
      "new cost: 5.01318877029419 | old cost: 5.046909816106161\n",
      "Epoch 250: train=5.01319, val=5.62056, took 86.698 s\n"
     ]
    },
    {
     "data": {
      "application/vnd.jupyter.widget-view+json": {
       "model_id": "",
       "version_major": 2,
       "version_minor": 0
      },
      "text/plain": [
       "HBox(children=(FloatProgress(value=0.0, description='Training', layout=Layout(flex='2'), max=1125.0, style=Pro…"
      ]
     },
     "metadata": {},
     "output_type": "display_data"
    },
    {
     "name": "stdout",
     "output_type": "stream",
     "text": [
      "new cost: 5.028868933783637 | old cost: 5.01318877029419\n",
      "Epoch 251: train=5.02887, val=5.58111, took 86.681 s\n"
     ]
    },
    {
     "data": {
      "application/vnd.jupyter.widget-view+json": {
       "model_id": "",
       "version_major": 2,
       "version_minor": 0
      },
      "text/plain": [
       "HBox(children=(FloatProgress(value=0.0, description='Training', layout=Layout(flex='2'), max=1125.0, style=Pro…"
      ]
     },
     "metadata": {},
     "output_type": "display_data"
    },
    {
     "name": "stdout",
     "output_type": "stream",
     "text": [
      "new cost: 5.0539768274095325 | old cost: 5.028868933783637\n",
      "Epoch 252: train=5.05398, val=5.6508, took 88.158 s\n"
     ]
    },
    {
     "data": {
      "application/vnd.jupyter.widget-view+json": {
       "model_id": "",
       "version_major": 2,
       "version_minor": 0
      },
      "text/plain": [
       "HBox(children=(FloatProgress(value=0.0, description='Training', layout=Layout(flex='2'), max=1125.0, style=Pro…"
      ]
     },
     "metadata": {},
     "output_type": "display_data"
    },
    {
     "name": "stdout",
     "output_type": "stream",
     "text": [
      "new cost: 5.0415468300713435 | old cost: 5.0539768274095325\n",
      "Epoch 253: train=5.04155, val=5.90497, took 87.115 s\n"
     ]
    },
    {
     "data": {
      "application/vnd.jupyter.widget-view+json": {
       "model_id": "",
       "version_major": 2,
       "version_minor": 0
      },
      "text/plain": [
       "HBox(children=(FloatProgress(value=0.0, description='Training', layout=Layout(flex='2'), max=1125.0, style=Pro…"
      ]
     },
     "metadata": {},
     "output_type": "display_data"
    },
    {
     "name": "stdout",
     "output_type": "stream",
     "text": [
      "new cost: 5.029376925150554 | old cost: 5.0415468300713435\n",
      "Epoch 254: train=5.02938, val=5.79369, took 87.797 s\n"
     ]
    }
   ],
   "source": [
    "for result in carefultrainNet(model, optimizer, loss,\n",
    "                        train_loader, val_loader,\n",
    "                        n_epochs, epoch_start=len(results),\n",
    "                        loss_increase_limit = 0.02, lr_factor = 0.8,\n",
    "                        notebook=True):\n",
    "    \n",
    "    results = results.append(pd.Series(result._asdict()), ignore_index=True)\n",
    "    xs = results.index\n",
    "    \n",
    "    # Update the plot above\n",
    "    lines['train'].set_data(results.index,results.cost)\n",
    "    lines['val'].set_data(results.index,results.val)\n",
    "    \n",
    "    #filter first cost epoch (can be really large)\n",
    "    max_cost = max(max(results.cost if len(results.cost)<2 else results.cost[1:]), max(results.val))\n",
    "    min_cost = min(min(results.cost), min(results.val))\n",
    "    \n",
    "    # The plot limits need updating too\n",
    "    \n",
    "    \n",
    "    \n",
    "    ax.set_ylim(min_cost*.9, max_cost*1.1)  \n",
    "    ax.set_xlim(-.5, len(results.cost) - .5)\n",
    "\n",
    "    \n",
    "    # Redraw the figure\n",
    "    fig.canvas.draw()\n",
    "\n",
    "    # Save each model state dictionary\n",
    "    torch.save(model.state_dict(), output / f'{name}_{result.epoch}.pyt')\n",
    "    #mine\n",
    "    param_states.append(get_param_state(model))"
   ]
  },
  {
   "cell_type": "markdown",
   "metadata": {},
   "source": [
    "Go ahead and save the final model (even though it was also saved above):"
   ]
  },
  {
   "cell_type": "code",
   "execution_count": null,
   "metadata": {},
   "outputs": [],
   "source": [
    "torch.save(model.state_dict(), output / f'{name}_final.pyt')"
   ]
  },
  {
   "cell_type": "markdown",
   "metadata": {},
   "source": [
    "Save the output results:"
   ]
  },
  {
   "cell_type": "code",
   "execution_count": null,
   "metadata": {},
   "outputs": [],
   "source": [
    "results.to_hdf(f'{name}_stats.hdf5', 'results')"
   ]
  },
  {
   "cell_type": "markdown",
   "metadata": {},
   "source": [
    "Save the plot above:"
   ]
  },
  {
   "cell_type": "code",
   "execution_count": null,
   "metadata": {},
   "outputs": [],
   "source": [
    "dual_train_plots(results.index,\n",
    "                 results.cost, results.val,\n",
    "                 results.cost, results.val)\n",
    "plt.tight_layout()\n",
    "plt.savefig(str(output / f'{name}_stats_a.png'))"
   ]
  },
  {
   "cell_type": "code",
   "execution_count": null,
   "metadata": {},
   "outputs": [],
   "source": [
    "from functions.utils import state_dict_to_vector\n",
    "def angle_between(a, b):\n",
    "    return np.arccos(np.dot(a, b)/(np.linalg.norm(a)*np.linalg.norm(b)))\n",
    "\n",
    "angle_grids = []\n",
    "grid_size = 25\n",
    "num_epochs = n_epochs\n",
    "num_epochs2 = 0\n",
    "\n",
    "ep_intervals = [(np.arange(0, num_epochs+num_epochs2+1, grid_size)[i], np.arange(0, num_epochs+num_epochs2+1, grid_size)[i+1]) for i in range(len(np.arange(0, num_epochs+num_epochs2+1, grid_size))-1)]\n",
    "\n",
    "for interval in ep_intervals:\n",
    "    \n",
    "    these_param_states = []\n",
    "    for i in range(interval[0], interval[1]):\n",
    "        if i % 100 == 0:\n",
    "            print(i)\n",
    "        these_param_states.append(param_states[i])\n",
    "        #print(\"Loaded\", file_names[i])\n",
    "        \n",
    "    interval_size = len(these_param_states)-1    \n",
    "    these_steps = [these_param_states[i+1]-these_param_states[i] for i in range(interval_size)]\n",
    "    \n",
    "    this_angle_grid = np.zeros((interval_size, interval_size))\n",
    "    \n",
    "    for i in range(interval_size):\n",
    "        for j in range(i+1, interval_size):#range(i+1, interval_size):\n",
    "            angle = angle_between(these_steps[i], these_steps[j])\n",
    "            this_angle_grid[i,j] = angle\n",
    "            this_angle_grid[j,i] = angle\n",
    "            \n",
    "    angle_grids.append(this_angle_grid)"
   ]
  },
  {
   "cell_type": "code",
   "execution_count": null,
   "metadata": {
    "scrolled": true
   },
   "outputs": [],
   "source": [
    "import matplotlib.colors as colors\n",
    "import matplotlib.cm as cm\n",
    "\n",
    "for angle_grid in angle_grids:\n",
    "    plt.figure(figsize=(12,8))\n",
    "    norm = colors.Normalize(vmin=np.amin(angle_grid), vmax=np.amax(angle_grid))   \n",
    "    plt.imshow(angle_grid, cmap=cm.jet)\n",
    "    plt.colorbar(cm.ScalarMappable(norm=norm, cmap=cm.jet))\n",
    "    plt.xlabel('Step i')\n",
    "    plt.ylabel('Step j')\n",
    "    \n",
    "#print(\"num params:\", len(these_param_states[0]))"
   ]
  },
  {
   "cell_type": "code",
   "execution_count": null,
   "metadata": {},
   "outputs": [],
   "source": [
    "from functions.plotting_DDplus_hists import load_data\n",
    "from functions.utils import vector_to_state_dict\n",
    "\n",
    "state_dicts = []\n",
    "# num_epochs = 500\n",
    "for i in np.arange(0, num_epochs, 10):\n",
    "    state_dicts.append( (i, vector_to_state_dict(param_states[i], model)) )\n",
    "\n",
    "data = load_data()"
   ]
  },
  {
   "cell_type": "code",
   "execution_count": null,
   "metadata": {
    "scrolled": true
   },
   "outputs": [],
   "source": [
    "from functions.plotting_DDplus_hists import plot_DDplus_hists as Plot\n",
    "Plot(state_dicts, data)"
   ]
  },
  {
   "cell_type": "code",
   "execution_count": null,
   "metadata": {},
   "outputs": [],
   "source": []
  }
 ],
 "metadata": {
  "kernelspec": {
   "display_name": "goofit-june2020",
   "language": "python",
   "name": "goofit-june2020"
  },
  "language_info": {
   "codemirror_mode": {
    "name": "ipython",
    "version": 3
   },
   "file_extension": ".py",
   "mimetype": "text/x-python",
   "name": "python",
   "nbconvert_exporter": "python",
   "pygments_lexer": "ipython3",
   "version": "3.7.6"
  }
 },
 "nbformat": 4,
 "nbformat_minor": 2
}
